{
 "cells": [
  {
   "cell_type": "code",
   "execution_count": 1,
   "id": "70cb99ce",
   "metadata": {},
   "outputs": [
    {
     "ename": "ValueError",
     "evalue": "All ufuncs must have type `numpy.ufunc`. Received (<ufunc 'sph_legendre_p'>, <ufunc 'sph_legendre_p'>, <ufunc 'sph_legendre_p'>)",
     "output_type": "error",
     "traceback": [
      "\u001b[31m---------------------------------------------------------------------------\u001b[39m",
      "\u001b[31mValueError\u001b[39m                                Traceback (most recent call last)",
      "\u001b[36mCell\u001b[39m\u001b[36m \u001b[39m\u001b[32mIn[1]\u001b[39m\u001b[32m, line 1\u001b[39m\n\u001b[32m----> \u001b[39m\u001b[32m1\u001b[39m \u001b[38;5;28;01mfrom\u001b[39;00m\u001b[38;5;250m \u001b[39m\u001b[34;01mcompile_individual_mol_structures\u001b[39;00m\u001b[38;5;250m \u001b[39m\u001b[38;5;28;01mimport\u001b[39;00m run_alignment\n\u001b[32m      2\u001b[39m \u001b[38;5;28;01mfrom\u001b[39;00m\u001b[38;5;250m \u001b[39m\u001b[34;01mMDAnalysis\u001b[39;00m\u001b[34;01m.\u001b[39;00m\u001b[34;01manalysis\u001b[39;00m\u001b[38;5;250m \u001b[39m\u001b[38;5;28;01mimport\u001b[39;00m rms\n\u001b[32m      3\u001b[39m \u001b[38;5;28;01mimport\u001b[39;00m\u001b[38;5;250m \u001b[39m\u001b[34;01mMDAnalysis\u001b[39;00m\u001b[38;5;250m \u001b[39m\u001b[38;5;28;01mas\u001b[39;00m\u001b[38;5;250m \u001b[39m\u001b[34;01mmda\u001b[39;00m \n",
      "\u001b[36mFile \u001b[39m\u001b[32m/nfs/turbo/umms-maom/ymanasa/opt/boltz_benchmark/scripts/compile_individual_mol_structures.py:6\u001b[39m\n\u001b[32m      4\u001b[39m \u001b[38;5;28;01mimport\u001b[39;00m\u001b[38;5;250m \u001b[39m\u001b[34;01mtempfile\u001b[39;00m\n\u001b[32m      5\u001b[39m \u001b[38;5;28;01mimport\u001b[39;00m\u001b[38;5;250m \u001b[39m\u001b[34;01mgemmi\u001b[39;00m\n\u001b[32m----> \u001b[39m\u001b[32m6\u001b[39m \u001b[38;5;28;01mimport\u001b[39;00m\u001b[38;5;250m \u001b[39m\u001b[34;01mmdtraj\u001b[39;00m\u001b[38;5;250m \u001b[39m\u001b[38;5;28;01mas\u001b[39;00m\u001b[38;5;250m \u001b[39m\u001b[34;01mmd\u001b[39;00m\n\u001b[32m      7\u001b[39m \u001b[38;5;28;01mimport\u001b[39;00m\u001b[38;5;250m \u001b[39m\u001b[34;01mre\u001b[39;00m\n\u001b[32m      9\u001b[39m \u001b[38;5;28;01mdef\u001b[39;00m\u001b[38;5;250m \u001b[39m\u001b[34mparse_args\u001b[39m():\n",
      "\u001b[36mFile \u001b[39m\u001b[32m~/turbo/ymanasa/miniconda3/envs/boltz_analysis_env/lib/python3.12/site-packages/mdtraj/__init__.py:116\u001b[39m\n\u001b[32m    104\u001b[39m \u001b[38;5;28;01mfrom\u001b[39;00m\u001b[38;5;250m \u001b[39m\u001b[34;01mmdtraj\u001b[39;00m\u001b[34;01m.\u001b[39;00m\u001b[34;01mnmr\u001b[39;00m\u001b[38;5;250m \u001b[39m\u001b[38;5;28;01mimport\u001b[39;00m (\n\u001b[32m    105\u001b[39m     chemical_shifts_ppm,\n\u001b[32m    106\u001b[39m     chemical_shifts_shiftx2,\n\u001b[32m   (...)\u001b[39m\u001b[32m    112\u001b[39m     reindex_dataframe_by_atoms,\n\u001b[32m    113\u001b[39m )\n\u001b[32m    115\u001b[39m \u001b[38;5;28;01mfrom\u001b[39;00m\u001b[38;5;250m \u001b[39m\u001b[34;01m.\u001b[39;00m\u001b[38;5;250m \u001b[39m\u001b[38;5;28;01mimport\u001b[39;00m reporters\n\u001b[32m--> \u001b[39m\u001b[32m116\u001b[39m \u001b[38;5;28;01mfrom\u001b[39;00m\u001b[38;5;250m \u001b[39m\u001b[34;01m.\u001b[39;00m\u001b[34;01m_lprmsd\u001b[39;00m\u001b[38;5;250m \u001b[39m\u001b[38;5;28;01mimport\u001b[39;00m lprmsd\n\u001b[32m    117\u001b[39m \u001b[38;5;28;01mfrom\u001b[39;00m\u001b[38;5;250m \u001b[39m\u001b[34;01m.\u001b[39;00m\u001b[34;01m_rmsd\u001b[39;00m\u001b[38;5;250m \u001b[39m\u001b[38;5;28;01mimport\u001b[39;00m rmsd, rmsf\n\u001b[32m    119\u001b[39m \u001b[38;5;28;01mfrom\u001b[39;00m\u001b[38;5;250m \u001b[39m\u001b[34;01m.\u001b[39;00m\u001b[38;5;250m \u001b[39m\u001b[38;5;28;01mimport\u001b[39;00m _version\n",
      "\u001b[36mFile \u001b[39m\u001b[32mmdtraj/rmsd/_lprmsd.pyx:29\u001b[39m, in \u001b[36minit mdtraj._lprmsd\u001b[39m\u001b[34m()\u001b[39m\n",
      "\u001b[36mFile \u001b[39m\u001b[32m~/turbo/ymanasa/miniconda3/envs/boltz_analysis_env/lib/python3.12/site-packages/scipy/spatial/__init__.py:116\u001b[39m\n\u001b[32m    114\u001b[39m \u001b[38;5;28;01mfrom\u001b[39;00m\u001b[38;5;250m \u001b[39m\u001b[34;01m.\u001b[39;00m\u001b[34;01m_plotutils\u001b[39;00m\u001b[38;5;250m \u001b[39m\u001b[38;5;28;01mimport\u001b[39;00m *\n\u001b[32m    115\u001b[39m \u001b[38;5;28;01mfrom\u001b[39;00m\u001b[38;5;250m \u001b[39m\u001b[34;01m.\u001b[39;00m\u001b[34;01m_procrustes\u001b[39;00m\u001b[38;5;250m \u001b[39m\u001b[38;5;28;01mimport\u001b[39;00m procrustes\n\u001b[32m--> \u001b[39m\u001b[32m116\u001b[39m \u001b[38;5;28;01mfrom\u001b[39;00m\u001b[38;5;250m \u001b[39m\u001b[34;01m.\u001b[39;00m\u001b[34;01m_geometric_slerp\u001b[39;00m\u001b[38;5;250m \u001b[39m\u001b[38;5;28;01mimport\u001b[39;00m geometric_slerp\n\u001b[32m    118\u001b[39m \u001b[38;5;66;03m# Deprecated namespaces, to be removed in v2.0.0\u001b[39;00m\n\u001b[32m    119\u001b[39m \u001b[38;5;28;01mfrom\u001b[39;00m\u001b[38;5;250m \u001b[39m\u001b[34;01m.\u001b[39;00m\u001b[38;5;250m \u001b[39m\u001b[38;5;28;01mimport\u001b[39;00m ckdtree, kdtree, qhull\n",
      "\u001b[36mFile \u001b[39m\u001b[32m~/turbo/ymanasa/miniconda3/envs/boltz_analysis_env/lib/python3.12/site-packages/scipy/spatial/_geometric_slerp.py:7\u001b[39m\n\u001b[32m      4\u001b[39m \u001b[38;5;28;01mfrom\u001b[39;00m\u001b[38;5;250m \u001b[39m\u001b[34;01mtyping\u001b[39;00m\u001b[38;5;250m \u001b[39m\u001b[38;5;28;01mimport\u001b[39;00m TYPE_CHECKING\n\u001b[32m      6\u001b[39m \u001b[38;5;28;01mimport\u001b[39;00m\u001b[38;5;250m \u001b[39m\u001b[34;01mnumpy\u001b[39;00m\u001b[38;5;250m \u001b[39m\u001b[38;5;28;01mas\u001b[39;00m\u001b[38;5;250m \u001b[39m\u001b[34;01mnp\u001b[39;00m\n\u001b[32m----> \u001b[39m\u001b[32m7\u001b[39m \u001b[38;5;28;01mfrom\u001b[39;00m\u001b[38;5;250m \u001b[39m\u001b[34;01mscipy\u001b[39;00m\u001b[34;01m.\u001b[39;00m\u001b[34;01mspatial\u001b[39;00m\u001b[34;01m.\u001b[39;00m\u001b[34;01mdistance\u001b[39;00m\u001b[38;5;250m \u001b[39m\u001b[38;5;28;01mimport\u001b[39;00m euclidean\n\u001b[32m      9\u001b[39m \u001b[38;5;28;01mif\u001b[39;00m TYPE_CHECKING:\n\u001b[32m     10\u001b[39m     \u001b[38;5;28;01mimport\u001b[39;00m\u001b[38;5;250m \u001b[39m\u001b[34;01mnumpy\u001b[39;00m\u001b[34;01m.\u001b[39;00m\u001b[34;01mtyping\u001b[39;00m\u001b[38;5;250m \u001b[39m\u001b[38;5;28;01mas\u001b[39;00m\u001b[38;5;250m \u001b[39m\u001b[34;01mnpt\u001b[39;00m\n",
      "\u001b[36mFile \u001b[39m\u001b[32m~/turbo/ymanasa/miniconda3/envs/boltz_analysis_env/lib/python3.12/site-packages/scipy/spatial/distance.py:121\u001b[39m\n\u001b[32m    119\u001b[39m \u001b[38;5;28;01mfrom\u001b[39;00m\u001b[38;5;250m \u001b[39m\u001b[34;01m.\u001b[39;00m\u001b[38;5;250m \u001b[39m\u001b[38;5;28;01mimport\u001b[39;00m _hausdorff\n\u001b[32m    120\u001b[39m \u001b[38;5;28;01mfrom\u001b[39;00m\u001b[38;5;250m \u001b[39m\u001b[34;01m.\u001b[39;00m\u001b[34;01m.\u001b[39;00m\u001b[34;01mlinalg\u001b[39;00m\u001b[38;5;250m \u001b[39m\u001b[38;5;28;01mimport\u001b[39;00m norm\n\u001b[32m--> \u001b[39m\u001b[32m121\u001b[39m \u001b[38;5;28;01mfrom\u001b[39;00m\u001b[38;5;250m \u001b[39m\u001b[34;01m.\u001b[39;00m\u001b[34;01m.\u001b[39;00m\u001b[34;01mspecial\u001b[39;00m\u001b[38;5;250m \u001b[39m\u001b[38;5;28;01mimport\u001b[39;00m rel_entr\n\u001b[32m    123\u001b[39m \u001b[38;5;28;01mfrom\u001b[39;00m\u001b[38;5;250m \u001b[39m\u001b[34;01m.\u001b[39;00m\u001b[38;5;250m \u001b[39m\u001b[38;5;28;01mimport\u001b[39;00m _distance_pybind\n\u001b[32m    126\u001b[39m \u001b[38;5;28;01mdef\u001b[39;00m\u001b[38;5;250m \u001b[39m\u001b[34m_copy_array_if_base_present\u001b[39m(a):\n",
      "\u001b[36mFile \u001b[39m\u001b[32m~/turbo/ymanasa/miniconda3/envs/boltz_analysis_env/lib/python3.12/site-packages/scipy/special/__init__.py:826\u001b[39m\n\u001b[32m    820\u001b[39m \u001b[38;5;66;03m# Replace some function definitions from _ufuncs to add Array API support\u001b[39;00m\n\u001b[32m    821\u001b[39m \u001b[38;5;28;01mfrom\u001b[39;00m\u001b[38;5;250m \u001b[39m\u001b[34;01m.\u001b[39;00m\u001b[34;01m_support_alternative_backends\u001b[39;00m\u001b[38;5;250m \u001b[39m\u001b[38;5;28;01mimport\u001b[39;00m (\n\u001b[32m    822\u001b[39m     log_ndtr, ndtr, ndtri, erf, erfc, i0, i0e, i1, i1e, gammaln,\n\u001b[32m    823\u001b[39m     gammainc, gammaincc, logit, expit, entr, rel_entr, xlogy,\n\u001b[32m    824\u001b[39m     chdtr, chdtrc, betainc, betaincc, stdtr)\n\u001b[32m--> \u001b[39m\u001b[32m826\u001b[39m \u001b[38;5;28;01mfrom\u001b[39;00m\u001b[38;5;250m \u001b[39m\u001b[34;01m.\u001b[39;00m\u001b[38;5;250m \u001b[39m\u001b[38;5;28;01mimport\u001b[39;00m _basic\n\u001b[32m    827\u001b[39m \u001b[38;5;28;01mfrom\u001b[39;00m\u001b[38;5;250m \u001b[39m\u001b[34;01m.\u001b[39;00m\u001b[34;01m_basic\u001b[39;00m\u001b[38;5;250m \u001b[39m\u001b[38;5;28;01mimport\u001b[39;00m *\n\u001b[32m    829\u001b[39m \u001b[38;5;28;01mfrom\u001b[39;00m\u001b[38;5;250m \u001b[39m\u001b[34;01m.\u001b[39;00m\u001b[34;01m_logsumexp\u001b[39;00m\u001b[38;5;250m \u001b[39m\u001b[38;5;28;01mimport\u001b[39;00m logsumexp, softmax, log_softmax\n",
      "\u001b[36mFile \u001b[39m\u001b[32m~/turbo/ymanasa/miniconda3/envs/boltz_analysis_env/lib/python3.12/site-packages/scipy/special/_basic.py:22\u001b[39m\n\u001b[32m     20\u001b[39m \u001b[38;5;28;01mfrom\u001b[39;00m\u001b[38;5;250m \u001b[39m\u001b[34;01m.\u001b[39;00m\u001b[38;5;250m \u001b[39m\u001b[38;5;28;01mimport\u001b[39;00m _specfun\n\u001b[32m     21\u001b[39m \u001b[38;5;28;01mfrom\u001b[39;00m\u001b[38;5;250m \u001b[39m\u001b[34;01m.\u001b[39;00m\u001b[34;01m_comb\u001b[39;00m\u001b[38;5;250m \u001b[39m\u001b[38;5;28;01mimport\u001b[39;00m _comb_int\n\u001b[32m---> \u001b[39m\u001b[32m22\u001b[39m \u001b[38;5;28;01mfrom\u001b[39;00m\u001b[38;5;250m \u001b[39m\u001b[34;01m.\u001b[39;00m\u001b[34;01m_multiufuncs\u001b[39;00m\u001b[38;5;250m \u001b[39m\u001b[38;5;28;01mimport\u001b[39;00m (assoc_legendre_p_all,\n\u001b[32m     23\u001b[39m                            legendre_p_all)\n\u001b[32m     24\u001b[39m \u001b[38;5;28;01mfrom\u001b[39;00m\u001b[38;5;250m \u001b[39m\u001b[34;01mscipy\u001b[39;00m\u001b[34;01m.\u001b[39;00m\u001b[34;01m_lib\u001b[39;00m\u001b[34;01m.\u001b[39;00m\u001b[34;01mdeprecation\u001b[39;00m\u001b[38;5;250m \u001b[39m\u001b[38;5;28;01mimport\u001b[39;00m _deprecated\n\u001b[32m     27\u001b[39m __all__ = [\n\u001b[32m     28\u001b[39m     \u001b[33m'\u001b[39m\u001b[33mai_zeros\u001b[39m\u001b[33m'\u001b[39m,\n\u001b[32m     29\u001b[39m     \u001b[33m'\u001b[39m\u001b[33massoc_laguerre\u001b[39m\u001b[33m'\u001b[39m,\n\u001b[32m   (...)\u001b[39m\u001b[32m     87\u001b[39m     \u001b[33m'\u001b[39m\u001b[33mzeta\u001b[39m\u001b[33m'\u001b[39m\n\u001b[32m     88\u001b[39m ]\n",
      "\u001b[36mFile \u001b[39m\u001b[32m~/turbo/ymanasa/miniconda3/envs/boltz_analysis_env/lib/python3.12/site-packages/scipy/special/_multiufuncs.py:142\u001b[39m\n\u001b[32m    137\u001b[39m             out = \u001b[38;5;28mself\u001b[39m._finalize_out(out)\n\u001b[32m    139\u001b[39m         \u001b[38;5;28;01mreturn\u001b[39;00m out\n\u001b[32m--> \u001b[39m\u001b[32m142\u001b[39m sph_legendre_p = \u001b[43mMultiUFunc\u001b[49m\u001b[43m(\u001b[49m\n\u001b[32m    143\u001b[39m \u001b[43m    \u001b[49m\u001b[43msph_legendre_p\u001b[49m\u001b[43m,\u001b[49m\n\u001b[32m    144\u001b[39m \u001b[38;5;250;43m    \u001b[39;49m\u001b[33;43mr\u001b[39;49m\u001b[33;43;03m\"\"\"sph_legendre_p(n, m, theta, *, diff_n=0)\u001b[39;49;00m\n\u001b[32m    145\u001b[39m \n\u001b[32m    146\u001b[39m \u001b[33;43;03m    Spherical Legendre polynomial of the first kind.\u001b[39;49;00m\n\u001b[32m    147\u001b[39m \n\u001b[32m    148\u001b[39m \u001b[33;43;03m    Parameters\u001b[39;49;00m\n\u001b[32m    149\u001b[39m \u001b[33;43;03m    ----------\u001b[39;49;00m\n\u001b[32m    150\u001b[39m \u001b[33;43;03m    n : ArrayLike[int]\u001b[39;49;00m\n\u001b[32m    151\u001b[39m \u001b[33;43;03m        Degree of the spherical Legendre polynomial. Must have ``n >= 0``.\u001b[39;49;00m\n\u001b[32m    152\u001b[39m \u001b[33;43;03m    m : ArrayLike[int]\u001b[39;49;00m\n\u001b[32m    153\u001b[39m \u001b[33;43;03m        Order of the spherical Legendre polynomial.\u001b[39;49;00m\n\u001b[32m    154\u001b[39m \u001b[33;43;03m    theta : ArrayLike[float]\u001b[39;49;00m\n\u001b[32m    155\u001b[39m \u001b[33;43;03m        Input value.\u001b[39;49;00m\n\u001b[32m    156\u001b[39m \u001b[33;43;03m    diff_n : Optional[int]\u001b[39;49;00m\n\u001b[32m    157\u001b[39m \u001b[33;43;03m        A non-negative integer. Compute and return all derivatives up\u001b[39;49;00m\n\u001b[32m    158\u001b[39m \u001b[33;43;03m        to order ``diff_n``. Default is 0.\u001b[39;49;00m\n\u001b[32m    159\u001b[39m \n\u001b[32m    160\u001b[39m \u001b[33;43;03m    Returns\u001b[39;49;00m\n\u001b[32m    161\u001b[39m \u001b[33;43;03m    -------\u001b[39;49;00m\n\u001b[32m    162\u001b[39m \u001b[33;43;03m    p : ndarray or tuple[ndarray]\u001b[39;49;00m\n\u001b[32m    163\u001b[39m \u001b[33;43;03m        Spherical Legendre polynomial with ``diff_n`` derivatives.\u001b[39;49;00m\n\u001b[32m    164\u001b[39m \n\u001b[32m    165\u001b[39m \u001b[33;43;03m    Notes\u001b[39;49;00m\n\u001b[32m    166\u001b[39m \u001b[33;43;03m    -----\u001b[39;49;00m\n\u001b[32m    167\u001b[39m \u001b[33;43;03m    The spherical counterpart of an (unnormalized) associated Legendre polynomial has\u001b[39;49;00m\n\u001b[32m    168\u001b[39m \u001b[33;43;03m    the additional factor\u001b[39;49;00m\n\u001b[32m    169\u001b[39m \n\u001b[32m    170\u001b[39m \u001b[33;43;03m    .. math::\u001b[39;49;00m\n\u001b[32m    171\u001b[39m \n\u001b[32m    172\u001b[39m \u001b[33;43;03m        \\sqrt{\\frac{(2 n + 1) (n - m)!}{4 \\pi (n + m)!}}\u001b[39;49;00m\n\u001b[32m    173\u001b[39m \n\u001b[32m    174\u001b[39m \u001b[33;43;03m    It is the same as the spherical harmonic :math:`Y_{n}^{m}(\\theta, \\phi)`\u001b[39;49;00m\n\u001b[32m    175\u001b[39m \u001b[33;43;03m    with :math:`\\phi = 0`.\u001b[39;49;00m\n\u001b[32m    176\u001b[39m \u001b[33;43;03m    \"\"\"\u001b[39;49;00m\u001b[43m,\u001b[49m\u001b[43m \u001b[49m\u001b[43mdiff_n\u001b[49m\u001b[43m=\u001b[49m\u001b[32;43m0\u001b[39;49m\n\u001b[32m    177\u001b[39m \u001b[43m)\u001b[49m\n\u001b[32m    180\u001b[39m \u001b[38;5;129m@sph_legendre_p\u001b[39m._override_key\n\u001b[32m    181\u001b[39m \u001b[38;5;28;01mdef\u001b[39;00m\u001b[38;5;250m \u001b[39m\u001b[34m_\u001b[39m(diff_n):\n\u001b[32m    182\u001b[39m     diff_n = _nonneg_int_or_fail(diff_n, \u001b[33m\"\u001b[39m\u001b[33mdiff_n\u001b[39m\u001b[33m\"\u001b[39m, strict=\u001b[38;5;28;01mFalse\u001b[39;00m)\n",
      "\u001b[36mFile \u001b[39m\u001b[32m~/turbo/ymanasa/miniconda3/envs/boltz_analysis_env/lib/python3.12/site-packages/scipy/special/_multiufuncs.py:41\u001b[39m, in \u001b[36mMultiUFunc.__init__\u001b[39m\u001b[34m(self, ufunc_or_ufuncs, doc, force_complex_output, **default_kwargs)\u001b[39m\n\u001b[32m     39\u001b[39m \u001b[38;5;28;01mfor\u001b[39;00m ufunc \u001b[38;5;129;01min\u001b[39;00m ufuncs_iter:\n\u001b[32m     40\u001b[39m     \u001b[38;5;28;01mif\u001b[39;00m \u001b[38;5;129;01mnot\u001b[39;00m \u001b[38;5;28misinstance\u001b[39m(ufunc, np.ufunc):\n\u001b[32m---> \u001b[39m\u001b[32m41\u001b[39m         \u001b[38;5;28;01mraise\u001b[39;00m \u001b[38;5;167;01mValueError\u001b[39;00m(\u001b[33m\"\u001b[39m\u001b[33mAll ufuncs must have type `numpy.ufunc`.\u001b[39m\u001b[33m\"\u001b[39m\n\u001b[32m     42\u001b[39m                          \u001b[33mf\u001b[39m\u001b[33m\"\u001b[39m\u001b[33m Received \u001b[39m\u001b[38;5;132;01m{\u001b[39;00mufunc_or_ufuncs\u001b[38;5;132;01m}\u001b[39;00m\u001b[33m\"\u001b[39m)\n\u001b[32m     43\u001b[39m     seen_input_types.add(\u001b[38;5;28mfrozenset\u001b[39m(x.split(\u001b[33m\"\u001b[39m\u001b[33m->\u001b[39m\u001b[33m\"\u001b[39m)[\u001b[32m0\u001b[39m] \u001b[38;5;28;01mfor\u001b[39;00m x \u001b[38;5;129;01min\u001b[39;00m ufunc.types))\n\u001b[32m     44\u001b[39m \u001b[38;5;28;01mif\u001b[39;00m \u001b[38;5;28mlen\u001b[39m(seen_input_types) > \u001b[32m1\u001b[39m:\n",
      "\u001b[31mValueError\u001b[39m: All ufuncs must have type `numpy.ufunc`. Received (<ufunc 'sph_legendre_p'>, <ufunc 'sph_legendre_p'>, <ufunc 'sph_legendre_p'>)"
     ]
    }
   ],
   "source": [
    "from compile_individual_mol_structures import run_alignment\n",
    "from MDAnalysis.analysis import rms\n",
    "import MDAnalysis as mda \n",
    "from Bio.PDB import PDBParser, Superimposer\n",
    "from Bio.PDB.vectors import calc_angle\n"
   ]
  },
  {
   "cell_type": "code",
   "execution_count": null,
   "id": "24c5bc1c",
   "metadata": {},
   "outputs": [],
   "source": []
  },
  {
   "cell_type": "code",
   "execution_count": null,
   "id": "2cdbdc44",
   "metadata": {},
   "outputs": [],
   "source": [
    "u1 = mda.Universe(\"/home/ymanasa/turbo/ymanasa/opt/boltz/boltz_results_5MAJ/predictions/5MAJ/5MAJ.pdb\")       # reference structure\n",
    "u2 = mda.Universe(\"/home/ymanasa/turbo/ymanasa/opt/boltz/boltz_results_5MAJ/predictions/5MAJ/aligned_pred_orig.pdb\")   # structure to compare\n",
    "\n",
    "# Select atoms (must match in number and order)\n",
    "sel = \"protein and name CA\"\n",
    "atoms1 = u1.select_atoms(sel)\n",
    "atoms2 = u2.select_atoms(sel)"
   ]
  },
  {
   "cell_type": "code",
   "execution_count": null,
   "id": "33843f77",
   "metadata": {},
   "outputs": [
    {
     "name": "stdout",
     "output_type": "stream",
     "text": [
      "1: ALA1 - CA\n",
      "6: PRO2 - CA\n",
      "13: ARG3 - CA\n",
      "25: SER4 - CA\n",
      "26: SER4 - CA\n",
      "36: VAL5 - CA\n",
      "43: ASP6 - CA\n",
      "51: TRP7 - CA\n",
      "65: ARG8 - CA\n",
      "76: GLU9 - CA\n",
      "85: LYS10 - CA\n",
      "94: GLY11 - CA\n",
      "98: TYR12 - CA\n",
      "110: VAL13 - CA\n",
      "117: THR14 - CA\n",
      "124: PRO15 - CA\n",
      "131: VAL16 - CA\n",
      "138: LYS17 - CA\n",
      "147: ASN18 - CA\n",
      "155: GLN19 - CA\n",
      "164: GLY20 - CA\n",
      "168: GLN21 - CA\n",
      "169: GLN21 - CA\n",
      "183: CYS22 - CA\n",
      "189: GLY23 - CA\n",
      "193: SER24 - CA\n",
      "199: CYS25 - CA\n",
      "205: TRP26 - CA\n",
      "219: ALA27 - CA\n",
      "224: PHE28 - CA\n",
      "235: SER29 - CA\n",
      "241: ALA30 - CA\n",
      "246: THR31 - CA\n",
      "253: GLY32 - CA\n",
      "257: ALA33 - CA\n",
      "263: LEU34 - CA\n",
      "264: LEU34 - CA\n",
      "278: GLU35 - CA\n",
      "287: GLY36 - CA\n",
      "291: GLN37 - CA\n",
      "300: MET38 - CA\n",
      "308: PHE39 - CA\n",
      "319: ARG40 - CA\n",
      "330: LYS41 - CA\n",
      "339: THR42 - CA\n",
      "346: GLY43 - CA\n",
      "350: ARG44 - CA\n",
      "361: LEU45 - CA\n",
      "369: ILE46 - CA\n",
      "377: SER47 - CA\n",
      "383: LEU48 - CA\n",
      "391: SER49 - CA\n",
      "397: GLU50 - CA\n",
      "406: GLN51 - CA\n",
      "415: ASN52 - CA\n",
      "423: LEU53 - CA\n",
      "431: VAL54 - CA\n",
      "438: ASP55 - CA\n",
      "446: CYS56 - CA\n",
      "452: SER57 - CA\n",
      "458: GLY58 - CA\n",
      "462: PRO59 - CA\n",
      "469: GLN60 - CA\n",
      "478: GLY61 - CA\n",
      "482: ASN62 - CA\n",
      "490: GLU63 - CA\n",
      "499: GLY64 - CA\n",
      "503: CYS65 - CA\n",
      "509: ASN66 - CA\n",
      "517: GLY67 - CA\n",
      "521: GLY68 - CA\n",
      "525: LEU69 - CA\n",
      "533: MET70 - CA\n",
      "541: ASP71 - CA\n",
      "549: TYR72 - CA\n",
      "561: ALA73 - CA\n",
      "566: PHE74 - CA\n",
      "577: GLN75 - CA\n",
      "586: TYR76 - CA\n",
      "598: VAL77 - CA\n",
      "605: GLN78 - CA\n",
      "614: ASP79 - CA\n",
      "622: ASN80 - CA\n",
      "630: GLY81 - CA\n",
      "634: GLY82 - CA\n",
      "638: LEU83 - CA\n",
      "646: ASP84 - CA\n",
      "654: SER85 - CA\n",
      "660: GLU86 - CA\n",
      "669: GLU87 - CA\n",
      "678: SER88 - CA\n",
      "684: TYR89 - CA\n",
      "696: PRO90 - CA\n",
      "703: TYR91 - CA\n",
      "715: GLU92 - CA\n",
      "724: ALA93 - CA\n",
      "729: THR94 - CA\n",
      "736: GLU95 - CA\n",
      "745: GLU96 - CA\n",
      "754: SER97 - CA\n",
      "760: CYS98 - CA\n",
      "766: LYS99 - CA\n",
      "775: TYR100 - CA\n",
      "787: ASN101 - CA\n",
      "795: PRO102 - CA\n",
      "802: LYS103 - CA\n",
      "811: TYR104 - CA\n",
      "823: SER105 - CA\n",
      "829: VAL106 - CA\n",
      "836: ALA107 - CA\n",
      "841: ASN108 - CA\n",
      "842: ASN108 - CA\n",
      "854: ASP109 - CA\n",
      "862: THR110 - CA\n",
      "869: GLY111 - CA\n",
      "873: PHE112 - CA\n",
      "884: VAL113 - CA\n",
      "891: ASP114 - CA\n",
      "899: ILE115 - CA\n",
      "907: PRO116 - CA\n",
      "914: LYS117 - CA\n",
      "923: GLN118 - CA\n",
      "932: GLU119 - CA\n",
      "941: LYS120 - CA\n",
      "950: ALA121 - CA\n",
      "955: LEU122 - CA\n",
      "963: MET123 - CA\n",
      "971: LYS124 - CA\n",
      "980: ALA125 - CA\n",
      "985: VAL126 - CA\n",
      "992: ALA127 - CA\n",
      "997: THR128 - CA\n",
      "1004: VAL129 - CA\n",
      "1011: GLY130 - CA\n",
      "1015: PRO131 - CA\n",
      "1022: ILE132 - CA\n",
      "1030: SER133 - CA\n",
      "1036: VAL134 - CA\n",
      "1043: ALA135 - CA\n",
      "1048: ILE136 - CA\n",
      "1056: ASP137 - CA\n",
      "1064: ALA138 - CA\n",
      "1069: GLY139 - CA\n",
      "1073: HIS140 - CA\n",
      "1083: GLU141 - CA\n",
      "1092: SER142 - CA\n",
      "1098: PHE143 - CA\n",
      "1109: LEU144 - CA\n",
      "1117: PHE145 - CA\n",
      "1128: TYR146 - CA\n",
      "1140: LYS147 - CA\n",
      "1149: GLU148 - CA\n",
      "1158: GLY149 - CA\n",
      "1162: ILE150 - CA\n",
      "1170: TYR151 - CA\n",
      "1182: PHE152 - CA\n",
      "1193: GLU153 - CA\n",
      "1202: PRO154 - CA\n",
      "1209: ASP155 - CA\n",
      "1217: CYS156 - CA\n",
      "1223: SER157 - CA\n",
      "1229: SER158 - CA\n",
      "1235: GLU159 - CA\n",
      "1244: ASP160 - CA\n",
      "1252: MET161 - CA\n",
      "1260: ASP162 - CA\n",
      "1268: HIS163 - CA\n",
      "1278: GLY164 - CA\n",
      "1282: VAL165 - CA\n",
      "1289: LEU166 - CA\n",
      "1297: VAL167 - CA\n",
      "1304: VAL168 - CA\n",
      "1311: GLY169 - CA\n",
      "1315: TYR170 - CA\n",
      "1327: GLY171 - CA\n",
      "1331: PHE172 - CA\n",
      "1342: GLU173 - CA\n",
      "1351: SER174 - CA\n",
      "1357: THR175 - CA\n",
      "1364: SER177 - CA\n",
      "1370: ASP178 - CA\n",
      "1378: ASN179 - CA\n",
      "1386: ASN180 - CA\n",
      "1394: LYS181 - CA\n",
      "1403: TYR182 - CA\n",
      "1415: TRP183 - CA\n",
      "1429: LEU184 - CA\n",
      "1437: VAL185 - CA\n",
      "1444: LYS186 - CA\n",
      "1453: ASN187 - CA\n",
      "1461: SER188 - CA\n",
      "1467: TRP189 - CA\n",
      "1481: GLY190 - CA\n",
      "1485: GLU191 - CA\n",
      "1494: GLU192 - CA\n",
      "1503: TRP193 - CA\n",
      "1517: GLY194 - CA\n",
      "1521: MET195 - CA\n",
      "1529: GLY196 - CA\n",
      "1533: GLY197 - CA\n",
      "1537: TYR198 - CA\n",
      "1549: VAL199 - CA\n",
      "1557: LYS200 - CA\n",
      "1558: LYS200 - CA\n",
      "1575: MET201 - CA\n",
      "1576: MET201 - CA\n",
      "1590: ALA202 - CA\n",
      "1595: LYS203 - CA\n",
      "1604: ASP204 - CA\n",
      "1612: ARG205 - CA\n",
      "1623: ARG206 - CA\n",
      "1624: ARG206 - CA\n",
      "1638: ASN207 - CA\n",
      "1646: HIS208 - CA\n",
      "1656: CYS209 - CA\n",
      "1662: GLY210 - CA\n",
      "1666: ILE211 - CA\n",
      "1674: ALA212 - CA\n",
      "1679: SER213 - CA\n",
      "1685: ALA214 - CA\n",
      "1690: ALA215 - CA\n",
      "1695: SER216 - CA\n",
      "1701: TYR217 - CA\n",
      "1713: PRO218 - CA\n",
      "1720: THR219 - CA\n",
      "1727: VAL220 - CA\n"
     ]
    }
   ],
   "source": [
    "for atom in atoms1:\n",
    "    print(f\"{atom.index}: {atom.resname}{atom.resid} - {atom.name}\")"
   ]
  },
  {
   "cell_type": "code",
   "execution_count": null,
   "id": "6ed840f0",
   "metadata": {},
   "outputs": [],
   "source": [
    "import numpy as np"
   ]
  },
  {
   "cell_type": "code",
   "execution_count": null,
   "id": "3981a979",
   "metadata": {},
   "outputs": [],
   "source": []
  },
  {
   "cell_type": "code",
   "execution_count": null,
   "id": "eab96627",
   "metadata": {},
   "outputs": [],
   "source": []
  },
  {
   "cell_type": "code",
   "execution_count": null,
   "id": "47e86554",
   "metadata": {},
   "outputs": [
    {
     "name": "stdout",
     "output_type": "stream",
     "text": [
      "RMSD over 219 matched residues: 0.046 Å\n"
     ]
    }
   ],
   "source": [
    "# Load structures\n",
    "u1 = mda.Universe(\"/home/ymanasa/turbo/ymanasa/opt/boltz/boltz_results_5MAJ/predictions/5MAJ/5MAJ.pdb\")       # reference structure\n",
    "u2 = mda.Universe(\"/home/ymanasa/turbo/ymanasa/opt/boltz/boltz_results_5MAJ/predictions/5MAJ/aligned_pred_orig.pdb\") \n",
    "\n",
    "# Get CA atoms with their residue IDs\n",
    "ca1 = u1.select_atoms(\"protein and name CA\")\n",
    "ca2 = u2.select_atoms(\"protein and name CA\")\n",
    "\n",
    "# Build mapping of (chainID, resid) → atom\n",
    "def build_res_map(ca_atoms):\n",
    "    return {(a.segid.strip() or a.chainID, a.resid): a for a in ca_atoms}\n",
    "\n",
    "map1 = build_res_map(ca1)\n",
    "map2 = build_res_map(ca2)\n",
    "\n",
    "# Find common residues\n",
    "common_keys = sorted(set(map1.keys()) & set(map2.keys()))\n",
    "\n",
    "# Extract positions from both structures for common residues\n",
    "pos1 = np.array([map1[key].position for key in common_keys])\n",
    "pos2 = np.array([map2[key].position for key in common_keys])\n",
    "\n",
    "# Compute RMSD\n",
    "from MDAnalysis.analysis.rms import rmsd\n",
    "val = rmsd(pos2, pos1, center=True, superposition=True)\n",
    "print(f\"RMSD over {len(common_keys)} matched residues: {val:.3f} Å\")\n"
   ]
  },
  {
   "cell_type": "code",
   "execution_count": null,
   "id": "866e64a5",
   "metadata": {},
   "outputs": [
    {
     "name": "stdout",
     "output_type": "stream",
     "text": [
      "1: ALA1 - CA\n",
      "6: PRO2 - CA\n",
      "13: ARG3 - CA\n",
      "24: SER4 - CA\n",
      "30: VAL5 - CA\n",
      "37: ASP6 - CA\n",
      "45: TRP7 - CA\n",
      "59: ARG8 - CA\n",
      "70: GLU9 - CA\n",
      "79: LYS10 - CA\n",
      "88: GLY11 - CA\n",
      "92: TYR12 - CA\n",
      "104: VAL13 - CA\n",
      "111: THR14 - CA\n",
      "118: PRO15 - CA\n",
      "125: VAL16 - CA\n",
      "132: LYS17 - CA\n",
      "141: ASN18 - CA\n",
      "149: GLN19 - CA\n",
      "158: GLY20 - CA\n",
      "162: GLN21 - CA\n",
      "171: CYS22 - CA\n",
      "177: GLY23 - CA\n",
      "181: SER24 - CA\n",
      "187: CYS25 - CA\n",
      "193: TRP26 - CA\n",
      "207: ALA27 - CA\n",
      "212: PHE28 - CA\n",
      "223: SER29 - CA\n",
      "229: ALA30 - CA\n",
      "234: THR31 - CA\n",
      "241: GLY32 - CA\n",
      "245: ALA33 - CA\n",
      "250: LEU34 - CA\n",
      "258: GLU35 - CA\n",
      "267: GLY36 - CA\n",
      "271: GLN37 - CA\n",
      "280: MET38 - CA\n",
      "288: PHE39 - CA\n",
      "299: ARG40 - CA\n",
      "310: LYS41 - CA\n",
      "319: THR42 - CA\n",
      "326: GLY43 - CA\n",
      "330: ARG44 - CA\n",
      "341: LEU45 - CA\n",
      "349: ILE46 - CA\n",
      "357: SER47 - CA\n",
      "363: LEU48 - CA\n",
      "371: SER49 - CA\n",
      "377: GLU50 - CA\n",
      "386: GLN51 - CA\n",
      "395: ASN52 - CA\n",
      "403: LEU53 - CA\n",
      "411: VAL54 - CA\n",
      "418: ASP55 - CA\n",
      "426: CYS56 - CA\n",
      "432: SER57 - CA\n",
      "438: GLY58 - CA\n",
      "442: PRO59 - CA\n",
      "449: GLN60 - CA\n",
      "458: GLY61 - CA\n",
      "462: ASN62 - CA\n",
      "470: GLU63 - CA\n",
      "479: GLY64 - CA\n",
      "483: CYS65 - CA\n",
      "489: ASN66 - CA\n",
      "497: GLY67 - CA\n",
      "501: GLY68 - CA\n",
      "505: LEU69 - CA\n",
      "513: MET70 - CA\n",
      "521: ASP71 - CA\n",
      "529: TYR72 - CA\n",
      "541: ALA73 - CA\n",
      "546: PHE74 - CA\n",
      "557: GLN75 - CA\n",
      "566: TYR76 - CA\n",
      "578: VAL77 - CA\n",
      "585: GLN78 - CA\n",
      "594: ASP79 - CA\n",
      "602: ASN80 - CA\n",
      "610: GLY81 - CA\n",
      "614: GLY82 - CA\n",
      "618: LEU83 - CA\n",
      "626: ASP84 - CA\n",
      "634: SER85 - CA\n",
      "640: GLU86 - CA\n",
      "649: GLU87 - CA\n",
      "658: SER88 - CA\n",
      "664: TYR89 - CA\n",
      "676: PRO90 - CA\n",
      "683: TYR91 - CA\n",
      "695: GLU92 - CA\n",
      "704: ALA93 - CA\n",
      "709: THR94 - CA\n",
      "716: GLU95 - CA\n",
      "725: GLU96 - CA\n",
      "734: SER97 - CA\n",
      "740: CYS98 - CA\n",
      "746: LYS99 - CA\n",
      "755: TYR100 - CA\n",
      "767: ASN101 - CA\n",
      "775: PRO102 - CA\n",
      "782: LYS103 - CA\n",
      "791: TYR104 - CA\n",
      "803: SER105 - CA\n",
      "809: VAL106 - CA\n",
      "816: ALA107 - CA\n",
      "821: ASN108 - CA\n",
      "829: ASP109 - CA\n",
      "837: THR110 - CA\n",
      "844: GLY111 - CA\n",
      "848: PHE112 - CA\n",
      "859: VAL113 - CA\n",
      "866: ASP114 - CA\n",
      "874: ILE115 - CA\n",
      "882: PRO116 - CA\n",
      "889: LYS117 - CA\n",
      "898: GLN118 - CA\n",
      "907: GLU119 - CA\n",
      "916: LYS120 - CA\n",
      "925: ALA121 - CA\n",
      "930: LEU122 - CA\n",
      "938: MET123 - CA\n",
      "946: LYS124 - CA\n",
      "955: ALA125 - CA\n",
      "960: VAL126 - CA\n",
      "967: ALA127 - CA\n",
      "972: THR128 - CA\n",
      "979: VAL129 - CA\n",
      "986: GLY130 - CA\n",
      "990: PRO131 - CA\n",
      "997: ILE132 - CA\n",
      "1005: SER133 - CA\n",
      "1011: VAL134 - CA\n",
      "1018: ALA135 - CA\n",
      "1023: ILE136 - CA\n",
      "1031: ASP137 - CA\n",
      "1039: ALA138 - CA\n",
      "1044: GLY139 - CA\n",
      "1048: HIS140 - CA\n",
      "1058: GLU141 - CA\n",
      "1067: SER142 - CA\n",
      "1073: PHE143 - CA\n",
      "1084: LEU144 - CA\n",
      "1092: PHE145 - CA\n",
      "1103: TYR146 - CA\n",
      "1115: LYS147 - CA\n",
      "1124: GLU148 - CA\n",
      "1133: GLY149 - CA\n",
      "1137: ILE150 - CA\n",
      "1145: TYR151 - CA\n",
      "1157: PHE152 - CA\n",
      "1168: GLU153 - CA\n",
      "1177: PRO154 - CA\n",
      "1184: ASP155 - CA\n",
      "1192: CYS156 - CA\n",
      "1198: SER157 - CA\n",
      "1204: SER158 - CA\n",
      "1210: GLU159 - CA\n",
      "1219: ASP160 - CA\n",
      "1227: MET161 - CA\n",
      "1235: ASP162 - CA\n",
      "1243: HIS163 - CA\n",
      "1253: GLY164 - CA\n",
      "1257: VAL165 - CA\n",
      "1264: LEU166 - CA\n",
      "1272: VAL167 - CA\n",
      "1279: VAL168 - CA\n",
      "1286: GLY169 - CA\n",
      "1290: TYR170 - CA\n",
      "1302: GLY171 - CA\n",
      "1306: PHE172 - CA\n",
      "1317: GLU173 - CA\n",
      "1326: SER174 - CA\n",
      "1332: THR175 - CA\n",
      "1339: SER177 - CA\n",
      "1345: ASP178 - CA\n",
      "1353: ASN179 - CA\n",
      "1361: ASN180 - CA\n",
      "1369: LYS181 - CA\n",
      "1378: TYR182 - CA\n",
      "1390: TRP183 - CA\n",
      "1404: LEU184 - CA\n",
      "1412: VAL185 - CA\n",
      "1419: LYS186 - CA\n",
      "1428: ASN187 - CA\n",
      "1436: SER188 - CA\n",
      "1442: TRP189 - CA\n",
      "1456: GLY190 - CA\n",
      "1460: GLU191 - CA\n",
      "1469: GLU192 - CA\n",
      "1478: TRP193 - CA\n",
      "1492: GLY194 - CA\n",
      "1496: MET195 - CA\n",
      "1504: GLY196 - CA\n",
      "1508: GLY197 - CA\n",
      "1512: TYR198 - CA\n",
      "1524: VAL199 - CA\n",
      "1531: LYS200 - CA\n",
      "1540: MET201 - CA\n",
      "1548: ALA202 - CA\n",
      "1553: LYS203 - CA\n",
      "1562: ASP204 - CA\n",
      "1570: ARG205 - CA\n",
      "1581: ARG206 - CA\n",
      "1592: ASN207 - CA\n",
      "1600: HIS208 - CA\n",
      "1610: CYS209 - CA\n",
      "1616: GLY210 - CA\n",
      "1620: ILE211 - CA\n",
      "1628: ALA212 - CA\n",
      "1633: SER213 - CA\n",
      "1639: ALA214 - CA\n",
      "1644: ALA215 - CA\n",
      "1649: SER216 - CA\n",
      "1655: TYR217 - CA\n",
      "1667: PRO218 - CA\n",
      "1674: THR219 - CA\n",
      "1681: VAL220 - CA\n"
     ]
    }
   ],
   "source": [
    "for atom in atoms2:\n",
    "    print(f\"{atom.index}: {atom.resname}{atom.resid} - {atom.name}\")"
   ]
  },
  {
   "cell_type": "code",
   "execution_count": null,
   "id": "975b15c1",
   "metadata": {},
   "outputs": [
    {
     "name": "stdout",
     "output_type": "stream",
     "text": [
      "Found 219 common residues for RMSD.\n",
      "RMSD: 0.580 Å\n"
     ]
    },
    {
     "data": {
      "text/plain": [
       "np.float64(0.5803223603671056)"
      ]
     },
     "execution_count": 22,
     "metadata": {},
     "output_type": "execute_result"
    }
   ],
   "source": [
    "from Bio.PDB import PDBParser, Superimposer\n",
    "import numpy as np\n",
    "\n",
    "def get_ca_atoms_by_residues(structure):\n",
    "    \"\"\"Return a dictionary {(chain_id, resid): atom} for CA atoms\"\"\"\n",
    "    ca_atoms = {}\n",
    "    for model in structure:\n",
    "        for chain in model:\n",
    "            for residue in chain:\n",
    "                if 'CA' in residue:\n",
    "                    resid = residue.get_id()[1]  \n",
    "                    chain_id = chain.id.strip()\n",
    "                    key = (chain_id, resid)\n",
    "                    ca_atoms[key] = residue['CA']\n",
    "    return ca_atoms\n",
    "\n",
    "def compute_rmsd_biopdb(ref_path, pred_path):\n",
    "    parser = PDBParser(QUIET=True)\n",
    "    ref_struct = parser.get_structure(\"ref\", ref_path)\n",
    "    pred_struct = parser.get_structure(\"pred\", pred_path)\n",
    "\n",
    "    ref_atoms_map = get_ca_atoms_by_residues(ref_struct)\n",
    "    pred_atoms_map = get_ca_atoms_by_residues(pred_struct)\n",
    "\n",
    "    # Get common residues\n",
    "    common_keys = sorted(set(ref_atoms_map) & set(pred_atoms_map))\n",
    "    print(f\"Found {len(common_keys)} common residues for RMSD.\")\n",
    "\n",
    "    if len(common_keys) == 0:\n",
    "        print(\"❌ No overlapping residues found.\")\n",
    "        return\n",
    "\n",
    "    ref_atoms = [ref_atoms_map[key] for key in common_keys]\n",
    "    pred_atoms = [pred_atoms_map[key] for key in common_keys]\n",
    "\n",
    "    # Superimpose and calculate RMSD\n",
    "    sup = Superimposer()\n",
    "    sup.set_atoms(ref_atoms, pred_atoms)\n",
    "    print(f\"RMSD: {sup.rms:.3f} Å\")\n",
    "\n",
    "    return sup.rms\n",
    "\n",
    "# Example usage:\n",
    "ref_pdb = \"/path/to/ref.pdb\"\n",
    "pred_pdb = \"/path/to/predicted.pdb\"\n",
    "compute_rmsd_biopdb('/home/ymanasa/turbo/ymanasa/opt/boltz/boltz_results_5MAJ/predictions/5MAJ/5MAJ.pdb', '/home/ymanasa/turbo/ymanasa/opt/boltz/boltz_results_5MAJ/predictions/5MAJ/aligned_pred_orig.pdb')\n"
   ]
  },
  {
   "cell_type": "code",
   "execution_count": null,
   "id": "142cadee",
   "metadata": {},
   "outputs": [],
   "source": []
  },
  {
   "cell_type": "markdown",
   "id": "652c3380",
   "metadata": {},
   "source": [
    "# measure covalent bond"
   ]
  },
  {
   "cell_type": "code",
   "execution_count": null,
   "id": "6ee46a9f",
   "metadata": {},
   "outputs": [],
   "source": [
    "pdb_file = \"/home/ymanasa/turbo/ymanasa/opt/boltz/boltz_results_5MAJ/predictions/5MAJ/5MAJ.pdb\"\n",
    "pred_file = \"/home/ymanasa/turbo/ymanasa/opt/boltz/boltz_results_5MAJ/predictions/5MAJ/aligned_pred_orig.pdb\" # only has aligned prediction "
   ]
  },
  {
   "cell_type": "code",
   "execution_count": null,
   "id": "d353de3d",
   "metadata": {},
   "outputs": [],
   "source": [
    "# get the atoms involved in the covalent bond \n",
    "with open(pdb_file, 'r') as pdb:\n",
    "        for line in pdb:\n",
    "            if line.startswith(\"LINK\"):\n",
    "                prot_atom = line[13:17].strip()\n",
    "                lig_atom = line[43:47].strip()\n",
    "\n",
    "                res_idx = line[23:27].strip()\n",
    "                res_name = line[17:21].strip()\n",
    "                chain_name = line[21:23].strip()\n",
    "                \n",
    "                ccd = line[47:50].strip() \n",
    "                break "
   ]
  },
  {
   "cell_type": "code",
   "execution_count": null,
   "id": "0e94321e",
   "metadata": {},
   "outputs": [
    {
     "data": {
      "text/plain": [
       "('SG', 'CYS', 'A', '25')"
      ]
     },
     "execution_count": 3,
     "metadata": {},
     "output_type": "execute_result"
    }
   ],
   "source": [
    "# unique protein atom id\n",
    "prot_atom, res_name, chain_name, res_idx"
   ]
  },
  {
   "cell_type": "code",
   "execution_count": null,
   "id": "6684901e",
   "metadata": {},
   "outputs": [
    {
     "data": {
      "text/plain": [
       "'C8'"
      ]
     },
     "execution_count": 4,
     "metadata": {},
     "output_type": "execute_result"
    }
   ],
   "source": [
    "# unique lig atom \n",
    "lig_atom"
   ]
  },
  {
   "cell_type": "code",
   "execution_count": null,
   "id": "3a0daf65",
   "metadata": {},
   "outputs": [],
   "source": [
    "from rdkit import Chem\n",
    "from rdkit.Chem import rdMolTransforms\n",
    "\n",
    "mol = Chem.MolFromPDBFile(pred_file, removeHs=False)\n",
    "conf = mol.GetConformer()\n",
    "\n",
    "# # Example: Distance between atom 0 and atom 5\n",
    "# dist = rdMolTransforms.GetBondLength(conf, 0, 5)\n",
    "# print(f\"Distance = {dist:.2f} Å\")"
   ]
  },
  {
   "cell_type": "code",
   "execution_count": null,
   "id": "2d995834",
   "metadata": {},
   "outputs": [
    {
     "data": {
      "text/plain": [
       "<rdkit.Chem.rdchem.Conformer at 0x14bf98460a50>"
      ]
     },
     "execution_count": 6,
     "metadata": {},
     "output_type": "execute_result"
    }
   ],
   "source": [
    "conf"
   ]
  },
  {
   "cell_type": "code",
   "execution_count": null,
   "id": "d622f773",
   "metadata": {},
   "outputs": [],
   "source": [
    "from Bio.PDB import PDBParser\n",
    "from rdkit import Chem\n",
    "from rdkit.Chem import rdmolops\n",
    "\n",
    "# 1. Parse the PDB file\n",
    "parser = PDBParser(QUIET=True)\n",
    "structure = parser.get_structure(\"complex\", pred_file)\n"
   ]
  },
  {
   "cell_type": "code",
   "execution_count": null,
   "id": "33ea283e",
   "metadata": {},
   "outputs": [],
   "source": [
    "# 2. Get atom lists for protein and ligand separately\n",
    "protein_atoms = []\n",
    "ligand_atoms = []\n",
    "\n",
    "for model in structure:\n",
    "    for chain in model:\n",
    "        for residue in chain:\n",
    "            hetfield = residue.id[0]\n",
    "            if hetfield == \" \":  # Standard amino acid\n",
    "                for atom in residue:\n",
    "                    protein_atoms.append(atom)\n",
    "            elif hetfield.startswith(\"H_\") or hetfield.strip() != \"\":\n",
    "                for atom in residue:\n",
    "                    ligand_atoms.append(atom)"
   ]
  },
  {
   "cell_type": "code",
   "execution_count": null,
   "id": "0c842782",
   "metadata": {},
   "outputs": [
    {
     "name": "stdout",
     "output_type": "stream",
     "text": [
      "✅ Protein-only PDB written to /home/ymanasa/turbo/ymanasa/opt/boltz/boltz_results_5MAJ/predictions/5MAJ/protpred_only.pdb\n"
     ]
    }
   ],
   "source": [
    "from Bio import PDB\n",
    "\n",
    "pdb_file = \"/home/ymanasa/turbo/ymanasa/opt/boltz/boltz_results_5MAJ/predictions/5MAJ/5MAJ.pdb\"\n",
    "output_file = \"/home/ymanasa/turbo/ymanasa/opt/boltz/boltz_results_5MAJ/predictions/5MAJ/protpred_only.pdb\"\n",
    "\n",
    "parser = PDB.PDBParser(QUIET=True)\n",
    "structure = parser.get_structure(\"complex\", pred_file)\n",
    "\n",
    "io = PDB.PDBIO()\n",
    "\n",
    "class ProteinSelect(PDB.Select):\n",
    "    def accept_residue(self, residue):\n",
    "        # Filter standard amino acids\n",
    "        return residue.get_resname().strip() in PDB.Polypeptide.standard_aa_names\n",
    "\n",
    "io.set_structure(structure)\n",
    "io.save(output_file, ProteinSelect())\n",
    "\n",
    "print(f\"✅ Protein-only PDB written to {output_file}\")\n"
   ]
  },
  {
   "cell_type": "code",
   "execution_count": null,
   "id": "8f454b21",
   "metadata": {},
   "outputs": [
    {
     "name": "stdout",
     "output_type": "stream",
     "text": [
      "✅ Ligand-only PDB written to /home/ymanasa/turbo/ymanasa/opt/boltz/boltz_results_5MAJ/predictions/5MAJ/ligpred_only.pdb\n"
     ]
    }
   ],
   "source": [
    "from Bio import PDB\n",
    "\n",
    "pdb_file = \"/home/ymanasa/turbo/ymanasa/opt/boltz/boltz_results_5MAJ/predictions/5MAJ/5MAJ.pdb\"\n",
    "ligand_output_file = \"/home/ymanasa/turbo/ymanasa/opt/boltz/boltz_results_5MAJ/predictions/5MAJ/ligpred_only.pdb\"\n",
    "\n",
    "parser = PDB.PDBParser(QUIET=True)\n",
    "structure = parser.get_structure(\"complex\", pred_file)\n",
    "\n",
    "io = PDB.PDBIO()\n",
    "\n",
    "standard_pdb_solvents = [\n",
    "    \"HOH\", \"DOD\", \"H2O\", \"ETH\", \"EOH\", \"IPA\", \"MPD\", \"DMS\",\n",
    "    \"ACT\", \"ACE\", \"GOL\", \"PEG\", \"SO4\", \"PO4\", \"TRS\", \"MES\",\n",
    "    \"HEP\", \"FMT\", \"TLA\", \"EDO\"\n",
    "]\n",
    "\n",
    "standard_pdb_ions = [\n",
    "    \"NA\", \"K\", \"CL\", \"CA\", \"MG\", \"ZN\", \"FE\", \"FE2\", \"FE3\",\n",
    "    \"MN\", \"CO\", \"CU\", \"NI\", \"CD\", \"SR\", \"BA\", \"BR\", \"IOD\",\n",
    "    \"CS\", \"RB\"\n",
    "]\n",
    "\n",
    "class LigandSelect(PDB.Select):\n",
    "    def accept_residue(self, residue):\n",
    "        name = residue.get_resname().strip()\n",
    "        standard_aa = PDB.Polypeptide.standard_aa_names\n",
    "        # Exclude water and standard amino acids\n",
    "        return name not in standard_aa and name not in standard_pdb_solvents and name not in standard_pdb_ions\n",
    "\n",
    "io.set_structure(structure)\n",
    "io.save(ligand_output_file, LigandSelect())\n",
    "\n",
    "print(f\"✅ Ligand-only PDB written to {ligand_output_file}\")\n"
   ]
  },
  {
   "cell_type": "code",
   "execution_count": null,
   "id": "d8c651d7",
   "metadata": {},
   "outputs": [
    {
     "name": "stdout",
     "output_type": "stream",
     "text": [
      "191 1\n",
      "Measured SG–C8 distance: 3.31 Å\n"
     ]
    }
   ],
   "source": [
    "from rdkit import Chem\n",
    "from rdkit.Chem import CombineMols, rdMolTransforms\n",
    "\n",
    "# Load separately\n",
    "protein = Chem.MolFromPDBFile(\"/home/ymanasa/turbo/ymanasa/opt/boltz/boltz_results_5MAJ/predictions/5MAJ/protpred_only.pdb\", removeHs=False)\n",
    "ligand = Chem.MolFromPDBFile(\"/home/ymanasa/turbo/ymanasa/opt/boltz/boltz_results_5MAJ/predictions/5MAJ/ligpred_only.pdb\", removeHs=False)\n",
    "\n",
    "# Combine using diff function \n",
    "combined = CombineMols(protein, ligand)\n",
    "conf = combined.GetConformer()\n",
    "\n",
    "# Get number of atoms in protein\n",
    "num_prot_atoms = protein.GetNumAtoms()\n",
    "\n",
    "# Helper to find atom by name and residue number\n",
    "def find_atom_index(mol, atom_name, res_num):\n",
    "    for atom in mol.GetAtoms():\n",
    "        info = atom.GetPDBResidueInfo()\n",
    "        if info and info.GetResidueNumber() == res_num and info.GetName().strip() == atom_name:\n",
    "            return atom.GetIdx()\n",
    "    return None\n",
    "\n",
    "# Get indices \n",
    "prot_idx = find_atom_index(protein, \"SG\", 25) \n",
    "lig_idx = find_atom_index(ligand, \"C8\", 1)\n",
    "\n",
    "print(prot_idx, lig_idx)\n",
    "\n",
    "lig_idx += num_prot_atoms # have to do this outside of fxn \n",
    "\n",
    "# Measure distance\n",
    "dist = rdMolTransforms.GetBondLength(conf, prot_idx, lig_idx)\n",
    "print(f\"Measured SG–C8 distance: {dist:.2f} Å\")\n",
    "\n",
    "# can use the distance written in the pdb LINK original file (last val) to decide if the error is close to thaT or not \n"
   ]
  },
  {
   "cell_type": "code",
   "execution_count": null,
   "id": "372d17d9",
   "metadata": {},
   "outputs": [
    {
     "data": {
      "text/plain": [
       "<rdkit.Chem.rdchem.Conformer at 0x14bf974f3220>"
      ]
     },
     "execution_count": 25,
     "metadata": {},
     "output_type": "execute_result"
    }
   ],
   "source": [
    "conf"
   ]
  },
  {
   "cell_type": "code",
   "execution_count": null,
   "id": "05cac229",
   "metadata": {},
   "outputs": [
    {
     "name": "stdout",
     "output_type": "stream",
     "text": [
      "Neighbor name: CB\n",
      "Neighbor name: C20\n",
      "Dihedral angle (A-B-C-D): 163.66°\n"
     ]
    }
   ],
   "source": [
    "from rdkit.Chem import rdMolTransforms\n",
    "\n",
    "# Get bonded neighbors (excluding each other)\n",
    "def get_neighbor(atom, exclude_idx):\n",
    "    for neighbor in atom.GetNeighbors():\n",
    "        pdb_info = neighbor.GetPDBResidueInfo()\n",
    "        name = pdb_info.GetName().strip()\n",
    "        \n",
    "        if 'C' in name:\n",
    "            print(f\"Neighbor name: {name}\")\n",
    "            if neighbor.GetIdx() != exclude_idx:\n",
    "                return neighbor.GetIdx()\n",
    "                \n",
    "    return None\n",
    "\n",
    "# A–B–C–D, where:\n",
    "# B = SG (CYS A 25), C = C8 (7KH A 301)\n",
    "atom_B = combined.GetAtomWithIdx(prot_idx)\n",
    "atom_C = combined.GetAtomWithIdx(lig_idx)\n",
    "\n",
    "# Get A and D\n",
    "atom_A_idx = get_neighbor(atom_B, atom_C.GetIdx())\n",
    "atom_D_idx = get_neighbor(atom_C, atom_B.GetIdx())\n",
    "\n",
    "# Sanity check\n",
    "if atom_A_idx is None or atom_D_idx is None:\n",
    "    raise ValueError(\"Couldn't find bonded neighbor to define dihedral.\")\n",
    "\n",
    "# Measure dihedral\n",
    "angle = rdMolTransforms.GetDihedralDeg(conf, atom_A_idx, prot_idx, lig_idx, atom_D_idx)\n",
    "print(f\"Dihedral angle (A-B-C-D): {angle:.2f}°\") \n"
   ]
  },
  {
   "cell_type": "code",
   "execution_count": null,
   "id": "44144178",
   "metadata": {},
   "outputs": [],
   "source": []
  },
  {
   "cell_type": "code",
   "execution_count": null,
   "id": "f115c5b8",
   "metadata": {},
   "outputs": [],
   "source": []
  },
  {
   "cell_type": "code",
   "execution_count": null,
   "id": "7f9bc383",
   "metadata": {},
   "outputs": [
    {
     "data": {
      "text/plain": [
       "190"
      ]
     },
     "execution_count": 24,
     "metadata": {},
     "output_type": "execute_result"
    }
   ],
   "source": [
    "atom_A_idx"
   ]
  },
  {
   "cell_type": "code",
   "execution_count": null,
   "id": "0bc6077a",
   "metadata": {},
   "outputs": [
    {
     "ename": "CmdException",
     "evalue": " Error: Selection 3: Not found",
     "output_type": "error",
     "traceback": [
      "\u001b[31m---------------------------------------------------------------------------\u001b[39m",
      "\u001b[31mCmdException\u001b[39m                              Traceback (most recent call last)",
      "\u001b[36mCell\u001b[39m\u001b[36m \u001b[39m\u001b[32mIn[38]\u001b[39m\u001b[32m, line 4\u001b[39m\n\u001b[32m      1\u001b[39m \u001b[38;5;28;01mfrom\u001b[39;00m\u001b[38;5;250m \u001b[39m\u001b[34;01mpymol\u001b[39;00m\u001b[38;5;250m \u001b[39m\u001b[38;5;28;01mimport\u001b[39;00m cmd\n\u001b[32m      2\u001b[39m cmd.load(\u001b[33m\"\u001b[39m\u001b[33m/home/ymanasa/turbo/ymanasa/opt/boltz/boltz_results_5MAJ/predictions/5MAJ/aligned_pred_orig.pdb\u001b[39m\u001b[33m\"\u001b[39m, \u001b[33m\"\u001b[39m\u001b[33mmol\u001b[39m\u001b[33m\"\u001b[39m)\n\u001b[32m----> \u001b[39m\u001b[32m4\u001b[39m angle = \u001b[43mcmd\u001b[49m\u001b[43m.\u001b[49m\u001b[43mget_dihedral\u001b[49m\u001b[43m(\u001b[49m\n\u001b[32m      5\u001b[39m \u001b[43m    \u001b[49m\u001b[33;43m\"\u001b[39;49m\u001b[33;43mmol and chain A and resi 25 and name CB\u001b[39;49m\u001b[33;43m\"\u001b[39;49m\u001b[43m,\u001b[49m\u001b[43m \u001b[49m\u001b[38;5;66;43;03m# A 203 190 \u001b[39;49;00m\n\u001b[32m      6\u001b[39m \u001b[43m    \u001b[49m\u001b[33;43m\"\u001b[39;49m\u001b[33;43mmol and chain A and resi 25 and name SG\u001b[39;49m\u001b[33;43m\"\u001b[39;49m\u001b[43m,\u001b[49m\u001b[43m \u001b[49m\u001b[38;5;66;43;03m# B 204 191\u001b[39;49;00m\n\u001b[32m      7\u001b[39m \u001b[43m    \u001b[49m\u001b[33;43m\"\u001b[39;49m\u001b[33;43mmol and chain A and resi 1 and name C8\u001b[39;49m\u001b[33;43m\"\u001b[39;49m\u001b[43m,\u001b[49m\u001b[43m \u001b[49m\u001b[38;5;66;43;03m# C 1737 1697\u001b[39;49;00m\n\u001b[32m      8\u001b[39m \u001b[43m    \u001b[49m\u001b[33;43m\"\u001b[39;49m\u001b[33;43mmol and chain A and resi 1 and name C20\u001b[39;49m\u001b[33;43m\"\u001b[39;49m\u001b[43m \u001b[49m\u001b[38;5;66;43;03m# D 1755 1708\u001b[39;49;00m\n\u001b[32m      9\u001b[39m \u001b[43m)\u001b[49m\n\u001b[32m     11\u001b[39m \u001b[38;5;28mprint\u001b[39m(angle)\n",
      "\u001b[36mFile \u001b[39m\u001b[32m~/turbo/ymanasa/miniconda3/envs/boltz_analysis_env/lib/python3.12/site-packages/pymol/querying.py:1079\u001b[39m, in \u001b[36mget_dihedral\u001b[39m\u001b[34m(atom1, atom2, atom3, atom4, state, quiet, _self)\u001b[39m\n\u001b[32m   1077\u001b[39m \u001b[38;5;66;03m#\u001b[39;00m\n\u001b[32m   1078\u001b[39m \u001b[38;5;28;01mwith\u001b[39;00m _self.lockcm:\n\u001b[32m-> \u001b[39m\u001b[32m1079\u001b[39m     r = \u001b[43m_cmd\u001b[49m\u001b[43m.\u001b[49m\u001b[43mget_dihe\u001b[49m\u001b[43m(\u001b[49m\u001b[43m_self\u001b[49m\u001b[43m.\u001b[49m\u001b[43m_COb\u001b[49m\u001b[43m,\u001b[49m\u001b[38;5;28;43mstr\u001b[39;49m\u001b[43m(\u001b[49m\u001b[43matom1\u001b[49m\u001b[43m)\u001b[49m\u001b[43m,\u001b[49m\u001b[38;5;28;43mstr\u001b[39;49m\u001b[43m(\u001b[49m\u001b[43matom2\u001b[49m\u001b[43m)\u001b[49m\u001b[43m,\u001b[49m\u001b[38;5;28;43mstr\u001b[39;49m\u001b[43m(\u001b[49m\u001b[43matom3\u001b[49m\u001b[43m)\u001b[49m\u001b[43m,\u001b[49m\u001b[38;5;28;43mstr\u001b[39;49m\u001b[43m(\u001b[49m\u001b[43matom4\u001b[49m\u001b[43m)\u001b[49m\u001b[43m,\u001b[49m\u001b[38;5;28;43mint\u001b[39;49m\u001b[43m(\u001b[49m\u001b[43mstate\u001b[49m\u001b[43m)\u001b[49m\u001b[43m-\u001b[49m\u001b[32;43m1\u001b[39;49m\u001b[43m)\u001b[49m\n\u001b[32m   1080\u001b[39m \u001b[38;5;28;01mif\u001b[39;00m \u001b[38;5;129;01mnot\u001b[39;00m quiet:\n\u001b[32m   1081\u001b[39m     \u001b[38;5;28mprint\u001b[39m(\u001b[33m\"\u001b[39m\u001b[33m cmd.get_dihedral: \u001b[39m\u001b[38;5;132;01m%5.3f\u001b[39;00m\u001b[33m degrees.\u001b[39m\u001b[33m\"\u001b[39m%r)\n",
      "\u001b[31mCmdException\u001b[39m:  Error: Selection 3: Not found"
     ]
    }
   ],
   "source": [
    "from pymol import cmd\n",
    "cmd.load(\"/home/ymanasa/turbo/ymanasa/opt/boltz/boltz_results_5MAJ/predictions/5MAJ/aligned_pred_orig.pdb\", \"mol\")\n",
    "\n",
    "angle = cmd.get_dihedral(\n",
    "    \"mol and chain A and resi 25 and name CB\", # A 203 190 \n",
    "    \"mol and chain A and resi 25 and name SG\", # B 204 191\n",
    "    \"mol and chain A and resi 1 and name C8\", # C 1737 1697\n",
    "    \"mol and chain A and resi 1 and name C20\" # D 1755 1708\n",
    ")\n",
    "\n",
    "print(angle)"
   ]
  },
  {
   "cell_type": "code",
   "execution_count": null,
   "id": "8e38577a",
   "metadata": {},
   "outputs": [
    {
     "name": "stdout",
     "output_type": "stream",
     "text": [
      "/home/ymanasa/turbo/ymanasa/opt/boltz/covalent_testing/4EBP/\n",
      "/home/ymanasa/turbo/ymanasa/opt/boltz/covalent_testing/6ALZ/\n",
      "/home/ymanasa/turbo/ymanasa/opt/boltz/covalent_testing/2CDR/\n"
     ]
    }
   ],
   "source": [
    "import os\n",
    "import glob\n",
    "query_dir = \"/home/ymanasa/turbo/ymanasa/opt/boltz/covalent_testing\"\n",
    "for pdb_dir in glob.glob(os.path.join(query_dir,\"*/\")):\n",
    "        pdb_files = glob.glob(os.path.join(pdb_dir, \"*.pdb\"))\n",
    "        pdb_file = pdb_files[0]\n",
    "        print(pdb_dir)\n"
   ]
  },
  {
   "cell_type": "code",
   "execution_count": 2,
   "id": "d79ae646",
   "metadata": {},
   "outputs": [
    {
     "name": "stdout",
     "output_type": "stream",
     "text": [
      "Environment variable PROJECT_DIR is not set. Running setup_enviorment.sh...\n",
      "Environment variables set successfully.\n",
      "FASTA file created at /home/ymanasa/turbo/ymanasa/opt/boltz/covalent_testing/6ALZ/6ALZ.fasta\n",
      "BKM is a ligand\n",
      "YAML files created successfully: /home/ymanasa/turbo/ymanasa/opt/boltz/covalent_testing/6ALZ/6ALZ_BKM.yaml.\n"
     ]
    }
   ],
   "source": [
    "from setup_boltz_job import create_boltz_job\n",
    "pdb_file = \"/home/ymanasa/turbo/ymanasa/opt/boltz/covalent_testing/6ALZ/6ALZ.pdb\"\n",
    "pdb_dir = \"/home/ymanasa/turbo/ymanasa/opt/boltz/covalent_testing/6ALZ/\"\n",
    "create_boltz_job(pdb_file=pdb_file, covalent_docking=True, output_dir=pdb_dir)"
   ]
  },
  {
   "cell_type": "code",
   "execution_count": 9,
   "id": "fb42bf21",
   "metadata": {},
   "outputs": [
    {
     "data": {
      "text/plain": [
       "333"
      ]
     },
     "execution_count": 9,
     "metadata": {},
     "output_type": "execute_result"
    }
   ],
   "source": [
    "from rdkit import Chem\n",
    "def find_atom_index(mol, atom_name, res_num):\n",
    "    for atom in mol.GetAtoms():\n",
    "        info = atom.GetPDBResidueInfo()\n",
    "        if info and info.GetResidueNumber() == res_num and info.GetName().strip() == atom_name:\n",
    "            return atom.GetIdx()\n",
    "    return None\n",
    "\n",
    "\n",
    "protein = Chem.MolFromPDBFile(\"/home/ymanasa/turbo/ymanasa/opt/boltz/boltz_results_4EBP_CEF/predictions/4EBP_CEF/4EBP_prot.pdb\")\n",
    "\n",
    "find_atom_index(protein, 'OG', 70)"
   ]
  },
  {
   "cell_type": "code",
   "execution_count": 8,
   "id": "f9976a9e",
   "metadata": {},
   "outputs": [
    {
     "name": "stdout",
     "output_type": "stream",
     "text": [
      "✅ Protein-only PDB written to /home/ymanasa/turbo/ymanasa/opt/boltz/boltz_results_4EBP_CEF/predictions/4EBP_CEF/4EBP_prot.pdb\n"
     ]
    }
   ],
   "source": [
    "from Bio import PDB\n",
    "\n",
    "pdb_file = \"/home/ymanasa/turbo/ymanasa/opt/boltz/boltz_results_4EBP_CEF/predictions/4EBP_CEF/4EBP.pdb\"\n",
    "output_file = \"/home/ymanasa/turbo/ymanasa/opt/boltz/boltz_results_4EBP_CEF/predictions/4EBP_CEF/4EBP_prot.pdb\"\n",
    "\n",
    "parser = PDB.PDBParser(QUIET=True)\n",
    "structure = parser.get_structure(\"complex\", pdb_file)\n",
    "\n",
    "io = PDB.PDBIO()\n",
    "\n",
    "class ProteinSelect(PDB.Select):\n",
    "    def accept_residue(self, residue):\n",
    "        # Filter standard amino acids\n",
    "        return residue.get_resname().strip() in PDB.Polypeptide.standard_aa_names\n",
    "\n",
    "io.set_structure(structure)\n",
    "io.save(output_file, ProteinSelect())\n",
    "\n",
    "print(f\"✅ Protein-only PDB written to {output_file}\")\n",
    "\n",
    "\n"
   ]
  },
  {
   "cell_type": "markdown",
   "id": "fe2e70e0",
   "metadata": {},
   "source": [
    "# GETTING FASTA "
   ]
  },
  {
   "cell_type": "code",
   "execution_count": 2,
   "id": "dee5e43d",
   "metadata": {},
   "outputs": [],
   "source": [
    "import requests\n",
    "\n",
    "def fetch_fasta_from_pdb(pdb_id):\n",
    "    url = f\"https://www.rcsb.org/fasta/entry/{pdb_id}\"\n",
    "    response = requests.get(url)\n",
    "    \n",
    "    if response.status_code == 200:\n",
    "        return response.text\n",
    "    else:\n",
    "        raise ValueError(f\"Failed to fetch FASTA for PDB ID {pdb_id}: {response.status_code}\")\n",
    "\n",
    "# # Example\n",
    "# fasta = fetch_fasta_from_pdb(\"4EF9\")\n",
    "# print(fasta)\n"
   ]
  },
  {
   "cell_type": "code",
   "execution_count": null,
   "id": "df9c023a",
   "metadata": {},
   "outputs": [],
   "source": [
    "# 1 \n",
    "import csv\n",
    "\n",
    "with open('/home/ymanasa/turbo/ymanasa/opt/boltz/covalent_testing/cov_indb2.csv', 'r') as f:\n",
    "    reader = csv.DictReader(f)\n",
    "    pdb_list = []\n",
    "    for row in reader:\n",
    "        pdb_list.append(row['PDB'])"
   ]
  },
  {
   "cell_type": "code",
   "execution_count": 49,
   "id": "10fbdd1a",
   "metadata": {},
   "outputs": [
    {
     "data": {
      "text/plain": [
       "3598"
      ]
     },
     "execution_count": 49,
     "metadata": {},
     "output_type": "execute_result"
    }
   ],
   "source": [
    "\n",
    "len(pdb_list)"
   ]
  },
  {
   "cell_type": "code",
   "execution_count": 38,
   "id": "5d883876",
   "metadata": {},
   "outputs": [],
   "source": [
    "\n",
    "# testing w known \n",
    "test_list = ['6ALZ','4EBP','2CDR']"
   ]
  },
  {
   "cell_type": "code",
   "execution_count": null,
   "id": "a43fec6f",
   "metadata": {},
   "outputs": [],
   "source": [
    "# 2  \n",
    "fasta_list = {}\n",
    "\n",
    "for pdb in pdb_list:\n",
    "    try:\n",
    "        fasta = fetch_fasta_from_pdb(pdb)\n",
    "        fasta_list[pdb] = fasta\n",
    "        print(pdb)\n",
    "    except Exception as e:\n",
    "        print(f\"Failed to fetch FASTA for {pdb}: {e}\")"
   ]
  },
  {
   "cell_type": "code",
   "execution_count": null,
   "id": "c7825a51",
   "metadata": {},
   "outputs": [],
   "source": [
    "fasta_list"
   ]
  },
  {
   "cell_type": "code",
   "execution_count": null,
   "id": "57551922",
   "metadata": {},
   "outputs": [],
   "source": [
    "# 3\n",
    "# can use the LINK lines to find out which chain the ligand is interacting with but soemtimes the ligand is assigned to its own chain (like for peptide ligands, which we dont want)\n",
    "from covalent_utils import get_link_atoms\n",
    "\n",
    "# to get interacting chain info \n",
    "prot_chains = {}\n",
    "issue_prots = []\n",
    "for pdb in test_list:\n",
    "    pdb_file = f\"/home/ymanasa/turbo/ymanasa/opt/boltz/covalent_testing/{pdb}/{pdb}.pdb\"\n",
    "    try:\n",
    "        prot_atom, res_name, res_num, chain_name, ccd, lig_atom, lig_idx = get_link_atoms(parent_file=pdb_file)\n",
    "        prot_chains[pdb] = prot_atom, res_name, res_num, chain_name, ccd, lig_atom, lig_idx \n",
    "    except Exception as e: \n",
    "        issue_prots.append(pdb)\n",
    "        print(pdb, f\": {e}\")\n",
    "\n"
   ]
  },
  {
   "cell_type": "code",
   "execution_count": 42,
   "id": "584b85ee",
   "metadata": {},
   "outputs": [
    {
     "data": {
      "text/plain": [
       "{'6ALZ': ('SG', 'CYS', 120, 'A', 'BKM', 'C01', 127),\n",
       " '4EBP': ('OG', 'SER', 41, 'B', 'CEF', 'C8', 70),\n",
       " '2CDR': ('C', 'VAL', 2, 'I', 'MY1', 'N4', 904)}"
      ]
     },
     "execution_count": 42,
     "metadata": {},
     "output_type": "execute_result"
    }
   ],
   "source": [
    "prot_chains"
   ]
  },
  {
   "cell_type": "code",
   "execution_count": null,
   "id": "4673ac16",
   "metadata": {},
   "outputs": [
    {
     "name": "stdout",
     "output_type": "stream",
     "text": [
      "peptide ligand found or interacting chain not found for 2CDR\n"
     ]
    }
   ],
   "source": [
    "# 4\n",
    "# use fasta_list and prot_chains to get appropriate fasta \n",
    "errors = []\n",
    "final_fasta = {}\n",
    "for key, value in fasta_list.items():\n",
    "    list_fasta = value.split('\\n')\n",
    "    new_list_fasta = []\n",
    "    for item in list_fasta:\n",
    "        if item.startswith('>'):\n",
    "            new_list_fasta.extend([item.split('|')])  # replace with split parts\n",
    "        else:\n",
    "            new_list_fasta.append(item)  \n",
    "    for sub_items in new_list_fasta:\n",
    "        for i in sub_items:\n",
    "            if 'Chain' in i:\n",
    "                if prot_chains[key][3] in i: # get ligand interacting chain \n",
    "                    seq_idx = new_list_fasta.index(sub_items) + 1\n",
    "    \n",
    "                    if len(new_list_fasta[seq_idx]) > 20: # leaving out peptide ligands \n",
    "                        final_fasta[key] = new_list_fasta[seq_idx] \n",
    "                    else:\n",
    "                        print(f'peptide ligand found or interacting chain not found for {key}')\n",
    "                        errors.append(key)\n"
   ]
  },
  {
   "cell_type": "code",
   "execution_count": 46,
   "id": "8273bd1b",
   "metadata": {},
   "outputs": [
    {
     "data": {
      "text/plain": [
       "{'6ALZ': 'GHMGSLNLDSIIGRLLEVQGSRPGKNVQLTENEIRGLCLKSREIFLSQPILLELEAPLKICGDIHGQYYDLLRLFEYGGFPPESNYLFLGDYVDRGKQSLETICLLLAYKIKYPENFFLLRGNHECASINRIYGFYDECKRRYNIKLWKTFTDCFNCLPIAAIVDEKIFCCHGGLSPDLQSMEQIRRIMRPTDVPDQGLLCDLLWSDPDKDVQGWGENDRGVSFTFGAEVVAKFLHKHDLDLICRAHQVVEDGYEFFAKRQLVTLFSAPNYCGEFDNAGAMMSVDETLMCSFQILKPAD',\n",
       " '4EBP': 'DLADRFAELERRYDARLGVYVPATGTTAAIEYRADERFAFCSTFKAPLVAAVLHQNPLTHLDKLITYTSDDIRSISPVAQQHVQTGMTIGQLCDAAIRYSDGTAANLLLADLGGPGGGTAAFTGYLRSLGDTVSRLDAEAPELNRDPPGDERDTTTPHAIALVLQQLVLGNALPPDKRALLTDWMARNTTGAKRIRAGFPADWKVIDKTGTGDYGRANDIAVVWSPTGVPYVVAVMSDRAGGGYDAEPREALLAEAATCVAGVLA'}"
      ]
     },
     "execution_count": 46,
     "metadata": {},
     "output_type": "execute_result"
    }
   ],
   "source": [
    "final_fasta"
   ]
  },
  {
   "cell_type": "markdown",
   "id": "0a10a44f",
   "metadata": {},
   "source": [
    "# FASTA SEQ in one string"
   ]
  },
  {
   "cell_type": "code",
   "execution_count": 3,
   "id": "18e7ea5e",
   "metadata": {},
   "outputs": [],
   "source": [
    "fasta = fetch_fasta_from_pdb('2CDR')\n"
   ]
  },
  {
   "cell_type": "code",
   "execution_count": 12,
   "id": "a15be178",
   "metadata": {},
   "outputs": [
    {
     "data": {
      "text/plain": [
       "'SGISLDNSYKMDYPEMGLCIIINNKNFHKSTGMTSRSGTDVDAANLRETFRNLKYEVRNKNDLTREEIVELMRDVSKEDHSKRSSFVCVLLSHGEEGIIFGTNGPVDLKKITNFFRGDRCRSLTGKPKLFIIQACRGTELDCGIETDASGVDDDMACHKIPVEADFLYAYSTAPGYYSWRNSKDGSWFIQSLCAMLKQYADKLEFMHILTRVNRKVATEFESFSFDATFHAKKQIPCIVSMLTKELYFYHXDEVX'"
      ]
     },
     "execution_count": 12,
     "metadata": {},
     "output_type": "execute_result"
    }
   ],
   "source": [
    "list_fasta = fasta.split('\\n')\n",
    "final_fasta = ''\n",
    "for i in list_fasta:\n",
    "    if 'Chain' not in i: \n",
    "        final_fasta += i \n",
    "\n",
    "final_fasta\n"
   ]
  }
 ],
 "metadata": {
  "kernelspec": {
   "display_name": "boltz_analysis_env",
   "language": "python",
   "name": "python3"
  },
  "language_info": {
   "codemirror_mode": {
    "name": "ipython",
    "version": 3
   },
   "file_extension": ".py",
   "mimetype": "text/x-python",
   "name": "python",
   "nbconvert_exporter": "python",
   "pygments_lexer": "ipython3",
   "version": "3.12.11"
  }
 },
 "nbformat": 4,
 "nbformat_minor": 5
}
