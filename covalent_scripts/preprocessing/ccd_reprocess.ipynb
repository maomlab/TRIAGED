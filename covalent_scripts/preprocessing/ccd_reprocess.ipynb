{
 "cells": [
  {
   "cell_type": "markdown",
   "id": "3aa3bec6",
   "metadata": {},
   "source": [
    "## use ccd_pkl env NOT boltz2 since it will break boltz"
   ]
  },
  {
   "cell_type": "code",
   "execution_count": null,
   "id": "1d8878de",
   "metadata": {},
   "outputs": [
    {
     "name": "stdout",
     "output_type": "stream",
     "text": [
      "--2025-09-04 09:26:27--  https://files.wwpdb.org/pub/pdb/data/monomers/components.cif\n",
      "Resolving files.wwpdb.org (files.wwpdb.org)... 108.156.91.23, 108.156.91.39, 108.156.91.31, ...\n",
      "Connecting to files.wwpdb.org (files.wwpdb.org)|108.156.91.23|:443... connected.\n",
      "HTTP request sent, awaiting response... 200 OK\n",
      "Length: 478965789 (457M) [chemical/x-cif]\n",
      "Saving to: ‘components.cif.1’\n",
      "\n",
      "components.cif.1    100%[===================>] 456.78M  71.5MB/s    in 6.6s    \n",
      "\n",
      "2025-09-04 09:26:34 (69.2 MB/s) - ‘components.cif.1’ saved [478965789/478965789]\n",
      "\n"
     ]
    }
   ],
   "source": [
    "# ! wget https://files.wwpdb.org/pub/pdb/data/monomers/components.cif"
   ]
  },
  {
   "cell_type": "code",
   "execution_count": null,
   "id": "440359ce",
   "metadata": {},
   "outputs": [],
   "source": [
    "# to get pkl file \n",
    "# this script workdir: /home/ymanasa/turbo/ymanasa/opt/boltz/covalent_testing/scripts/\n",
    "\n",
    "#python ccd.py --components components.cif --outdir ./ccd\n"
   ]
  },
  {
   "cell_type": "markdown",
   "id": "31c2302a",
   "metadata": {},
   "source": [
    "#### regular pkl from pdb archive"
   ]
  },
  {
   "cell_type": "code",
   "execution_count": null,
   "id": "3e9a8576",
   "metadata": {},
   "outputs": [],
   "source": [
    "import pickle\n",
    "import elbow\n",
    "\n",
    "pkl_7KH = '/home/ymanasa/.boltz/mols/7KH.pkl'\n",
    "with open(pkl_7KH, 'rb') as file: \n",
    "    data = pickle.load(file)\n",
    "\n",
    "type(data)"
   ]
  },
  {
   "cell_type": "code",
   "execution_count": null,
   "id": "7d7f67da",
   "metadata": {},
   "outputs": [
    {
     "data": {
      "text/plain": [
       "rdkit.Chem.rdchem.Mol"
      ]
     },
     "execution_count": 23,
     "metadata": {},
     "output_type": "execute_result"
    }
   ],
   "source": [
    "\n",
    "smiles = \"[H]/N=C/c1nc(nc(n1)N(Cc2cn3ccccc3n2)C4CCCC4)N5CCOCC5\" # canonical SMILES openeye tools 7kh from PDB web\n",
    "# smiles = \"CC(C(C)(C)C)OP(=O)C\" # GD8\n",
    "# smiles = \"CC(C)CC(C(=O)NC(CC1CCNC1=O)C(O)S(=O)(=O)O)NC(=O)OC(C)C2CCC(CC2)(F)F\" # YKM\n",
    "\n"
   ]
  },
  {
   "cell_type": "markdown",
   "id": "9e2f38aa",
   "metadata": {},
   "source": [
    "#### phenix elbow pickle"
   ]
  },
  {
   "cell_type": "code",
   "execution_count": null,
   "id": "2b7ee8ee",
   "metadata": {},
   "outputs": [
    {
     "ename": "ModuleNotFoundError",
     "evalue": "No module named 'elbow'",
     "output_type": "error",
     "traceback": [
      "\u001b[31m---------------------------------------------------------------------------\u001b[39m",
      "\u001b[31mModuleNotFoundError\u001b[39m                       Traceback (most recent call last)",
      "\u001b[36mCell\u001b[39m\u001b[36m \u001b[39m\u001b[32mIn[28]\u001b[39m\u001b[32m, line 3\u001b[39m\n\u001b[32m      1\u001b[39m phenix_pkl = \u001b[33m'\u001b[39m\u001b[33m/home/ymanasa/turbo/ymanasa/opt/boltz/covalent_testing/mmcif_testing/7KH/7KH.pkl\u001b[39m\u001b[33m'\u001b[39m\n\u001b[32m      2\u001b[39m \u001b[38;5;28;01mwith\u001b[39;00m \u001b[38;5;28mopen\u001b[39m(phenix_pkl, \u001b[33m'\u001b[39m\u001b[33mrb\u001b[39m\u001b[33m'\u001b[39m) \u001b[38;5;28;01mas\u001b[39;00m file: \n\u001b[32m----> \u001b[39m\u001b[32m3\u001b[39m     mol_loaded_orig = \u001b[43mpickle\u001b[49m\u001b[43m.\u001b[49m\u001b[43mload\u001b[49m\u001b[43m(\u001b[49m\u001b[43mfile\u001b[49m\u001b[43m)\u001b[49m\n\u001b[32m      4\u001b[39m mol_loaded_orig.GetNumAtoms()\n",
      "\u001b[31mModuleNotFoundError\u001b[39m: No module named 'elbow'"
     ]
    }
   ],
   "source": [
    "phenix_pkl = '/home/ymanasa/turbo/ymanasa/opt/boltz/covalent_testing/mmcif_testing/7KH/7KH.pkl'\n",
    "with open(phenix_pkl, 'rb') as file: \n",
    "    mol_loaded_orig = pickle.load(file)\n"
   ]
  },
  {
   "cell_type": "markdown",
   "id": "67714379",
   "metadata": {},
   "source": [
    "### getting pkl from rdkit with 3D conformers code from ccd.py boltz"
   ]
  },
  {
   "cell_type": "code",
   "execution_count": 1,
   "id": "48e31a38",
   "metadata": {},
   "outputs": [],
   "source": [
    "import rdkit\n",
    "from rdkit import Chem\n",
    "from pdbeccdutils.core.component import ConformerType\n",
    "def compute_3d(mol, version: str = \"v3\") -> bool:\n",
    "    \"\"\"Generate 3D coordinates using EKTDG method.\n",
    "\n",
    "    Taken from `pdbeccdutils.core.component.Component`.\n",
    "\n",
    "    Parameters\n",
    "    ----------\n",
    "    mol: Mol\n",
    "        The RDKit molecule to process\n",
    "    version: str, optional\n",
    "        The ETKDG version, defaults ot v3\n",
    "        \n",
    "\n",
    "    Returns\n",
    "    -------\n",
    "    bool\n",
    "        Whether computation was successful.\n",
    "\n",
    "    \"\"\"\n",
    "    if version == \"v3\":\n",
    "        options = rdkit.Chem.AllChem.ETKDGv3()\n",
    "    elif version == \"v2\":\n",
    "        options = rdkit.Chem.AllChem.ETKDGv2()\n",
    "    else:\n",
    "        options = rdkit.Chem.AllChem.ETKDGv2()\n",
    "\n",
    "    options.clearConfs = False\n",
    "    conf_id = -1\n",
    "\n",
    "    try:\n",
    "        conf_id = rdkit.Chem.AllChem.EmbedMolecule(mol, options)\n",
    "        rdkit.Chem.AllChem.UFFOptimizeMolecule(mol, confId=conf_id, maxIters=1000)\n",
    "\n",
    "    except RuntimeError:\n",
    "        pass  # Force field issue here\n",
    "    except ValueError:\n",
    "        pass  # sanitization issue here\n",
    "\n",
    "    if conf_id != -1:\n",
    "        conformer = mol.GetConformer(conf_id)\n",
    "        conformer.SetProp(\"name\", ConformerType.Computed.name)\n",
    "        conformer.SetProp(\"coord_generation\", f\"ETKDG{version}\")\n",
    "        \n",
    "        return True\n",
    "\n",
    "    return False\n",
    "\n",
    "\n",
    "def get_conformer(mol, c_type: ConformerType):\n",
    "    \"\"\"Retrieve an rdkit object for a deemed conformer.\n",
    "\n",
    "    Taken from `pdbeccdutils.core.component.Component`.\n",
    "\n",
    "    Parameters\n",
    "    ----------\n",
    "    mol: Mol\n",
    "        The molecule to process.\n",
    "    c_type: ConformerType\n",
    "        The conformer type to extract.\n",
    "\n",
    "    Returns\n",
    "    -------\n",
    "    Conformer\n",
    "        The desired conformer, if any.\n",
    "\n",
    "    Raises\n",
    "    ------\n",
    "    ValueError\n",
    "        If there are no conformers of the given tyoe.\n",
    "\n",
    "    \"\"\"\n",
    "    for c in mol.GetConformers():\n",
    "        try:\n",
    "            if c.GetProp(\"name\") == c_type.name:\n",
    "                return c\n",
    "        except KeyError:  # noqa: PERF203\n",
    "            pass\n",
    "\n",
    "    msg = f\"Conformer {c_type.name} does not exist.\"\n",
    "    raise ValueError(msg)"
   ]
  },
  {
   "cell_type": "markdown",
   "id": "c0fe3ab8",
   "metadata": {},
   "source": [
    "### smiles -> sdf -> rdkit mol has metadata needed?"
   ]
  },
  {
   "cell_type": "code",
   "execution_count": null,
   "id": "ad2d3e2d",
   "metadata": {},
   "outputs": [],
   "source": [
    "! pip install pybel "
   ]
  },
  {
   "cell_type": "code",
   "execution_count": null,
   "id": "66dd8858",
   "metadata": {},
   "outputs": [],
   "source": [
    "! pip install openbabel-wheel\n"
   ]
  },
  {
   "cell_type": "code",
   "execution_count": 1,
   "id": "4a00562a",
   "metadata": {},
   "outputs": [
    {
     "name": "stdout",
     "output_type": "stream",
     "text": [
      "SDF file written to 7KH_noH.sdf\n"
     ]
    },
    {
     "name": "stderr",
     "output_type": "stream",
     "text": [
      "1 molecule converted\n"
     ]
    }
   ],
   "source": [
    "import subprocess\n",
    "\n",
    "smiles = \"[H]/N=C/c1nc(nc(n1)N(Cc2cn3ccccc3n2)C4CCCC4)N5CCOCC5\"\n",
    "output_file = \"7KH_noH.sdf\"\n",
    "\n",
    "cmd = [\n",
    "    \"obabel\",\n",
    "    f\"-:{smiles}\",\n",
    "    \"--gen3d\",  # do not add hydrogens\n",
    "    \"-d\", # delete Hs \n",
    "    \"-O\", output_file,  \n",
    "    \"--sd\", # sdf format \n",
    "    \"--v2000\" # molfile version 2000  \n",
    "]\n",
    "\n",
    "subprocess.run(cmd, check=True)\n",
    "print(f\"SDF file written to {output_file}\")"
   ]
  },
  {
   "cell_type": "code",
   "execution_count": 86,
   "id": "d1424f7a",
   "metadata": {},
   "outputs": [
    {
     "data": {
      "image/png": "[encoded data removed]",
      "text/plain": [
       "<rdkit.Chem.rdchem.Mol at 0x149cb2c56ff0>"
      ]
     },
     "execution_count": 86,
     "metadata": {},
     "output_type": "execute_result"
    }
   ],
   "source": [
    "from rdkit import Chem\n",
    "from rdkit.Chem import AllChem\n",
    "\n",
    "# Load molecule\n",
    "supplier = Chem.SDMolSupplier(\"7KH_rdkit.sdf\")\n",
    "mol_sdf = supplier[0]\n",
    "\n",
    "# Add hydrogens\n",
    "# mol = Chem.AddHs(mol) # dont add Hs bc original doesnt either \n",
    "\n",
    "# Generate 3D coordinates; not needed since --gen3d used in obabel\n",
    "# params = AllChem.ETKDGv3()\n",
    "# res = AllChem.EmbedMolecule(mol, params)\n",
    "\n",
    "# Now mol is an RDKit Mol with 3D coordinates\n",
    "# print(Chem.MolToMolBlock(mol_sdf))  # view MOL block with 3D coords\n",
    "mol_sdf"
   ]
  },
  {
   "cell_type": "code",
   "execution_count": 87,
   "id": "f648f26a",
   "metadata": {},
   "outputs": [
    {
     "name": "stdout",
     "output_type": "stream",
     "text": [
      "{'__computedProps': <rdkit.rdBase._vectNSt7__cxx1112basic_stringIcSt11char_traitsIcESaIcEEE object at 0x149cb2a5ef40>, '_CIPRank': 13}\n",
      "['ClearProp', 'ClearPropertyCache', 'DescribeQuery', 'GetAtomMapNum', 'GetAtomicNum', 'GetBonds', 'GetBoolProp', 'GetChiralTag', 'GetDegree', 'GetDoubleProp', 'GetExplicitBitVectProp', 'GetExplicitValence', 'GetFormalCharge', 'GetHybridization', 'GetIdx', 'GetImplicitValence', 'GetIntProp', 'GetIsAromatic', 'GetIsotope', 'GetMass', 'GetMonomerInfo', 'GetNeighbors', 'GetNoImplicit', 'GetNumExplicitHs', 'GetNumImplicitHs', 'GetNumRadicalElectrons', 'GetOwningMol', 'GetPDBResidueInfo', 'GetProp', 'GetPropNames', 'GetPropsAsDict', 'GetQueryType', 'GetSmarts', 'GetSymbol', 'GetTotalDegree', 'GetTotalNumHs', 'GetTotalValence', 'GetUnsignedProp', 'GetValence', 'HasOwningMol', 'HasProp', 'HasQuery', 'HasValenceViolation', 'InvertChirality', 'IsInRing', 'IsInRingSize', 'Match', 'NeedsUpdatePropertyCache', 'SetAtomMapNum', 'SetAtomicNum', 'SetBoolProp', 'SetChiralTag', 'SetDoubleProp', 'SetExplicitBitVectProp', 'SetFormalCharge', 'SetHybridization', 'SetIntProp', 'SetIsAromatic', 'SetIsotope', 'SetMonomerInfo', 'SetNoImplicit', 'SetNumExplicitHs', 'SetNumRadicalElectrons', 'SetPDBResidueInfo', 'SetProp', 'SetUnsignedProp', 'UpdatePropertyCache', '__class__', '__copy__', '__delattr__', '__dict__', '__dir__', '__doc__', '__eq__', '__format__', '__ge__', '__getattribute__', '__getstate__', '__gt__', '__hash__', '__init__', '__init_subclass__', '__instance_size__', '__le__', '__lt__', '__module__', '__ne__', '__new__', '__reduce__', '__reduce_ex__', '__repr__', '__setattr__', '__sizeof__', '__str__', '__subclasshook__', '__weakref__']\n"
     ]
    },
    {
     "name": "stderr",
     "output_type": "stream",
     "text": [
      "[12:48:18] Molecule does not have explicit Hs. Consider calling AddHs()\n",
      "[12:48:18] Molecule does not have explicit Hs. Consider calling AddHs()\n"
     ]
    }
   ],
   "source": [
    "# with rdkit does it work? yes but obabel is better for writing the sdf with 3D coords\n",
    "smiles = \"[H]/N=C/c1nc(nc(n1)N(Cc2cn3ccccc3n2)C4CCCC4)N5CCOCC5\" \n",
    "\n",
    "mol2 = Chem.MolFromSmiles(smiles)\n",
    "# mol2 = Chem.AddHs(mol2)\n",
    "\n",
    "success = compute_3d(mol2, version=\"v3\")\n",
    "_ = get_conformer(mol2, ConformerType.Computed)\n",
    "\n",
    "atom = mol2.GetAtomWithIdx(3)  # first atom\n",
    "\n",
    "# Show all properties of the atom\n",
    "print(atom.GetPropsAsDict())\n",
    "print(dir(atom))\n",
    "# i dont think it has all the same props/attributes as the one loaded from sdf"
   ]
  },
  {
   "cell_type": "code",
   "execution_count": 52,
   "id": "d2f795c4",
   "metadata": {},
   "outputs": [],
   "source": [
    "sdf_writer = Chem.SDWriter(\"7KH_rdkit.sdf\")\n",
    "sdf_writer.write(mol2)\n",
    "sdf_writer.close()"
   ]
  },
  {
   "cell_type": "code",
   "execution_count": null,
   "id": "31c9d06c",
   "metadata": {},
   "outputs": [
    {
     "data": {
      "text/plain": [
       "rdkit.Chem.rdchem.Mol"
      ]
     },
     "execution_count": 80,
     "metadata": {},
     "output_type": "execute_result"
    }
   ],
   "source": [
    "mol = Chem.SDMolSupplier(\"7KH.sdf\")[0]\n",
    "mol_noHs = Chem.RemoveHs(mol)\n",
    "type(mol_sdf)"
   ]
  },
  {
   "cell_type": "code",
   "execution_count": null,
   "id": "6b5bcddf",
   "metadata": {},
   "outputs": [],
   "source": []
  },
  {
   "cell_type": "markdown",
   "id": "7f28a1f5",
   "metadata": {},
   "source": [
    "### original pkl "
   ]
  },
  {
   "cell_type": "code",
   "execution_count": null,
   "id": "2930366e",
   "metadata": {},
   "outputs": [],
   "source": [
    "import pickle\n",
    "orig_pkl = '/home/ymanasa/.boltz/orig_mols/7KH.pkl'\n",
    "with open(orig_pkl, 'rb') as file: \n",
    "    mol_loaded_orig = pickle.load(file)"
   ]
  },
  {
   "cell_type": "code",
   "execution_count": null,
   "id": "39823ce0",
   "metadata": {},
   "outputs": [],
   "source": [
    "for i, atom in enumerate(mol_loaded_orig.GetAtoms()):\n",
    "    print(atom.GetProp(\"name\"))"
   ]
  },
  {
   "cell_type": "code",
   "execution_count": 24,
   "id": "46a10649",
   "metadata": {},
   "outputs": [],
   "source": [
    "# atom props\n",
    "atom_orig = mol_loaded_orig.GetAtomWithIdx(0)  # first atom\n",
    "\n",
    "# Show all properties of the atom\n",
    "atom_origdict = atom_orig.GetPropsAsDict()\n",
    "atom_origlist = dir(atom_orig)"
   ]
  },
  {
   "cell_type": "code",
   "execution_count": 25,
   "id": "8fd97f4c",
   "metadata": {},
   "outputs": [
    {
     "data": {
      "text/plain": [
       "{'name': 'C5',\n",
       " 'alt_name': 'C1',\n",
       " 'leaving_atom': False,\n",
       " '_NonExplicit3DChirality': 1,\n",
       " '__computedProps': <rdkit.rdBase._vectNSt7__cxx1112basic_stringIcSt11char_traitsIcESaIcEEE at 0x153b78dcbdc0>,\n",
       " '_CIPRank': 7}"
      ]
     },
     "execution_count": 25,
     "metadata": {},
     "output_type": "execute_result"
    }
   ],
   "source": [
    "atom_origdict"
   ]
  },
  {
   "cell_type": "markdown",
   "id": "da8cd4ac",
   "metadata": {},
   "source": [
    "### diff between orig and sdf props for atoms"
   ]
  },
  {
   "cell_type": "code",
   "execution_count": null,
   "id": "1b06ab03",
   "metadata": {},
   "outputs": [
    {
     "data": {
      "text/plain": [
       "['alt_name', 'leaving_atom', 'name', '_NonExplicit3DChirality', '_CIPRank']"
      ]
     },
     "execution_count": 14,
     "metadata": {},
     "output_type": "execute_result"
    }
   ],
   "source": [
    "list(set(atom_origdict) - set(atom_newdict)) # elements in orig but not in new\n",
    "# not all atoms have these props"
   ]
  },
  {
   "cell_type": "code",
   "execution_count": null,
   "id": "832e44db",
   "metadata": {},
   "outputs": [
    {
     "data": {
      "text/plain": [
       "[]"
      ]
     },
     "execution_count": 15,
     "metadata": {},
     "output_type": "execute_result"
    }
   ],
   "source": [
    "list(set(atom_origlist) - set(atom_newlist))\n"
   ]
  },
  {
   "cell_type": "markdown",
   "id": "54faea13",
   "metadata": {},
   "source": [
    "### diff between orig and sdf props for molecules"
   ]
  },
  {
   "cell_type": "code",
   "execution_count": 44,
   "id": "c947a452",
   "metadata": {},
   "outputs": [
    {
     "data": {
      "text/plain": [
       "{'MOL_NAME': '7KH',\n",
       " 'symmetries': '800495080100000000000028284b004b014b024b034b044b054b064b074b084b094b0a4b0b4b0c4b0d4b0e4b0f4b104b114b124b134b144b154b164b174b184b194b1a4b1b4b1c4b1d4b1e7494284b004b014b024b0e4b044b054b0f4b074b084b094b0a4b0b4b0c4b0d4b034b064b104b114b124b134b144b154b164b174b184b194b1a4b1b4b1c4b1d4b1e7494284b024b014b004b034b044b074b064b054b084b094b0a4b0b4b0c4b0d4b0e4b0f4b104b114b124b134b144b154b164b174b184b194b1a4b1b4b1c4b1d4b1e7494284b024b014b004b0e4b044b074b0f4b054b084b094b0a4b0b4b0c4b0d4b034b064b104b114b124b134b144b154b164b174b184b194b1a4b1b4b1c4b1d4b1e749474942e',\n",
       " 'pb_edge_index': '8004959f1d0000000000008c166e756d70792e5f636f72652e6d756c74696172726179948c0c5f7265636f6e7374727563749493948c056e756d7079948c076e6461727261799493944b0085944301629487945294284b014b024dd101869468038c0564747970659493948c02693894898887945294284b038c013c944e4e4e4affffffff4affffffff4b007494628942101d00000000000000000000000000000000000000000000000000000000000000000000000000000000000000000000000000000000000000000000000000000000000000000000000000000000000000000000000000000000000000000000000000000000000000000000000000000000000000000000000000000000000000000000000000000000000000000000000000000000000000000000000000000000000000000000000000000000000000000000000000000000000000000000000000000000000000000000000000000000000000000000000000000000000000000000000000000000000000000000000000000100000000000000010000000000000001000000000000000100000000000000010000000000000001000000000000000100000000000000010000000000000001000000000000000100000000000000010000000000000001000000000000000100000000000000010000000000000001000000000000000100000000000000010000000000000001000000000000000100000000000000010000000000000001000000000000000100000000000000010000000000000001000000000000000100000000000000010000000000000001000000000000000100000000000000010000000000000002000000000000000200000000000000020000000000000002000000000000000200000000000000020000000000000002000000000000000200000000000000020000000000000002000000000000000200000000000000020000000000000002000000000000000200000000000000020000000000000002000000000000000200000000000000020000000000000002000000000000000200000000000000020000000000000002000000000000000200000000000000020000000000000002000000000000000200000000000000020000000000000002000000000000000300000000000000030000000000000003000000000000000300000000000000030000000000000003000000000000000300000000000000030000000000000003000000000000000300000000000000030000000000000003000000000000000300000000000000030000000000000003000000000000000300000000000000030000000000000003000000000000000300000000000000030000000000000003000000000000000300000000000000030000000000000003000000000000000300000000000000030000000000000003000000000000000400000000000000040000000000000004000000000000000400000000000000040000000000000004000000000000000400000000000000040000000000000004000000000000000400000000000000040000000000000004000000000000000400000000000000040000000000000004000000000000000400000000000000040000000000000004000000000000000400000000000000040000000000000004000000000000000400000000000000040000000000000004000000000000000400000000000000040000000000000005000000000000000500000000000000050000000000000005000000000000000500000000000000050000000000000005000000000000000500000000000000050000000000000005000000000000000500000000000000050000000000000005000000000000000500000000000000050000000000000005000000000000000500000000000000050000000000000005000000000000000500000000000000050000000000000005000000000000000500000000000000050000000000000005000000000000000600000000000000060000000000000006000000000000000600000000000000060000000000000006000000000000000600000000000000060000000000000006000000000000000600000000000000060000000000000006000000000000000600000000000000060000000000000006000000000000000600000000000000060000000000000006000000000000000600000000000000060000000000000006000000000000000600000000000000060000000000000006000000000000000700000000000000070000000000000007000000000000000700000000000000070000000000000007000000000000000700000000000000070000000000000007000000000000000700000000000000070000000000000007000000000000000700000000000000070000000000000007000000000000000700000000000000070000000000000007000000000000000700000000000000070000000000000007000000000000000700000000000000070000000000000008000000000000000800000000000000080000000000000008000000000000000800000000000000080000000000000008000000000000000800000000000000080000000000000008000000000000000800000000000000080000000000000008000000000000000800000000000000080000000000000008000000000000000800000000000000080000000000000008000000000000000800000000000000080000000000000008000000000000000900000000000000090000000000000009000000000000000900000000000000090000000000000009000000000000000900000000000000090000000000000009000000000000000900000000000000090000000000000009000000000000000900000000000000090000000000000009000000000000000900000000000000090000000000000009000000000000000900000000000000090000000000000009000000000000000a000000000000000a000000000000000a000000000000000a000000000000000a000000000000000a000000000000000a000000000000000a000000000000000a000000000000000a000000000000000a000000000000000a000000000000000a000000000000000a000000000000000a000000000000000a000000000000000a000000000000000a000000000000000a000000000000000a000000000000000b000000000000000b000000000000000b000000000000000b000000000000000b000000000000000b000000000000000b000000000000000b000000000000000b000000000000000b000000000000000b000000000000000b000000000000000b000000000000000b000000000000000b000000000000000b000000000000000b000000000000000b000000000000000b000000000000000c000000000000000c000000000000000c000000000000000c000000000000000c000000000000000c000000000000000c000000000000000c000000000000000c000000000000000c000000000000000c000000000000000c000000000000000c000000000000000c000000000000000c000000000000000c000000000000000c000000000000000c000000000000000d000000000000000d000000000000000d000000000000000d000000000000000d000000000000000d000000000000000d000000000000000d000000000000000d000000000000000d000000000000000d000000000000000d000000000000000d000000000000000d000000000000000d000000000000000d000000000000000d000000000000000e000000000000000e000000000000000e000000000000000e000000000000000e000000000000000e000000000000000e000000000000000e000000000000000e000000000000000e000000000000000e000000000000000e000000000000000e000000000000000e000000000000000e000000000000000e000000000000000f000000000000000f000000000000000f000000000000000f000000000000000f000000000000000f000000000000000f000000000000000f000000000000000f000000000000000f000000000000000f000000000000000f000000000000000f000000000000000f000000000000000f00000000000000100000000000000010000000000000001000000000000000100000000000000010000000000000001000000000000000100000000000000010000000000000001000000000000000100000000000000010000000000000001000000000000000100000000000000010000000000000001100000000000000110000000000000011000000000000001100000000000000110000000000000011000000000000001100000000000000110000000000000011000000000000001100000000000000110000000000000011000000000000001100000000000000120000000000000012000000000000001200000000000000120000000000000012000000000000001200000000000000120000000000000012000000000000001200000000000000120000000000000012000000000000001200000000000000130000000000000013000000000000001300000000000000130000000000000013000000000000001300000000000000130000000000000013000000000000001300000000000000130000000000000013000000000000001400000000000000140000000000000014000000000000001400000000000000140000000000000014000000000000001400000000000000140000000000000014000000000000001400000000000000150000000000000015000000000000001500000000000000150000000000000015000000000000001500000000000000150000000000000015000000000000001500000000000000160000000000000016000000000000001600000000000000160000000000000016000000000000001600000000000000160000000000000016000000000000001700000000000000170000000000000017000000000000001700000000000000170000000000000017000000000000001700000000000000180000000000000018000000000000001800000000000000180000000000000018000000000000001800000000000000190000000000000019000000000000001900000000000000190000000000000019000000000000001a000000000000001a000000000000001a000000000000001a000000000000001b000000000000001b000000000000001b000000000000001c000000000000001c000000000000001d000000000000000100000000000000020000000000000003000000000000000400000000000000050000000000000006000000000000000700000000000000080000000000000009000000000000000a000000000000000b000000000000000c000000000000000d000000000000000e000000000000000f0000000000000010000000000000001100000000000000120000000000000013000000000000001400000000000000150000000000000016000000000000001700000000000000180000000000000019000000000000001a000000000000001b000000000000001c000000000000001d000000000000001e00000000000000020000000000000003000000000000000400000000000000050000000000000006000000000000000700000000000000080000000000000009000000000000000a000000000000000b000000000000000c000000000000000d000000000000000e000000000000000f0000000000000010000000000000001100000000000000120000000000000013000000000000001400000000000000150000000000000016000000000000001700000000000000180000000000000019000000000000001a000000000000001b000000000000001c000000000000001d000000000000001e0000000000000003000000000000000400000000000000050000000000000006000000000000000700000000000000080000000000000009000000000000000a000000000000000b000000000000000c000000000000000d000000000000000e000000000000000f0000000000000010000000000000001100000000000000120000000000000013000000000000001400000000000000150000000000000016000000000000001700000000000000180000000000000019000000000000001a000000000000001b000000000000001c000000000000001d000000000000001e000000000000000400000000000000050000000000000006000000000000000700000000000000080000000000000009000000000000000a000000000000000b000000000000000c000000000000000d000000000000000e000000000000000f0000000000000010000000000000001100000000000000120000000000000013000000000000001400000000000000150000000000000016000000000000001700000000000000180000000000000019000000000000001a000000000000001b000000000000001c000000000000001d000000000000001e00000000000000050000000000000006000000000000000700000000000000080000000000000009000000000000000a000000000000000b000000000000000c000000000000000d000000000000000e000000000000000f0000000000000010000000000000001100000000000000120000000000000013000000000000001400000000000000150000000000000016000000000000001700000000000000180000000000000019000000000000001a000000000000001b000000000000001c000000000000001d000000000000001e0000000000000006000000000000000700000000000000080000000000000009000000000000000a000000000000000b000000000000000c000000000000000d000000000000000e000000000000000f0000000000000010000000000000001100000000000000120000000000000013000000000000001400000000000000150000000000000016000000000000001700000000000000180000000000000019000000000000001a000000000000001b000000000000001c000000000000001d000000000000001e000000000000000700000000000000080000000000000009000000000000000a000000000000000b000000000000000c000000000000000d000000000000000e000000000000000f0000000000000010000000000000001100000000000000120000000000000013000000000000001400000000000000150000000000000016000000000000001700000000000000180000000000000019000000000000001a000000000000001b000000000000001c000000000000001d000000000000001e00000000000000080000000000000009000000000000000a000000000000000b000000000000000c000000000000000d000000000000000e000000000000000f0000000000000010000000000000001100000000000000120000000000000013000000000000001400000000000000150000000000000016000000000000001700000000000000180000000000000019000000000000001a000000000000001b000000000000001c000000000000001d000000000000001e0000000000000009000000000000000a000000000000000b000000000000000c000000000000000d000000000000000e000000000000000f0000000000000010000000000000001100000000000000120000000000000013000000000000001400000000000000150000000000000016000000000000001700000000000000180000000000000019000000000000001a000000000000001b000000000000001c000000000000001d000000000000001e000000000000000a000000000000000b000000000000000c000000000000000d000000000000000e000000000000000f0000000000000010000000000000001100000000000000120000000000000013000000000000001400000000000000150000000000000016000000000000001700000000000000180000000000000019000000000000001a000000000000001b000000000000001c000000000000001d000000000000001e000000000000000b000000000000000c000000000000000d000000000000000e000000000000000f0000000000000010000000000000001100000000000000120000000000000013000000000000001400000000000000150000000000000016000000000000001700000000000000180000000000000019000000000000001a000000000000001b000000000000001c000000000000001d000000000000001e000000000000000c000000000000000d000000000000000e000000000000000f0000000000000010000000000000001100000000000000120000000000000013000000000000001400000000000000150000000000000016000000000000001700000000000000180000000000000019000000000000001a000000000000001b000000000000001c000000000000001d000000000000001e000000000000000d000000000000000e000000000000000f0000000000000010000000000000001100000000000000120000000000000013000000000000001400000000000000150000000000000016000000000000001700000000000000180000000000000019000000000000001a000000000000001b000000000000001c000000000000001d000000000000001e000000000000000e000000000000000f0000000000000010000000000000001100000000000000120000000000000013000000000000001400000000000000150000000000000016000000000000001700000000000000180000000000000019000000000000001a000000000000001b000000000000001c000000000000001d000000000000001e000000000000000f0000000000000010000000000000001100000000000000120000000000000013000000000000001400000000000000150000000000000016000000000000001700000000000000180000000000000019000000000000001a000000000000001b000000000000001c000000000000001d000000000000001e0000000000000010000000000000001100000000000000120000000000000013000000000000001400000000000000150000000000000016000000000000001700000000000000180000000000000019000000000000001a000000000000001b000000000000001c000000000000001d000000000000001e000000000000001100000000000000120000000000000013000000000000001400000000000000150000000000000016000000000000001700000000000000180000000000000019000000000000001a000000000000001b000000000000001c000000000000001d000000000000001e00000000000000120000000000000013000000000000001400000000000000150000000000000016000000000000001700000000000000180000000000000019000000000000001a000000000000001b000000000000001c000000000000001d000000000000001e0000000000000013000000000000001400000000000000150000000000000016000000000000001700000000000000180000000000000019000000000000001a000000000000001b000000000000001c000000000000001d000000000000001e000000000000001400000000000000150000000000000016000000000000001700000000000000180000000000000019000000000000001a000000000000001b000000000000001c000000000000001d000000000000001e00000000000000150000000000000016000000000000001700000000000000180000000000000019000000000000001a000000000000001b000000000000001c000000000000001d000000000000001e0000000000000016000000000000001700000000000000180000000000000019000000000000001a000000000000001b000000000000001c000000000000001d000000000000001e000000000000001700000000000000180000000000000019000000000000001a000000000000001b000000000000001c000000000000001d000000000000001e00000000000000180000000000000019000000000000001a000000000000001b000000000000001c000000000000001d000000000000001e0000000000000019000000000000001a000000000000001b000000000000001c000000000000001d000000000000001e000000000000001a000000000000001b000000000000001c000000000000001d000000000000001e000000000000001b000000000000001c000000000000001d000000000000001e000000000000001c000000000000001d000000000000001e000000000000001d000000000000001e000000000000001e00000000000000947494622e',\n",
       " 'pb_upper_bounds': '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',\n",
       " 'pb_lower_bounds': '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',\n",
       " 'pb_bond_mask': '8004955e020000000000008c166e756d70792e5f636f72652e6d756c74696172726179948c0c5f7265636f6e7374727563749493948c056e756d7079948c076e6461727261799493944b0085944301629487945294284b014dd101859468038c0564747970659493948c02623194898887945294284b038c017c944e4e4e4affffffff4affffffff4b007494628942d1010000000000000100000000000100000000000000000000000000000000000000000000000000000000000100000000000001000000000000000000000000000000010000000100000000000000000000000000000000000000000001000000000000000000010000000000000000000000000000000000000000000001000000000000000001000001000000000000000000010000000000000000000000000000000000000000000000000000000001000000000000000000000000000000000001000000000000000000000000000000000000000001000000000000000101000000000000000000000000000000010000010000000000000000000000000000000000000000000000000000000000000000000000000000000000000001000000000000000000000000000000000000000000000000000001000000000000000000000000000000000001010000000000000000000000000000000000000000000000000000000000000000000000000000000000000000000001000000000000000000010000000000000000000000010000000000000000000001000000000000000000000000000000000000010000000000000001000000000100010100000000000000000001000000010000010000947494622e',\n",
       " 'pb_angle_mask': '8004955e020000000000008c166e756d70792e5f636f72652e6d756c74696172726179948c0c5f7265636f6e7374727563749493948c056e756d7079948c076e6461727261799493944b0085944301629487945294284b014dd101859468038c0564747970659493948c02623194898887945294284b038c017c944e4e4e4affffffff4affffffff4b007494628942d1010000000000000100000000000100000000000000000000000000000000000000000000000000000000000100000000000001000000000000000000000000000000010000000100000000000000000000000000000000000000000001000000000000000000010000000000000000000000000000000000000000000001000000000000000001000001000000000000000000010000000000000000000000000000000001000000000000000000000001000000000000000000010000000000000000000000000000000000000000000000000000000001000000000000000101000000000000000000000100000000000000010000000000000000000000000000000000000000000000000000000000000000000000000000000000010001000000000000000000000000000000000001000000000100000000000000000000000000000000000000000000000000000000000000000000000100000000000000000000000000000000000000000100000000000000000000000001000000000000000000010000000000000000000000010000000000000000000001000000000000000000000000000000000000010000000000000001000000000100000100000100000000000001000000010000000000947494622e',\n",
       " 'chiral_atom_index': '8004958b000000000000008c166e756d70792e5f636f72652e6d756c74696172726179948c0c5f7265636f6e7374727563749493948c056e756d7079948c076e6461727261799493944b0085944301629487945294284b014b044b00869468038c0564747970659493948c02693894898887945294284b038c013c944e4e4e4affffffff4affffffff4b00749462894300947494622e',\n",
       " 'chiral_check_mask': '80049589000000000000008c166e756d70792e5f636f72652e6d756c74696172726179948c0c5f7265636f6e7374727563749493948c056e756d7079948c076e6461727261799493944b0085944301629487945294284b014b00859468038c0564747970659493948c02623194898887945294284b038c017c944e4e4e4affffffff4affffffff4b00749462894300947494622e',\n",
       " 'chiral_atom_orientations': '80049589000000000000008c166e756d70792e5f636f72652e6d756c74696172726179948c0c5f7265636f6e7374727563749493948c056e756d7079948c076e6461727261799493944b0085944301629487945294284b014b00859468038c0564747970659493948c02623194898887945294284b038c017c944e4e4e4affffffff4affffffff4b00749462894300947494622e',\n",
       " 'stereo_bond_index': '800495ab000000000000008c166e756d70792e5f636f72652e6d756c74696172726179948c0c5f7265636f6e7374727563749493948c056e756d7079948c076e6461727261799493944b0085944301629487945294284b014b044b01869468038c0564747970659493948c02693894898887945294284b038c013c944e4e4e4affffffff4affffffff4b007494628943201e000000000000000c0000000000000001000000000000001300000000000000947494622e',\n",
       " 'stereo_check_mask': '8004958a000000000000008c166e756d70792e5f636f72652e6d756c74696172726179948c0c5f7265636f6e7374727563749493948c056e756d7079948c076e6461727261799493944b0085944301629487945294284b014b01859468038c0564747970659493948c02623194898887945294284b038c017c944e4e4e4affffffff4affffffff4b0074946289430101947494622e',\n",
       " 'stereo_bond_orientations': '8004958a000000000000008c166e756d70792e5f636f72652e6d756c74696172726179948c0c5f7265636f6e7374727563749493948c056e756d7079948c076e6461727261799493944b0085944301629487945294284b014b01859468038c0564747970659493948c02623194898887945294284b038c017c944e4e4e4affffffff4affffffff4b0074946289430101947494622e',\n",
       " 'aromatic_5_ring_index': '800495b3000000000000008c166e756d70792e5f636f72652e6d756c74696172726179948c0c5f7265636f6e7374727563749493948c056e756d7079948c076e6461727261799493944b0085944301629487945294284b014b054b01869468038c0564747970659493948c02693894898887945294284b038c013c944e4e4e4affffffff4affffffff4b0074946289432804000000000000001900000000000000180000000000000017000000000000001600000000000000947494622e',\n",
       " 'aromatic_6_ring_index': '800495bb000000000000008c166e756d70792e5f636f72652e6d756c74696172726179948c0c5f7265636f6e7374727563749493948c056e756d7079948c076e6461727261799493944b0085944301629487945294284b014b064b01869468038c0564747970659493948c02693894898887945294284b038c013c944e4e4e4affffffff4affffffff4b00749462894330080000000000000012000000000000001300000000000000140000000000000015000000000000001100000000000000947494622e',\n",
       " 'planar_double_bond_index': '8004958b000000000000008c166e756d70792e5f636f72652e6d756c74696172726179948c0c5f7265636f6e7374727563749493948c056e756d7079948c076e6461727261799493944b0085944301629487945294284b014b064b00869468038c0564747970659493948c02693894898887945294284b038c013c944e4e4e4affffffff4affffffff4b00749462894300947494622e'}"
      ]
     },
     "execution_count": 44,
     "metadata": {},
     "output_type": "execute_result"
    }
   ],
   "source": [
    "import pickle\n",
    "phenix_pkl = '/home/ymanasa/.boltz/orig_mols/7KH.pkl'\n",
    "with open(phenix_pkl, 'rb') as file: \n",
    "    mol_loaded_orig = pickle.load(file)\n",
    "\n",
    "atom_orig_dict = mol_loaded_orig.GetPropsAsDict()\n",
    "atom_orig_dict"
   ]
  },
  {
   "cell_type": "code",
   "execution_count": 55,
   "id": "69b30401",
   "metadata": {},
   "outputs": [],
   "source": [
    "from rdkit import Chem\n",
    "from rdkit.Chem import AllChem\n",
    "\n",
    "supplier = Chem.SDMolSupplier(\"7KH_rdkit.sdf\")\n",
    "mol = supplier[0]\n",
    "# mol = Chem.AddHs(mol)\n",
    "# params = AllChem.ETKDGv3()\n",
    "# res = AllChem.EmbedMolecule(mol, params)\n",
    "\n",
    "atom_sdf_dict = mol.GetPropsAsDict()"
   ]
  },
  {
   "cell_type": "code",
   "execution_count": 58,
   "id": "4db3f73a",
   "metadata": {},
   "outputs": [
    {
     "data": {
      "text/plain": [
       "['stereo_bond_orientations',\n",
       " 'pb_lower_bounds',\n",
       " 'aromatic_6_ring_index',\n",
       " 'pb_edge_index',\n",
       " 'chiral_check_mask',\n",
       " 'aromatic_5_ring_index',\n",
       " 'symmetries',\n",
       " 'pb_angle_mask',\n",
       " 'stereo_check_mask',\n",
       " 'pb_bond_mask',\n",
       " 'chiral_atom_orientations',\n",
       " 'MOL_NAME',\n",
       " 'chiral_atom_index',\n",
       " 'pb_upper_bounds',\n",
       " 'planar_double_bond_index',\n",
       " 'stereo_bond_index']"
      ]
     },
     "execution_count": 58,
     "metadata": {},
     "output_type": "execute_result"
    }
   ],
   "source": [
    "list(set(atom_orig_dict) - set(atom_sdf_dict))"
   ]
  },
  {
   "cell_type": "markdown",
   "id": "53641962",
   "metadata": {},
   "source": [
    "### how to get the missing props for atoms? "
   ]
  },
  {
   "cell_type": "markdown",
   "id": "249c09e3",
   "metadata": {},
   "source": [
    "#### _CIFRank"
   ]
  },
  {
   "cell_type": "code",
   "execution_count": null,
   "id": "865539b0",
   "metadata": {},
   "outputs": [
    {
     "data": {
      "text/plain": [
       "{'__computedProps': <rdkit.rdBase._vectNSt7__cxx1112basic_stringIcSt11char_traitsIcESaIcEEE at 0x149cb2a5efc0>,\n",
       " '_CIPRank': 6}"
      ]
     },
     "execution_count": 89,
     "metadata": {},
     "output_type": "execute_result"
    }
   ],
   "source": [
    "from rdkit import Chem\n",
    "from rdkit.Chem import AllChem\n",
    "\n",
    "# _CIPRank is rank following Cahn-Ingold-Prelog rules for stereochemistry (R/S for chiral centers)\n",
    "# loading rdkit made sdf \n",
    "supplier = Chem.SDMolSupplier(\"7KH.sdf\")\n",
    "mol_sdf = supplier[0]\n",
    "\n",
    "# # assign sterochemistry\n",
    "# Chem.AssignStereochemistry(mol2, cleanIt=True, force=True, flagPossibleStereoCenters=True)\n",
    "\n",
    "atom_sdf = mol2.GetAtomWithIdx(10)\n",
    "atom_sdf_dict = atom_sdf.GetPropsAsDict()\n",
    "atom_sdf_dict\n",
    "# CIPRank 12 is not weird (doesnt need to be from 0-3) bc its relative global ranking of all stereocenters in the molecule\n",
    "# only whether atom A has a lower rank than atom B matters for determining R/S\n",
    "\n"
   ]
  },
  {
   "cell_type": "code",
   "execution_count": null,
   "id": "7912bc27",
   "metadata": {},
   "outputs": [],
   "source": [
    "for atom in mol_loaded_orig.GetAtoms():\n",
    "    # props = atom.GetPropsAsDict(includePrivate=True, includeComputed=True)\n",
    "    # print(atom.GetIdx(), atom.GetSymbol(), props)\n",
    "    print(atom.GetFormalCharge())"
   ]
  },
  {
   "cell_type": "code",
   "execution_count": 81,
   "id": "a0769451",
   "metadata": {},
   "outputs": [
    {
     "data": {
      "image/jpeg": "[encoded data removed]",
      "image/png": "[encoded data removed]",
      "text/plain": [
       "<PIL.PngImagePlugin.PngImageFile image mode=RGB size=300x300>"
      ]
     },
     "execution_count": 81,
     "metadata": {},
     "output_type": "execute_result"
    }
   ],
   "source": [
    "from rdkit.Chem import Draw\n",
    "\n",
    "Draw.MolToImage(mol_sdf, size=(300,300))"
   ]
  },
  {
   "cell_type": "code",
   "execution_count": 61,
   "id": "1631f3a1",
   "metadata": {},
   "outputs": [
    {
     "data": {
      "text/plain": [
       "{'name': 'C26',\n",
       " 'alt_name': 'C17',\n",
       " 'leaving_atom': False,\n",
       " '__computedProps': <rdkit.rdBase._vectNSt7__cxx1112basic_stringIcSt11char_traitsIcESaIcEEE at 0x149cb2a5cbc0>,\n",
       " '_CIPRank': 10}"
      ]
     },
     "execution_count": 61,
     "metadata": {},
     "output_type": "execute_result"
    }
   ],
   "source": [
    "import pickle\n",
    "phenix_pkl = '/home/ymanasa/.boltz/orig_mols/7KH.pkl'\n",
    "with open(phenix_pkl, 'rb') as file: \n",
    "    mol_loaded_orig = pickle.load(file)\n",
    "\n",
    "# atom props\n",
    "atom_orig = mol_loaded_orig.GetAtomWithIdx(25)  # first atom\n",
    "\n",
    "# Show all properties of the atom\n",
    "atom_origdict = atom_orig.GetPropsAsDict()\n",
    "atom_origdict\n",
    "    "
   ]
  },
  {
   "cell_type": "code",
   "execution_count": 92,
   "id": "f20610b1",
   "metadata": {},
   "outputs": [
    {
     "name": "stdout",
     "output_type": "stream",
     "text": [
      "0 C {'name': 'C5', 'alt_name': 'C1', 'leaving_atom': False, '_NonExplicit3DChirality': 1, '__computedProps': <rdkit.rdBase._vectNSt7__cxx1112basic_stringIcSt11char_traitsIcESaIcEEE object at 0x149cb2a5cc40>, '_CIPRank': 7}\n",
      "1 C {'name': 'C8', 'alt_name': 'C2', 'leaving_atom': False, '__computedProps': <rdkit.rdBase._vectNSt7__cxx1112basic_stringIcSt11char_traitsIcESaIcEEE object at 0x149cb2a5d5c0>, '_CIPRank': 12}\n",
      "2 C {'name': 'C1', 'alt_name': 'C3', 'leaving_atom': False, '_NonExplicit3DChirality': 1, '__computedProps': <rdkit.rdBase._vectNSt7__cxx1112basic_stringIcSt11char_traitsIcESaIcEEE object at 0x149cb2a5fa40>, '_CIPRank': 7}\n",
      "3 C {'name': 'C14', 'alt_name': 'C4', 'leaving_atom': False, '_NonExplicit3DChirality': 1, '__computedProps': <rdkit.rdBase._vectNSt7__cxx1112basic_stringIcSt11char_traitsIcESaIcEEE object at 0x149cb2a5cc40>, '_CIPRank': 2}\n",
      "4 C {'name': 'C9', 'alt_name': 'C5', 'leaving_atom': False, '__computedProps': <rdkit.rdBase._vectNSt7__cxx1112basic_stringIcSt11char_traitsIcESaIcEEE object at 0x149cb2a5fa40>, '_CIPRank': 11}\n",
      "5 C {'name': 'C4', 'alt_name': 'C6', 'leaving_atom': False, '_NonExplicit3DChirality': 1, '__computedProps': <rdkit.rdBase._vectNSt7__cxx1112basic_stringIcSt11char_traitsIcESaIcEEE object at 0x149cb2a5cc40>, '_CIPRank': 17}\n",
      "6 C {'name': 'C13', 'alt_name': 'C7', 'leaving_atom': False, '_NonExplicit3DChirality': 1, '__computedProps': <rdkit.rdBase._vectNSt7__cxx1112basic_stringIcSt11char_traitsIcESaIcEEE object at 0x149cb2a5fa40>, '_CIPRank': 1}\n",
      "7 C {'name': 'C2', 'alt_name': 'C8', 'leaving_atom': False, '_NonExplicit3DChirality': 1, '__computedProps': <rdkit.rdBase._vectNSt7__cxx1112basic_stringIcSt11char_traitsIcESaIcEEE object at 0x149cb2a5cc40>, '_CIPRank': 17}\n",
      "8 C {'name': 'C18', 'alt_name': 'C9', 'leaving_atom': False, '__computedProps': <rdkit.rdBase._vectNSt7__cxx1112basic_stringIcSt11char_traitsIcESaIcEEE object at 0x149cb2a5fa40>, '_CIPRank': 16}\n",
      "9 N {'name': 'N16', 'alt_name': 'N1', 'leaving_atom': False, '__computedProps': <rdkit.rdBase._vectNSt7__cxx1112basic_stringIcSt11char_traitsIcESaIcEEE object at 0x149cb2a5cc40>, '_CIPRank': 21}\n",
      "10 O {'name': 'O3', 'alt_name': 'O1', 'leaving_atom': False, '__computedProps': <rdkit.rdBase._vectNSt7__cxx1112basic_stringIcSt11char_traitsIcESaIcEEE object at 0x149cb2a5fa40>, '_CIPRank': 26}\n",
      "11 N {'name': 'N6', 'alt_name': 'N2', 'leaving_atom': False, '__computedProps': <rdkit.rdBase._vectNSt7__cxx1112basic_stringIcSt11char_traitsIcESaIcEEE object at 0x149cb2a5cc40>, '_CIPRank': 20}\n",
      "12 N {'name': 'N7', 'alt_name': 'N3', 'leaving_atom': False, '__computedProps': <rdkit.rdBase._vectNSt7__cxx1112basic_stringIcSt11char_traitsIcESaIcEEE object at 0x149cb2a5fa40>, '_CIPRank': 18}\n",
      "13 C {'name': 'C10', 'alt_name': 'C10', 'leaving_atom': False, '_NonExplicit3DChirality': 1, '__computedProps': <rdkit.rdBase._vectNSt7__cxx1112basic_stringIcSt11char_traitsIcESaIcEEE object at 0x149cb2a5cc40>, '_CIPRank': 6}\n",
      "14 C {'name': 'C11', 'alt_name': 'C11', 'leaving_atom': False, '_NonExplicit3DChirality': 1, '__computedProps': <rdkit.rdBase._vectNSt7__cxx1112basic_stringIcSt11char_traitsIcESaIcEEE object at 0x149cb2a5fa40>, '_CIPRank': 2}\n",
      "15 C {'name': 'C12', 'alt_name': 'C12', 'leaving_atom': False, '_NonExplicit3DChirality': 1, '__computedProps': <rdkit.rdBase._vectNSt7__cxx1112basic_stringIcSt11char_traitsIcESaIcEEE object at 0x149cb2a5cc40>, '_CIPRank': 1}\n",
      "16 C {'name': 'C15', 'alt_name': 'C13', 'leaving_atom': False, '_NonExplicit3DChirality': 1, '__computedProps': <rdkit.rdBase._vectNSt7__cxx1112basic_stringIcSt11char_traitsIcESaIcEEE object at 0x149cb2a5fa40>, '_CIPRank': 8}\n",
      "17 N {'name': 'N17', 'alt_name': 'N4', 'leaving_atom': False, '__computedProps': <rdkit.rdBase._vectNSt7__cxx1112basic_stringIcSt11char_traitsIcESaIcEEE object at 0x149cb2a5cc40>, '_CIPRank': 24}\n",
      "18 N {'name': 'N19', 'alt_name': 'N5', 'leaving_atom': False, '__computedProps': <rdkit.rdBase._vectNSt7__cxx1112basic_stringIcSt11char_traitsIcESaIcEEE object at 0x149cb2a5fa40>, '_CIPRank': 23}\n",
      "19 C {'name': 'C20', 'alt_name': 'C14', 'leaving_atom': False, '__computedProps': <rdkit.rdBase._vectNSt7__cxx1112basic_stringIcSt11char_traitsIcESaIcEEE object at 0x149cb2a5cc40>, '_CIPRank': 13}\n",
      "20 N {'name': 'N21', 'alt_name': 'N6', 'leaving_atom': False, '__computedProps': <rdkit.rdBase._vectNSt7__cxx1112basic_stringIcSt11char_traitsIcESaIcEEE object at 0x149cb2a5fa40>, '_CIPRank': 22}\n",
      "21 C {'name': 'C22', 'alt_name': 'C15', 'leaving_atom': False, '__computedProps': <rdkit.rdBase._vectNSt7__cxx1112basic_stringIcSt11char_traitsIcESaIcEEE object at 0x149cb2a5cc40>, '_CIPRank': 15}\n",
      "22 N {'name': 'N23', 'alt_name': 'N7', 'leaving_atom': False, '__computedProps': <rdkit.rdBase._vectNSt7__cxx1112basic_stringIcSt11char_traitsIcESaIcEEE object at 0x149cb2a5fa40>, '_CIPRank': 19}\n",
      "23 C {'name': 'C24', 'alt_name': 'C16', 'leaving_atom': False, '__computedProps': <rdkit.rdBase._vectNSt7__cxx1112basic_stringIcSt11char_traitsIcESaIcEEE object at 0x149cb2a5cc40>, '_CIPRank': 14}\n",
      "24 N {'name': 'N25', 'alt_name': 'N8', 'leaving_atom': False, '__computedProps': <rdkit.rdBase._vectNSt7__cxx1112basic_stringIcSt11char_traitsIcESaIcEEE object at 0x149cb2a5fa40>, '_CIPRank': 25}\n",
      "25 C {'name': 'C26', 'alt_name': 'C17', 'leaving_atom': False, '__computedProps': <rdkit.rdBase._vectNSt7__cxx1112basic_stringIcSt11char_traitsIcESaIcEEE object at 0x149cb2a5cc40>, '_CIPRank': 10}\n",
      "26 C {'name': 'C27', 'alt_name': 'C18', 'leaving_atom': False, '__computedProps': <rdkit.rdBase._vectNSt7__cxx1112basic_stringIcSt11char_traitsIcESaIcEEE object at 0x149cb2a5fa40>, '_CIPRank': 9}\n",
      "27 C {'name': 'C28', 'alt_name': 'C19', 'leaving_atom': False, '__computedProps': <rdkit.rdBase._vectNSt7__cxx1112basic_stringIcSt11char_traitsIcESaIcEEE object at 0x149cb2a5cc40>, '_CIPRank': 4}\n",
      "28 C {'name': 'C29', 'alt_name': 'C20', 'leaving_atom': False, '__computedProps': <rdkit.rdBase._vectNSt7__cxx1112basic_stringIcSt11char_traitsIcESaIcEEE object at 0x149cb2a5fa40>, '_CIPRank': 3}\n",
      "29 C {'name': 'C30', 'alt_name': 'C21', 'leaving_atom': False, '__computedProps': <rdkit.rdBase._vectNSt7__cxx1112basic_stringIcSt11char_traitsIcESaIcEEE object at 0x149cb2a5cc40>, '_CIPRank': 5}\n",
      "30 H {'name': 'H14', 'alt_name': 'H14', 'leaving_atom': False, '__computedProps': <rdkit.rdBase._vectNSt7__cxx1112basic_stringIcSt11char_traitsIcESaIcEEE object at 0x149cb2a5fa40>, '_CIPRank': 0}\n"
     ]
    }
   ],
   "source": [
    "for atom in mol_loaded_orig.GetAtoms():\n",
    "    props = atom.GetPropsAsDict(includePrivate=True, includeComputed=True)\n",
    "    print(atom.GetIdx(), atom.GetSymbol(), props)"
   ]
  },
  {
   "cell_type": "markdown",
   "id": "72d13538",
   "metadata": {},
   "source": [
    "#### _NonExplicit3DChirality"
   ]
  },
  {
   "cell_type": "code",
   "execution_count": 93,
   "id": "d7697000",
   "metadata": {},
   "outputs": [
    {
     "name": "stdout",
     "output_type": "stream",
     "text": [
      "C 1\n",
      "{'__computedProps': <rdkit.rdBase._vectNSt7__cxx1112basic_stringIcSt11char_traitsIcESaIcEEE object at 0x149cb2a5f4c0>, '_CIPRank': 8, '_NonExplicit3DChirality': 1}\n"
     ]
    }
   ],
   "source": [
    "from rdkit import Chem\n",
    "from rdkit.Chem import AllChem\n",
    "\n",
    "supplier = Chem.SDMolSupplier(\"7KH_rdkit.sdf\")\n",
    "mol_sdf = supplier[0]\n",
    "\n",
    "Chem.AssignAtomChiralTagsFromStructure(mol2)\n",
    "\n",
    "for atom in mol2.GetAtoms():\n",
    "    if atom.HasProp('_NonExplicit3DChirality'):\n",
    "        print(atom.GetSymbol(), atom.GetProp('_NonExplicit3DChirality'))\n",
    "        print(atom.GetPropsAsDict())\n",
    "\n"
   ]
  },
  {
   "cell_type": "code",
   "execution_count": 96,
   "id": "75dc3031",
   "metadata": {},
   "outputs": [
    {
     "name": "stdout",
     "output_type": "stream",
     "text": [
      "C 0 1\n",
      "C 2 1\n",
      "C 3 1\n",
      "C 5 1\n",
      "C 6 1\n",
      "C 7 1\n",
      "C 13 1\n",
      "C 14 1\n",
      "C 15 1\n",
      "C 16 1\n"
     ]
    }
   ],
   "source": [
    "import pickle\n",
    "phenix_pkl = '/home/ymanasa/.boltz/orig_mols/7KH.pkl'\n",
    "with open(phenix_pkl, 'rb') as file: \n",
    "    mol_loaded_orig = pickle.load(file)\n",
    "\n",
    "for atom in mol_loaded_orig.GetAtoms():\n",
    "    if atom.HasProp('_NonExplicit3DChirality'):\n",
    "        print(atom.GetSymbol(), atom.GetIdx(), atom.GetProp('_NonExplicit3DChirality'))\n",
    "    "
   ]
  },
  {
   "cell_type": "code",
   "execution_count": 28,
   "id": "bd6547d8",
   "metadata": {},
   "outputs": [
    {
     "name": "stdout",
     "output_type": "stream",
     "text": [
      "Atom 0 (C) has empty dict\n",
      "Atom 1 (C) has empty dict\n",
      "Atom 2 (C) has empty dict\n",
      "Atom 3 (C) has empty dict\n",
      "Atom 4 (C) has empty dict\n",
      "Atom 5 (C) has empty dict\n",
      "Atom 6 (C) has empty dict\n",
      "Atom 7 (C) has empty dict\n",
      "Atom 8 (C) has empty dict\n",
      "Atom 9 (N) has empty dict\n",
      "Atom 10 (O) has empty dict\n",
      "Atom 11 (N) has empty dict\n",
      "Atom 12 (N) has empty dict\n",
      "Atom 13 (C) has empty dict\n",
      "Atom 14 (C) has empty dict\n",
      "Atom 15 (C) has empty dict\n",
      "Atom 16 (C) has empty dict\n",
      "Atom 17 (N) has empty dict\n",
      "Atom 18 (N) has empty dict\n",
      "Atom 19 (C) has empty dict\n",
      "Atom 20 (N) has empty dict\n",
      "Atom 21 (C) has empty dict\n",
      "Atom 22 (N) has empty dict\n",
      "Atom 23 (C) has empty dict\n",
      "Atom 24 (N) has empty dict\n",
      "Atom 25 (C) has empty dict\n",
      "Atom 26 (C) has empty dict\n",
      "Atom 27 (C) has empty dict\n",
      "Atom 28 (C) has empty dict\n",
      "Atom 29 (C) has empty dict\n",
      "Atom 30 (H) has empty dict\n"
     ]
    }
   ],
   "source": [
    "for atom in mol_loaded_orig.GetAtoms():\n",
    "    props = atom.GetPropsAsDict(includePrivate=True, includeComputed=True)\n",
    "    if props:  # empty dict\n",
    "        print(f\"Atom {atom.GetIdx()} ({atom.GetSymbol()}) has empty dict\")\n"
   ]
  },
  {
   "cell_type": "code",
   "execution_count": 70,
   "id": "6a64353c",
   "metadata": {},
   "outputs": [
    {
     "data": {
      "image/jpeg": "[encoded data removed]",
      "image/png": "[encoded data removed]",
      "text/plain": [
       "<PIL.PngImagePlugin.PngImageFile image mode=RGB size=300x300>"
      ]
     },
     "execution_count": 70,
     "metadata": {},
     "output_type": "execute_result"
    }
   ],
   "source": [
    "from rdkit.Chem import Draw\n",
    "\n",
    "Draw.MolToImage(mol_loaded_orig, size=(300,300))"
   ]
  },
  {
   "cell_type": "code",
   "execution_count": 45,
   "id": "7244d40d",
   "metadata": {},
   "outputs": [
    {
     "data": {
      "image/jpeg": "[encoded data removed]",
      "image/png": "[encoded data removed]",
      "text/plain": [
       "<PIL.PngImagePlugin.PngImageFile image mode=RGB size=300x300>"
      ]
     },
     "execution_count": 45,
     "metadata": {},
     "output_type": "execute_result"
    }
   ],
   "source": [
    "from rdkit.Chem import Draw\n",
    "\n",
    "Draw.MolToImage(mol_sdf, size=(300,300))"
   ]
  },
  {
   "cell_type": "code",
   "execution_count": 24,
   "id": "6b3fa4a4",
   "metadata": {},
   "outputs": [
    {
     "data": {
      "text/plain": [
       "(56, 31)"
      ]
     },
     "execution_count": 24,
     "metadata": {},
     "output_type": "execute_result"
    }
   ],
   "source": [
    "mol_sdf.GetNumAtoms(), mol_loaded_orig.GetNumAtoms()"
   ]
  },
  {
   "cell_type": "markdown",
   "id": "b2d2b93f",
   "metadata": {},
   "source": [
    "#### alt_name, leaving_atom, name"
   ]
  },
  {
   "cell_type": "code",
   "execution_count": null,
   "id": "aa2dd1a4",
   "metadata": {},
   "outputs": [],
   "source": [
    "for i, atom in enumerate(mol_sdf.GetAtoms()):\n",
    "    print(atom.GetProp(\"name\"), atom.GetSymbol()+ str(atom.GetIdx()))\n",
    "\n",
    "atom.SetProp(\"alt_name\", atom.GetSymbol()+ str(atom.GetIdx()))\n"
   ]
  },
  {
   "cell_type": "markdown",
   "id": "0aa1f347",
   "metadata": {},
   "source": [
    "#### need to work getprop(name), getatomic number, get formal charge\n"
   ]
  },
  {
   "cell_type": "code",
   "execution_count": 29,
   "id": "6e27aa5a",
   "metadata": {},
   "outputs": [
    {
     "data": {
      "image/png": "[encoded data removed]",
      "text/plain": [
       "<rdkit.Chem.rdchem.Mol at 0x153bd45eaf10>"
      ]
     },
     "execution_count": 29,
     "metadata": {},
     "output_type": "execute_result"
    }
   ],
   "source": [
    "import rdkit\n",
    "from rdkit import Chem\n",
    "\n",
    "supplier = Chem.SDMolSupplier(\"7KH_edited.sdf\") # this is a combo of obabel and rdkit generated sdf\n",
    "mol_sdf = supplier[0]\n",
    "\n",
    "mol_sdf"
   ]
  },
  {
   "cell_type": "code",
   "execution_count": null,
   "id": "731908a7",
   "metadata": {},
   "outputs": [],
   "source": [
    "for i, atom in enumerate(mol_sdf.GetAtoms()):\n",
    "    print(atom.GetProp(\"name\"), atom.GetSymbol()+ str(atom.GetIdx()))"
   ]
  },
  {
   "cell_type": "markdown",
   "id": "0c545af1",
   "metadata": {},
   "source": [
    "#### adding name props\n"
   ]
  },
  {
   "cell_type": "code",
   "execution_count": 30,
   "id": "6df4a0c4",
   "metadata": {},
   "outputs": [],
   "source": [
    "for i, atom in enumerate(mol_sdf.GetAtoms()):\n",
    "    atom_id = atom.GetSymbol()+ str(atom.GetIdx())\n",
    "    atom.SetProp(\"name\", atom_id)"
   ]
  },
  {
   "cell_type": "code",
   "execution_count": null,
   "id": "c3a8ac25",
   "metadata": {},
   "outputs": [],
   "source": [
    "for i, atom in enumerate(mol_sdf.GetAtoms()):\n",
    "    print(atom.GetProp(\"name\"))"
   ]
  },
  {
   "cell_type": "code",
   "execution_count": 32,
   "id": "b9b25560",
   "metadata": {},
   "outputs": [
    {
     "data": {
      "text/plain": [
       "31"
      ]
     },
     "execution_count": 32,
     "metadata": {},
     "output_type": "execute_result"
    }
   ],
   "source": [
    "import pickle\n",
    "orig_pkl = '7KH.pkl'\n",
    "with open(orig_pkl, 'rb') as file: \n",
    "    mol_orig = pickle.load(file)\n",
    "\n",
    "mol_orig.GetNumAtoms()"
   ]
  },
  {
   "cell_type": "markdown",
   "id": "1ffeffd0",
   "metadata": {},
   "source": [
    "#### get the pkl from the sdf "
   ]
  },
  {
   "cell_type": "code",
   "execution_count": 33,
   "id": "a1c487ca",
   "metadata": {},
   "outputs": [],
   "source": [
    "Chem.SetDefaultPickleProperties(Chem.PropertyPickleOptions.AllProps)\n",
    "with open(\"7KH.pkl\", \"wb\") as f:\n",
    "    pickle.dump(mol_sdf, f)"
   ]
  },
  {
   "cell_type": "code",
   "execution_count": null,
   "id": "97cfe629",
   "metadata": {},
   "outputs": [],
   "source": [
    "with open(\"7KH.pkl\", \"rb\") as f:\n",
    "    mol_loaded = pickle.load(f)\n",
    "\n",
    "for atom in mol_loaded.GetAtoms():\n",
    "    print(atom.GetProp(\"name\"))"
   ]
  },
  {
   "cell_type": "markdown",
   "id": "e327bc91",
   "metadata": {},
   "source": [
    "### trying with rdkit sdf "
   ]
  },
  {
   "cell_type": "code",
   "execution_count": 19,
   "id": "c764f1f1",
   "metadata": {},
   "outputs": [
    {
     "data": {
      "image/png": "[encoded data removed]",
      "text/plain": [
       "<rdkit.Chem.rdchem.Mol at 0x153bd45e91c0>"
      ]
     },
     "execution_count": 19,
     "metadata": {},
     "output_type": "execute_result"
    }
   ],
   "source": [
    "import rdkit\n",
    "from rdkit import Chem\n",
    "\n",
    "supplier = Chem.SDMolSupplier(\"7KH_rdkit.sdf\") # this is a combo of obabel and rdkit generated sdf\n",
    "mol_sdf = supplier[0]\n",
    "\n",
    "mol_sdf"
   ]
  },
  {
   "cell_type": "code",
   "execution_count": 20,
   "id": "ff59b798",
   "metadata": {},
   "outputs": [],
   "source": [
    "for i, atom in enumerate(mol_sdf.GetAtoms()):\n",
    "    atom_id = atom.GetSymbol()+ str(atom.GetIdx())\n",
    "    atom.SetProp(\"name\", atom_id)"
   ]
  },
  {
   "cell_type": "code",
   "execution_count": 21,
   "id": "5bdbae18",
   "metadata": {},
   "outputs": [],
   "source": [
    "Chem.SetDefaultPickleProperties(Chem.PropertyPickleOptions.AllProps)\n",
    "with open(\"7KH.pkl\", \"wb\") as f:\n",
    "    pickle.dump(mol_sdf, f)"
   ]
  },
  {
   "cell_type": "code",
   "execution_count": 22,
   "id": "a062eb84",
   "metadata": {},
   "outputs": [],
   "source": [
    "! cp 7KH.pkl /home/ymanasa/.boltz/mols/"
   ]
  },
  {
   "cell_type": "code",
   "execution_count": null,
   "id": "e039656d",
   "metadata": {},
   "outputs": [],
   "source": [
    "with open(\"/home/ymanasa/.boltz/mols/7KH.pkl\", \"rb\") as f:\n",
    "    mol_loaded = pickle.load(f)\n",
    "\n",
    "for atom in mol_loaded.GetAtoms():\n",
    "    print(atom.GetChiralTag())"
   ]
  },
  {
   "cell_type": "markdown",
   "id": "98fef7dd",
   "metadata": {},
   "source": [
    "# Final"
   ]
  },
  {
   "cell_type": "code",
   "execution_count": null,
   "id": "49cafb2a",
   "metadata": {},
   "outputs": [
    {
     "name": "stderr",
     "output_type": "stream",
     "text": [
      "[14:34:08] Molecule does not have explicit Hs. Consider calling AddHs()\n",
      "[14:34:08] Molecule does not have explicit Hs. Consider calling AddHs()\n"
     ]
    }
   ],
   "source": [
    "# 7KH conanical smiles from RCSBPDB 5MAJ\n",
    "smiles = \"[H]/N=C/c1nc(nc(n1)N(Cc2cn3ccccc3n2)C4CCCC4)N5CCOCC5\" \n",
    "\n",
    "mol2 = Chem.MolFromSmiles(smiles) # dont add Hs bc original noncov code does but removes conformer gen \n",
    "\n",
    "success = compute_3d(mol2, version=\"v3\")\n",
    "_ = get_conformer(mol2, ConformerType.Computed)\n",
    "\n",
    "sdf_writer = Chem.SDWriter(\"7KH_rdkit2.sdf\")\n",
    "sdf_writer.write(mol2)\n",
    "sdf_writer.close()\n",
    "\n",
    "for i, atom in enumerate(mol_sdf.GetAtoms()):\n",
    "    atom_id = atom.GetSymbol()+ str(atom.GetIdx())\n",
    "    atom.SetProp(\"name\", atom_id)\n",
    "\n",
    "Chem.SetDefaultPickleProperties(Chem.PropertyPickleOptions.AllProps)\n",
    "with open(\"7KH.pkl\", \"wb\") as f:\n",
    "    pickle.dump(mol_sdf, f)"
   ]
  },
  {
   "cell_type": "code",
   "execution_count": 13,
   "id": "dd17d525",
   "metadata": {},
   "outputs": [
    {
     "name": "stderr",
     "output_type": "stream",
     "text": [
      "[06:39:04] Molecule does not have explicit Hs. Consider calling AddHs()\n",
      "[06:39:05] Molecule does not have explicit Hs. Consider calling AddHs()\n"
     ]
    }
   ],
   "source": [
    "# BKM conanical smiles from RCSBPDB 6ALZ \n",
    "smiles = r\"CCC(\\C=C)=C/C(=O)C[C@H](C)C[C@@H](C)CC[C@H](O)[C@H](C)C(=O)C[C@@H](O)[C@H](C)[C@@H](C)OC(=O)C[C@@H](O)\\C(C(O)=O)=C(/C)C(O)=O\"\n",
    "# r added to escape backslashes \n",
    "\n",
    "mol_sdf = Chem.MolFromSmiles(smiles) # dont add Hs bc original noncov code does but removes conformer gen \n",
    "\n",
    "success = compute_3d(mol_sdf, version=\"v3\")\n",
    "_ = get_conformer(mol_sdf, ConformerType.Computed)\n",
    "\n",
    "sdf_writer = Chem.SDWriter(\"../mmcif_testing/6ALZ_rdkit/6ALZ_rdkit.sdf\")\n",
    "sdf_writer.write(mol_sdf)\n",
    "sdf_writer.close()\n",
    "\n",
    "for i, atom in enumerate(mol_sdf.GetAtoms()):\n",
    "    atom_id = atom.GetSymbol()+ str(atom.GetIdx())\n",
    "    atom.SetProp(\"name\", atom_id)\n",
    "\n",
    "Chem.SetDefaultPickleProperties(Chem.PropertyPickleOptions.AllProps)\n",
    "with open(\"../mmcif_testing/6ALZ_rdkit/BKM.pkl\", \"wb\") as f:\n",
    "    pickle.dump(mol_sdf, f)"
   ]
  },
  {
   "cell_type": "code",
   "execution_count": 19,
   "id": "fcfe9345",
   "metadata": {},
   "outputs": [
    {
     "data": {
      "image/png": "[encoded data removed]",
      "text/plain": [
       "<rdkit.Chem.rdchem.Mol at 0x14a73fd80dd0>"
      ]
     },
     "execution_count": 19,
     "metadata": {},
     "output_type": "execute_result"
    }
   ],
   "source": [
    "smiles = r\"O=C(N[C@@H](CC1=CC(C)=CC=C1)C(NCC#N)=O)C2=CC(C(C)(C)C)=NN2C\" # NAD-1-34 molecule in Master SAR table 09.01.2022\n",
    "\n",
    "mol_sdf = Chem.MolFromSmiles(smiles) # dont add Hs bc original noncov code does but removes conformer gen \n",
    "\n",
    "mol_sdf"
   ]
  },
  {
   "cell_type": "code",
   "execution_count": null,
   "id": "2d7eb93a",
   "metadata": {},
   "outputs": [],
   "source": []
  },
  {
   "cell_type": "code",
   "execution_count": null,
   "id": "37f9e700",
   "metadata": {},
   "outputs": [
    {
     "name": "stderr",
     "output_type": "stream",
     "text": [
      "[07:34:21] Molecule does not have explicit Hs. Consider calling AddHs()\n",
      "[07:34:21] Molecule does not have explicit Hs. Consider calling AddHs()\n"
     ]
    }
   ],
   "source": [
    "success = compute_3d(mol_sdf, version=\"v3\")\n",
    "_ = get_conformer(mol_sdf, ConformerType.Computed)\n",
    "\n",
    "# sdf_writer = Chem.SDWriter(\"../mmcif_testing/5MAJ/NAD-1-34/NAD-1-34.sdf\")\n",
    "# sdf_writer.write(mol_sdf)\n",
    "# sdf_writer.close()\n",
    "\n",
    "for i, atom in enumerate(mol_sdf.GetAtoms()):\n",
    "    atom_id = atom.GetSymbol()+ str(atom.GetIdx())\n",
    "    atom.SetProp(\"name\", atom_id)\n",
    "\n",
    "Chem.SetDefaultPickleProperties(Chem.PropertyPickleOptions.AllProps)\n",
    "with open(\"../mmcif_testing/5MAJ/NAD-1-34/NAD.pkl\", \"wb\") as f:\n",
    "    pickle.dump(mol_sdf, f)"
   ]
  },
  {
   "cell_type": "markdown",
   "id": "56637dc3",
   "metadata": {},
   "source": [
    "## symmetry"
   ]
  },
  {
   "cell_type": "code",
   "execution_count": null,
   "id": "71136958",
   "metadata": {},
   "outputs": [],
   "source": [
    "import argparse\n",
    "import multiprocessing\n",
    "import pickle\n",
    "import sys\n",
    "from functools import partial\n",
    "from pathlib import Path\n",
    "\n",
    "import pandas as pd\n",
    "import rdkit\n",
    "from p_tqdm import p_uimap\n",
    "from pdbeccdutils.core import ccd_reader\n",
    "from pdbeccdutils.core.component import ConformerType\n",
    "from rdkit import rdBase\n",
    "from rdkit.Chem import AllChem\n",
    "from rdkit.Chem.rdchem import Conformer, Mol\n",
    "from tqdm import tqdm\n",
    "\n",
    "def compute_symmetries(mol) -> list[list[int]]:\n",
    "    \"\"\"Compute the symmetries of a molecule.\n",
    "\n",
    "    Parameters\n",
    "    ----------\n",
    "    mol : Mol\n",
    "        The molecule to process\n",
    "\n",
    "    Returns\n",
    "    -------\n",
    "    list[list[int]]\n",
    "        The symmetries as a list of index permutations\n",
    "\n",
    "    \"\"\"\n",
    "    mol = AllChem.RemoveHs(mol)\n",
    "    idx_map = {}\n",
    "    atom_idx = 0\n",
    "    for i, atom in enumerate(mol.GetAtoms()):\n",
    "        # Skip if leaving atoms\n",
    "        if int(atom.GetProp(\"leaving_atom\")):\n",
    "            continue\n",
    "        idx_map[i] = atom_idx\n",
    "        atom_idx += 1\n",
    "\n",
    "    # Calculate self permutations\n",
    "    permutations = []\n",
    "    raw_permutations = mol.GetSubstructMatches(mol, uniquify=False)\n",
    "    for raw_permutation in raw_permutations:\n",
    "        # Filter out permutations with leaving atoms\n",
    "        try:\n",
    "            if {raw_permutation[idx] for idx in idx_map} == set(idx_map.keys()):\n",
    "                permutation = [\n",
    "                    idx_map[idx] for idx in raw_permutation if idx in idx_map\n",
    "                ]\n",
    "                permutations.append(permutation)\n",
    "        except Exception:  # noqa: S110, PERF203, BLE001\n",
    "            pass\n",
    "    serialized_permutations = pickle.dumps(permutations)\n",
    "    print(serialized_permutations)\n",
    "    mol.SetProp(\"symmetries\", serialized_permutations.hex())\n",
    "    return permutations"
   ]
  },
  {
   "cell_type": "markdown",
   "id": "21a773c0",
   "metadata": {},
   "source": []
  },
  {
   "cell_type": "code",
   "execution_count": 54,
   "id": "d8bbf1b1",
   "metadata": {},
   "outputs": [
    {
     "name": "stdout",
     "output_type": "stream",
     "text": [
      "found leaving atom\n",
      "H 30\n"
     ]
    }
   ],
   "source": [
    "import pickle\n",
    "pkl = '/home/ymanasa/.boltz/orig_mols/7KH.pkl'\n",
    "with open(pkl, 'rb') as file: \n",
    "    mol_7kh = pickle.load(file)\n",
    "\n",
    "# for atom in mol_7kh.GetAtoms():\n",
    "#     if atom.GetSymbol() == \"H\":\n",
    "#         atom.SetProp(\"leaving_atom\", \"1\")\n",
    "#         print('set')\n",
    "        \n",
    "#     else: \n",
    "#         atom.SetProp(\"leaving_atom\", \"0\")\n",
    "for i, atom in enumerate(mol_7kh.GetAtoms()):\n",
    "\n",
    "        if atom.GetSymbol() == \"H\":\n",
    "            print('found leaving atom')\n",
    "            print(atom.GetSymbol(), atom.GetIdx())\n",
    "\n",
    "\n"
   ]
  },
  {
   "cell_type": "code",
   "execution_count": null,
   "id": "7e65dafd",
   "metadata": {},
   "outputs": [],
   "source": [
    "for i, atom in enumerate(mol_7kh.GetAtoms()):\n",
    "        # Skip if leaving atoms\n",
    "        print(atom.GetProp(\"leaving_atom\"))"
   ]
  },
  {
   "cell_type": "code",
   "execution_count": null,
   "id": "b15c10c0",
   "metadata": {},
   "outputs": [],
   "source": [
    "compute_symmetries(mol_7kh)"
   ]
  },
  {
   "cell_type": "code",
   "execution_count": null,
   "id": "6c7ff121",
   "metadata": {},
   "outputs": [
    {
     "ename": "AttributeError",
     "evalue": "'Mol' object has no attribute 'GetPropsAsList'",
     "output_type": "error",
     "traceback": [
      "\u001b[31m---------------------------------------------------------------------------\u001b[39m",
      "\u001b[31mAttributeError\u001b[39m                            Traceback (most recent call last)",
      "\u001b[36mCell\u001b[39m\u001b[36m \u001b[39m\u001b[32mIn[42]\u001b[39m\u001b[32m, line 1\u001b[39m\n\u001b[32m----> \u001b[39m\u001b[32m1\u001b[39m \u001b[43mmol_7kh\u001b[49m\u001b[43m.\u001b[49m\u001b[43mGetPropsAsList\u001b[49m()\n",
      "\u001b[31mAttributeError\u001b[39m: 'Mol' object has no attribute 'GetPropsAsList'"
     ]
    }
   ],
   "source": [
    "mol_7kh.GetPropsAsDict()"
   ]
  },
  {
   "cell_type": "code",
   "execution_count": null,
   "id": "3341bde4",
   "metadata": {},
   "outputs": [],
   "source": []
  },
  {
   "cell_type": "markdown",
   "id": "8af8ce26",
   "metadata": {},
   "source": [
    "## leaving atom "
   ]
  },
  {
   "cell_type": "code",
   "execution_count": 55,
   "id": "4944a5ab",
   "metadata": {},
   "outputs": [
    {
     "data": {
      "image/png": "[encoded data removed]",
      "text/plain": [
       "<rdkit.Chem.rdchem.Mol at 0x1518c5a29930>"
      ]
     },
     "execution_count": 55,
     "metadata": {},
     "output_type": "execute_result"
    }
   ],
   "source": [
    "# just delete it from the smiles \n",
    "smiles = r\"O=C(N[C@@H](CC1=CC(C)=CC=C1)C(NCC)=O)C2=CC(C(C)(C)C)=NN2C\" # NAD-1-34 molecule in Master SAR table 09.01.2022\n",
    "\n",
    "mol_sdf = Chem.MolFromSmiles(smiles) \n",
    "mol_sdf\n"
   ]
  },
  {
   "cell_type": "code",
   "execution_count": 57,
   "id": "e45ccb7a",
   "metadata": {},
   "outputs": [
    {
     "name": "stderr",
     "output_type": "stream",
     "text": [
      "[11:30:46] Molecule does not have explicit Hs. Consider calling AddHs()\n",
      "[11:30:46] Molecule does not have explicit Hs. Consider calling AddHs()\n"
     ]
    }
   ],
   "source": [
    "success = compute_3d(mol_sdf, version=\"v3\")\n",
    "_ = get_conformer(mol_sdf, ConformerType.Computed)\n",
    "\n",
    "for i, atom in enumerate(mol_sdf.GetAtoms()):\n",
    "    atom_id = atom.GetSymbol()+ str(atom.GetIdx())\n",
    "    atom.SetProp(\"name\", atom_id)\n",
    "\n",
    "Chem.SetDefaultPickleProperties(Chem.PropertyPickleOptions.AllProps)\n",
    "with open(\"../mmcif_testing/5MAJ/NAD-1-34/noleaving_atom_smi/NA2.pkl\", \"wb\") as f:\n",
    "    pickle.dump(mol_sdf, f)"
   ]
  },
  {
   "cell_type": "code",
   "execution_count": 2,
   "id": "b26f3f10",
   "metadata": {},
   "outputs": [],
   "source": [
    "import os, string, sys\n",
    "from openeye.oechem import *\n",
    "\n",
    "def remove_cyano_from_smiles(smiles: str) -> list[str]:\n",
    "    \"\"\"\n",
    "    Removes nitrile leaving groups (-C≡N) from a SMILES string.\n",
    "    \n",
    "    Parameters\n",
    "    ----------\n",
    "    smiles : str\n",
    "        Input SMILES string.\n",
    "    \n",
    "    Returns\n",
    "    -------\n",
    "    list[str]\n",
    "        List of SMILES strings for the products (may be multiple if multiple matches).\n",
    "    \"\"\"\n",
    "    mol = OEGraphMol()\n",
    "    if not OEParseSmiles(mol, smiles):\n",
    "        raise ValueError(f\"Invalid SMILES: {smiles}\")\n",
    "\n",
    "    # Reaction: break C≡N, drop the nitrogen\n",
    "    reaction = \"[C:1]#[N:2]>>[C:1]\"\n",
    "\n",
    "    libgen = OELibraryGen(reaction)\n",
    "    libgen.SetExplicitHydrogens(False)\n",
    "    libgen.SetValenceCorrection(False)\n",
    "\n",
    "    libgen.Init()\n",
    "    libgen.AddStartingMaterial(mol, 0)\n",
    "\n",
    "    products = []\n",
    "    for product in libgen.GetProducts():\n",
    "        smi = OECreateIsoSmiString(product)\n",
    "        products.append(smi)\n",
    "\n",
    "    return products\n",
    "\n",
    "\n",
    "smiles = r\"O=C(N[C@@H](CC1=CC(C)=CC=C1)C(NCC#N)=O)C2=CC(C(C)(C)C)=NN2C\" # NAD-1-34 molecule in Master SAR table 09.01.2022"
   ]
  },
  {
   "cell_type": "code",
   "execution_count": null,
   "id": "a5587eb6",
   "metadata": {},
   "outputs": [
    {
     "ename": "",
     "evalue": "",
     "output_type": "error",
     "traceback": [
      "\u001b[1;31mThe Kernel crashed while executing code in the current cell or a previous cell. \n",
      "\u001b[1;31mPlease review the code in the cell(s) to identify a possible cause of the failure. \n",
      "\u001b[1;31mClick <a href='https://aka.ms/vscodeJupyterKernelCrash'>here</a> for more info. \n",
      "\u001b[1;31mView Jupyter <a href='command:jupyter.viewOutput'>log</a> for further details."
     ]
    }
   ],
   "source": [
    "remove_cyano_from_smiles(smiles)"
   ]
  },
  {
   "cell_type": "code",
   "execution_count": 8,
   "id": "62ba1013",
   "metadata": {},
   "outputs": [],
   "source": [
    "from rdkit import Chem\n",
    "from rdkit.Chem import AllChem\n",
    "\n",
    "def remove_cyano_rdkit(smiles: str) -> list[str]:\n",
    "    mol = Chem.MolFromSmiles(smiles)\n",
    "    if mol is None:\n",
    "        raise ValueError(f\"Invalid SMILES: {smiles}\")\n",
    "\n",
    "    rxn = AllChem.ReactionFromSmarts(\"[C:1]#[N:2]>>[C:1]\")\n",
    "    products = rxn.RunReactants((mol,))\n",
    "\n",
    "    out = []\n",
    "    for prod_tuple in products:\n",
    "        for prod in prod_tuple:\n",
    "            smi = Chem.MolToSmiles(prod)\n",
    "            out.append(smi)\n",
    "    return out"
   ]
  },
  {
   "cell_type": "code",
   "execution_count": 18,
   "id": "1012974c",
   "metadata": {},
   "outputs": [],
   "source": [
    "smiles = r\"O=C(N[C@@H](CC1=CC(C)=CC=C1)C(NCC=N)=O)C2=CC(C(C)(C)C)=NN2C\" \n",
    "# smiles_after = remove_cyano_rdkit(smiles)[0]"
   ]
  },
  {
   "cell_type": "code",
   "execution_count": 19,
   "id": "b2057d26",
   "metadata": {},
   "outputs": [
    {
     "data": {
      "image/jpeg": "[encoded data removed]",
      "image/png": "[encoded data removed]",
      "text/plain": [
       "<PIL.PngImagePlugin.PngImageFile image mode=RGB size=300x300>"
      ]
     },
     "execution_count": 19,
     "metadata": {},
     "output_type": "execute_result"
    }
   ],
   "source": [
    "from rdkit.Chem import Draw\n",
    "mol = Chem.MolFromSmiles(smiles)\n",
    "Draw.MolToImage(mol, size=(300,300))"
   ]
  },
  {
   "cell_type": "code",
   "execution_count": 16,
   "id": "1949a2d8",
   "metadata": {},
   "outputs": [
    {
     "data": {
      "image/jpeg": "[encoded data removed]",
      "image/png": "[encoded data removed]",
      "text/plain": [
       "<PIL.PngImagePlugin.PngImageFile image mode=RGB size=300x300>"
      ]
     },
     "execution_count": 16,
     "metadata": {},
     "output_type": "execute_result"
    }
   ],
   "source": [
    "from rdkit.Chem import Draw\n",
    "\n",
    "mol = Chem.MolFromSmiles(smiles_after)\n",
    "Draw.MolToImage(mol, size=(300,300))"
   ]
  },
  {
   "cell_type": "code",
   "execution_count": 3,
   "id": "649198f6",
   "metadata": {},
   "outputs": [
    {
     "name": "stderr",
     "output_type": "stream",
     "text": [
      "[10:39:14] Molecule does not have explicit Hs. Consider calling AddHs()\n",
      "[10:39:14] Molecule does not have explicit Hs. Consider calling AddHs()\n"
     ]
    }
   ],
   "source": [
    "import pickle\n",
    "\n",
    "smiles = r\"O=C(N[C@@H](CC1=CC(C)=CC=C1)C(NCC#N)=O)C2=CC(C(C)(C)C)=NN2C\" # NAD-1-34 molecule in Master SAR table 09.01.2022\n",
    "\n",
    "mol_sdf = Chem.MolFromSmiles(smiles) # dont add Hs bc original noncov code does but removes conformer gen \n",
    "\n",
    "success = compute_3d(mol_sdf, version=\"v3\")\n",
    "_ = get_conformer(mol_sdf, ConformerType.Computed)\n",
    "\n",
    "for i, atom in enumerate(mol_sdf.GetAtoms()):\n",
    "    atom_id = atom.GetSymbol()+ str(atom.GetIdx())\n",
    "    atom.SetProp(\"name\", atom_id)\n",
    "\n",
    "Chem.SetDefaultPickleProperties(Chem.PropertyPickleOptions.AllProps)\n",
    "with open(\"../mmcif_testing/5MAJ/NAD-1-34/NA3.pkl\", \"wb\") as f:\n",
    "    pickle.dump(mol_sdf, f)"
   ]
  },
  {
   "cell_type": "code",
   "execution_count": null,
   "id": "58269924",
   "metadata": {},
   "outputs": [],
   "source": []
  },
  {
   "cell_type": "code",
   "execution_count": null,
   "id": "51332cb7",
   "metadata": {},
   "outputs": [],
   "source": []
  },
  {
   "cell_type": "markdown",
   "id": "d1dd3bc6",
   "metadata": {},
   "source": [
    "# clean functions\n",
    "## in ccd_pkl"
   ]
  },
  {
   "cell_type": "code",
   "execution_count": 2,
   "id": "08fb390a",
   "metadata": {},
   "outputs": [],
   "source": [
    "import os\n",
    "import csv\n",
    "import sys\n",
    "import subprocess\n",
    "# from fasta_utils import build_fasta_seq\n",
    "# from mmseqs2 import run_mmseqs2\n",
    "import argparse\n",
    "# from covalent_utils import process_cov_smiles, get_prot_atom, identify_lg\n",
    "from rdkit import Chem\n",
    "from rdkit.Chem import AllChem\n"
   ]
  },
  {
   "cell_type": "code",
   "execution_count": 3,
   "id": "2165033c",
   "metadata": {},
   "outputs": [],
   "source": [
    "def check_smiles(smiles: str, verbose: bool = False):\n",
    "    \"\"\"\n",
    "    Attempts to load and sanitize a SMILES string using RDKit.\n",
    "    Returns a canonicalized SMILES string if successful, otherwise None.\n",
    "    \n",
    "    Parameters:\n",
    "    - smiles (str): The input SMILES string.\n",
    "    - verbose (bool): If True, print debug messages on failure.\n",
    "\n",
    "    Returns:\n",
    "    - str or None: A valid, canonical SMILES or None if the molecule is invalid.\n",
    "    \"\"\"\n",
    "    try:\n",
    "        # Attempt to parse without sanitizing\n",
    "        mol = Chem.MolFromSmiles(smiles, sanitize=False)\n",
    "        if mol is None:\n",
    "            if verbose:\n",
    "                print(f\"[ERROR] MolFromSmiles failed for: {smiles}\")\n",
    "            return None\n",
    "        \n",
    "        # Attempt sanitization (includes valence check, aromaticity, Hs)\n",
    "        Chem.SanitizeMol(mol)\n",
    "\n",
    "        # Return the canonical SMILES\n",
    "        return Chem.MolToSmiles(mol, canonical=True)\n",
    "\n",
    "    except Exception as e:\n",
    "        if verbose:\n",
    "            print(f\"[ERROR] Sanitization failed for SMILES: {smiles}\\n{e}\")\n",
    "        return None"
   ]
  },
  {
   "cell_type": "code",
   "execution_count": 4,
   "id": "c4c1a824",
   "metadata": {},
   "outputs": [
    {
     "data": {
      "text/plain": [
       "'Cc1cccc(C[C@H](NC(=O)c2cc(C(C)(C)C)nn2C)C(=O)NCC#N)c1'"
      ]
     },
     "execution_count": 4,
     "metadata": {},
     "output_type": "execute_result"
    }
   ],
   "source": [
    "smiles = r\"O=C(N[C@@H](CC1=CC(C)=CC=C1)C(NCC#N)=O)C2=CC(C(C)(C)C)=NN2C\"\n",
    "check_smiles(smiles)"
   ]
  },
  {
   "cell_type": "code",
   "execution_count": null,
   "id": "c8dd3e40",
   "metadata": {},
   "outputs": [],
   "source": []
  },
  {
   "cell_type": "code",
   "execution_count": 5,
   "id": "43ca6b07",
   "metadata": {},
   "outputs": [
    {
     "name": "stderr",
     "output_type": "stream",
     "text": [
      "[09:20:06] Molecule does not have explicit Hs. Consider calling AddHs()\n",
      "[09:20:06] Molecule does not have explicit Hs. Consider calling AddHs()\n"
     ]
    },
    {
     "data": {
      "text/plain": [
       "'PYVOC'"
      ]
     },
     "execution_count": 5,
     "metadata": {},
     "output_type": "execute_result"
    }
   ],
   "source": [
    "from covalent_utils import process_covalent_smiles\n",
    "process_covalent_smiles(smiles, ccd_db=\"/home/ymanasa/turbo/ymanasa/opt/maom_boltz/scripts/\")"
   ]
  },
  {
   "cell_type": "code",
   "execution_count": 5,
   "id": "ac66c168",
   "metadata": {},
   "outputs": [],
   "source": [
    "def remove_lg(smiles, warhead_type, smarts_rxns=\"SMARTS.csv\"):  \n",
    "\n",
    "    mol = Chem.MolFromSmiles(smiles)\n",
    "    with open(smarts_rxns, 'r') as file:\n",
    "        reader = csv.DictReader(file)\n",
    "        for row in reader:\n",
    "            if warhead_type == row[\"warhead_type\"]:\n",
    "                rxn = AllChem.ReactionFromSmarts(row[\"SMARTS\"])\n",
    "                try:\n",
    "                    products = rxn.RunReactants((mol,))\n",
    "\n",
    "                    for prod_tuple in products:\n",
    "                        for prod in prod_tuple:\n",
    "                            smi_no_lg = Chem.MolToSmiles(prod)\n",
    "                     \n",
    "                    return smi_no_lg\n",
    "                except: \n",
    "                    raise ValueError(\"Reaction could not be applied to the given SMILES.\")\n"
   ]
  },
  {
   "cell_type": "code",
   "execution_count": 7,
   "id": "b1535577",
   "metadata": {},
   "outputs": [
    {
     "name": "stdout",
     "output_type": "stream",
     "text": [
      "Cc1cccc(C[C@H](NC(=O)c2cc(C(C)(C)C)nn2C)C(=O)NC[13CH]=N)c1\n"
     ]
    }
   ],
   "source": [
    "smiles = \"O=C(N[C@@H](CC1=CC(C)=CC=C1)C(NCC#N)=O)C2=CC(C(C)(C)C)=NN2C\"\n",
    "s = remove_lg(smiles, warhead_type=\"nitrile\")\n",
    "print(s)\n"
   ]
  },
  {
   "cell_type": "code",
   "execution_count": 41,
   "id": "ec4cfe9e",
   "metadata": {},
   "outputs": [
    {
     "name": "stdout",
     "output_type": "stream",
     "text": [
      "18\n"
     ]
    }
   ],
   "source": [
    "char_indices = [i for i, c in enumerate(smiles) if c.isalnum() or c == '*']\n",
    "star_pos = char_indices.index(next(i for i in char_indices if smiles[i] == '*'))\n",
    "print(star_pos)"
   ]
  },
  {
   "cell_type": "markdown",
   "id": "93274af4",
   "metadata": {},
   "source": [
    "## TESTING"
   ]
  },
  {
   "cell_type": "markdown",
   "id": "3fbba909",
   "metadata": {},
   "source": [
    "testing with these ligands and docking to HsCPL (5MAJ) and TgCPL (3F75):\n",
    "\n",
    "7KH = `N#Cc1nc(nc(n1)N(Cc2cn3ccccc3n2)C4CCCC4)N5CCOCC5`\n",
    "\n",
    "NAD-1-34 = `O=C(N[C@@H](CC1=CC(C)=CC=C1)C(NCC#N)=O)C2=CC(C(C)(C)C)=NN2C`\n",
    "\n",
    "NAD-1-33 = `O=C(N[C@@H](CC1=CC(C)=CC=C1)C(NCC#N)=O)C2=CC(C(F)(F)F)=CC=C2`\n",
    "\n",
    "NAD-1-52 = `O=C(N[C@@H](CC1=CC(C)=CC=C1)C(NCC#N)=O)C2=CC(C(C)(C)C)=CC=C2`\n"
   ]
  },
  {
   "cell_type": "code",
   "execution_count": 2,
   "id": "ae0b0af8",
   "metadata": {},
   "outputs": [
    {
     "ename": "TypeError",
     "evalue": "unhashable type: 'list'",
     "output_type": "error",
     "traceback": [
      "\u001b[31m---------------------------------------------------------------------------\u001b[39m",
      "\u001b[31mTypeError\u001b[39m                                 Traceback (most recent call last)",
      "\u001b[36mCell\u001b[39m\u001b[36m \u001b[39m\u001b[32mIn[2]\u001b[39m\u001b[32m, line 4\u001b[39m\n\u001b[32m      1\u001b[39m \u001b[38;5;28;01mimport\u001b[39;00m\u001b[38;5;250m \u001b[39m\u001b[34;01mmake_input_csv\u001b[39;00m\n\u001b[32m      3\u001b[39m \u001b[38;5;66;03m# 5MAJ\u001b[39;00m\n\u001b[32m----> \u001b[39m\u001b[32m4\u001b[39m \u001b[43mmake_input_csv\u001b[49m\u001b[43m.\u001b[49m\u001b[43mgenerate_csv\u001b[49m\u001b[43m(\u001b[49m\u001b[43mprot_file\u001b[49m\u001b[43m=\u001b[49m\u001b[33;43m'\u001b[39;49m\u001b[33;43mtest/5MAJ.pdb\u001b[39;49m\u001b[33;43m'\u001b[39;49m\u001b[43m,\u001b[49m\u001b[43m \u001b[49m\u001b[43mres_idx\u001b[49m\u001b[43m=\u001b[49m\u001b[32;43m25\u001b[39;49m\u001b[43m,\u001b[49m\u001b[43m \u001b[49m\u001b[43mlig_csv\u001b[49m\u001b[43m=\u001b[49m\u001b[33;43m'\u001b[39;49m\u001b[33;43mtest/test_ligs.csv\u001b[39;49m\u001b[33;43m'\u001b[39;49m\u001b[43m,\u001b[49m\u001b[43m \u001b[49m\u001b[43mout_csv\u001b[49m\u001b[43m=\u001b[49m\u001b[33;43m'\u001b[39;49m\u001b[33;43mtest/test_out.csv\u001b[39;49m\u001b[33;43m'\u001b[39;49m\u001b[43m)\u001b[49m\n",
      "\u001b[36mFile \u001b[39m\u001b[32m/nfs/turbo/umms-maom/ymanasa/opt/maom_boltz/covalent_scripts/preprocess/make_input_csv.py:57\u001b[39m, in \u001b[36mgenerate_csv\u001b[39m\u001b[34m(prot_file, res_idx, lig_csv, out_csv)\u001b[39m\n\u001b[32m     55\u001b[39m \u001b[38;5;28;01mfor\u001b[39;00m lig \u001b[38;5;129;01min\u001b[39;00m ligands:\n\u001b[32m     56\u001b[39m     \u001b[38;5;28mid\u001b[39m = lig[\u001b[32m0\u001b[39m]\n\u001b[32m---> \u001b[39m\u001b[32m57\u001b[39m     smiles, lig_atom, wh_type = \u001b[43mremove_leaving_group\u001b[49m\u001b[43m(\u001b[49m\u001b[43mlig\u001b[49m\u001b[43m[\u001b[49m\u001b[32;43m1\u001b[39;49m\u001b[43m]\u001b[49m\u001b[43m)\u001b[49m\n\u001b[32m     58\u001b[39m     writer.writerows(\u001b[38;5;28mid\u001b[39m, smiles, wh_type, lig_atom, seq, res_name, res_idx, res_atom)\n",
      "\u001b[36mFile \u001b[39m\u001b[32m/nfs/turbo/umms-maom/ymanasa/opt/maom_boltz/covalent_scripts/preprocess/covalent_utils.py:377\u001b[39m, in \u001b[36mremove_leaving_group\u001b[39m\u001b[34m(smiles)\u001b[39m\n\u001b[32m    374\u001b[39m mol = Chem.MolFromSmiles(smiles)\n\u001b[32m    375\u001b[39m wh_type = identify_warhead(smiles)\n\u001b[32m--> \u001b[39m\u001b[32m377\u001b[39m rxn = AllChem.ReactionFromSmarts(\u001b[43mWARHEAD_REACTIONS\u001b[49m\u001b[43m[\u001b[49m\u001b[43mwh_type\u001b[49m\u001b[43m]\u001b[49m)\n\u001b[32m    379\u001b[39m products = rxn.RunReactants((mol,))\n\u001b[32m    381\u001b[39m \u001b[38;5;28;01mfor\u001b[39;00m prod_tuple \u001b[38;5;129;01min\u001b[39;00m products: \u001b[38;5;66;03m# is this needed?\u001b[39;00m\n",
      "\u001b[31mTypeError\u001b[39m: unhashable type: 'list'"
     ]
    }
   ],
   "source": [
    "import make_input_csv\n",
    "\n",
    "# 5MAJ\n",
    "make_input_csv.generate_csv(prot_file='test/5MAJ.pdb', res_idx=25, lig_csv='test/test_ligs.csv', out_csv='test/test_out.csv')\n",
    "\n"
   ]
  },
  {
   "cell_type": "code",
   "execution_count": 32,
   "id": "9c3edbee",
   "metadata": {},
   "outputs": [],
   "source": [
    "from rdkit import Chem\n",
    "from rdkit.Chem import AllChem\n",
    "\n",
    "WARHEAD_REACTIONS = { \"nitrile\": \"[C:3][C:4]#[N:5]>>[C:3][13C:4]=[N:5]\", \n",
    "\"alkylhalide\" : \"[CX4;CH,CH2:2][I,Br,Cl:3]>>[13C:2]\",\n",
    "\"vinyl-sulfone\" : \"[C:3]=[C:4][S:5](=O)=O>>[13C:3][C:4][S:5](=O)=O\", # for CYS rxn; might be diff for HIS (Schneider, Grabowsky 2015)\n",
    "\"acrylamide\" : \"[C:2]=[C:3]-C(=O)-[N:4]>>[13C:3]-[C:2]-C(=O)-[N:4]\",\n",
    "\"nitrile2\": \"[N:4]#[C:5]>>[N:4]=[13C:5]\"\n",
    "}\n",
    "WARHEAD_REACTANTS = {name: smarts.split(\">>\")[0] for name, smarts in WARHEAD_REACTIONS.items()}\n",
    "compiled_reactants = {name: Chem.MolFromSmarts(smarts) for name, smarts in WARHEAD_REACTANTS.items()}"
   ]
  },
  {
   "cell_type": "code",
   "execution_count": 59,
   "id": "c0ce35b8",
   "metadata": {},
   "outputs": [],
   "source": [
    "smiles = 'O=C(N[C@@H](CC1=CC(C)=CC=C1)C(NCC#N)=O)C2=CC(C(C)(C)C)=NN2C'"
   ]
  },
  {
   "cell_type": "code",
   "execution_count": 60,
   "id": "b5889510",
   "metadata": {},
   "outputs": [
    {
     "name": "stdout",
     "output_type": "stream",
     "text": [
      "More than 1 warhead found. Choosing first match.\n"
     ]
    },
    {
     "data": {
      "text/plain": [
       "'nitrile'"
      ]
     },
     "execution_count": 60,
     "metadata": {},
     "output_type": "execute_result"
    }
   ],
   "source": [
    "def identify_warhead(smiles):\n",
    "    \"\"\"\n",
    "    Identifies and returns the names of covalent warheads found in a given molecule.\n",
    "    \n",
    "    :param smiles (str): The SMILES representation of the molecule.\n",
    "        \n",
    "    :returns (list): A list of warhead names found in the molecule.\n",
    "    \"\"\"\n",
    "\n",
    "    mol = Chem.MolFromSmiles(smiles)\n",
    "    if not mol:\n",
    "        print(\"Invalid SMILES string.\")\n",
    "        return []\n",
    "        \n",
    "    found_warheads = []\n",
    "    for name, pattern in compiled_reactants.items():\n",
    "        if pattern and mol.HasSubstructMatch(pattern):\n",
    "            found_warheads.append(name)\n",
    "\n",
    "    if len(found_warheads) > 1:\n",
    "        print(\"More than 1 warhead found. Choosing first match.\")\n",
    "    elif len(found_warheads) == 0:\n",
    "        raise ValueError('No matching warhead was found.')\n",
    "        \n",
    "    return found_warheads[0]\n",
    "\n",
    "identify_warhead(smiles)\n"
   ]
  },
  {
   "cell_type": "code",
   "execution_count": 61,
   "id": "d03df3cf",
   "metadata": {},
   "outputs": [],
   "source": [
    "def ligand_cov_atom(no_lg_smiles):\n",
    "    \"\"\"\n",
    "    Finds the index of the first Carbon-13 ([13C]) atom in a SMILES string.\n",
    "\n",
    "    Args:\n",
    "        smiles_string (str): The SMILES string to parse.\n",
    "\n",
    "    Returns:\n",
    "        int: The 0-based index of the first C13 atom found.\n",
    "             Returns -1 if no C13 atom is found or the SMILES is invalid.\n",
    "    \"\"\"\n",
    "    mol = Chem.MolFromSmiles(no_lg_smiles)\n",
    "\n",
    "    if not mol:\n",
    "        print(\"Error: Invalid SMILES string provided.\")\n",
    "        return -1\n",
    "\n",
    "    for atom in mol.GetAtoms():\n",
    "        if atom.GetSymbol() == 'C' and atom.GetIsotope() == 13:\n",
    "            return f'C{atom.GetIdx()}'\n",
    "\n",
    "    return -1\n",
    "\n",
    "# no_lg = 'Cc1cccc(C[C@H](NC(=O)c2cc(C(C)(C)C)nn2C)C(=O)NC[13CH]=N)c1'\n",
    "# ligand_cov_atom('N=[13CH]c1nc(N2CCOCC2)nc(N(Cc2cn3ccccc3n2)C2CCCC2)n1')\n"
   ]
  },
  {
   "cell_type": "code",
   "execution_count": 74,
   "id": "6f8f9e9a",
   "metadata": {},
   "outputs": [
    {
     "name": "stdout",
     "output_type": "stream",
     "text": [
      "More than 1 warhead found. Choosing first match.\n",
      "Cc1cccc(C[C@H](NC(=O)c2cc(C(C)(C)C)nn2C)C(=O)NC[13CH]=N)c1\n"
     ]
    }
   ],
   "source": [
    "def remove_leaving_group(smiles):\n",
    "    mol = Chem.MolFromSmiles(smiles)\n",
    "    wh_type = identify_warhead(smiles)\n",
    "\n",
    "    rxn = AllChem.ReactionFromSmarts(WARHEAD_REACTIONS[wh_type])\n",
    "\n",
    "    products = rxn.RunReactants((mol,))\n",
    "\n",
    "    for prod_tuple in products: # returns ((<rdkit.Chem.rdchem.Mol object at 0x14d267c24040>,),) \n",
    "        for prod in prod_tuple:\n",
    "            smi_no_lg = Chem.MolToSmiles(prod)\n",
    "\n",
    "    lig_atom = ligand_cov_atom(smi_no_lg)\n",
    "    print(smi_no_lg)\n",
    "    smi_no_c13 = smi_no_lg.replace(\"13\", \"\")\n",
    "\n",
    "    return smi_no_c13, lig_atom, wh_type\n",
    "\n",
    "smi_no_c13, lig_atom, wh_type = remove_leaving_group(smiles)"
   ]
  },
  {
   "cell_type": "code",
   "execution_count": 72,
   "id": "23434c23",
   "metadata": {},
   "outputs": [
    {
     "data": {
      "text/plain": [
       "'C25'"
      ]
     },
     "execution_count": 72,
     "metadata": {},
     "output_type": "execute_result"
    }
   ],
   "source": [
    "lig_atom"
   ]
  },
  {
   "cell_type": "code",
   "execution_count": 70,
   "id": "ece9dc4c",
   "metadata": {},
   "outputs": [],
   "source": [
    "import rdkit\n",
    "import os\n",
    "import pickle\n",
    "import string\n",
    "import random\n",
    "from pdbeccdutils.core.component import ConformerType\n",
    "\n",
    "def unique_ccd(length=5, max_attempts=10, ccd_db=\"/home/ymanasa/.bolts/mols\"):\n",
    "    '''Generates a unique alphanumeric string of specified length and ensures uniqueness.'''\n",
    "    chars = string.ascii_uppercase + string.digits\n",
    "\n",
    "    for _ in range(max_attempts):\n",
    "        ccd = ''.join(random.choices(chars, k=length))\n",
    "        if not os.path.exists(f\"{ccd_db}/{ccd}.pkl\"):\n",
    "            return ccd\n",
    "    raise RuntimeError(\"Could not find an available CCD after max attempts.\")\n",
    "\n",
    "def process_covalent_smiles(smiles, ccd_db=\"/home/ymanasa/.boltz/mols\"):\n",
    "    '''\n",
    "    Creates a covalent CCD ligand from a conanical SMILES string using Rdkit.\n",
    "    :param smiles (str): Sanitized canonical SMILES string of the covalent ligand.\n",
    "    :param ccd_db (str): Path to the CCD database directory where .pkl files are stored.\n",
    "    :return (str): Unique CCD code for the covalent ligand.\n",
    "    '''\n",
    "    mol_sdf = Chem.MolFromSmiles(smiles) \n",
    "\n",
    "    success = compute_3d(mol_sdf)\n",
    "    if not success:\n",
    "        raise ValueError(\"3D coordinate generation failed for the provided SMILES.\")\n",
    "    _ = get_conformer(mol_sdf, ConformerType.Computed)\n",
    "\n",
    "    for i, atom in enumerate(mol_sdf.GetAtoms()):\n",
    "        atom_id = atom.GetSymbol()+ str(atom.GetIdx())\n",
    "        atom.SetProp(\"name\", atom_id)\n",
    "    \n",
    "    Chem.SetDefaultPickleProperties(Chem.PropertyPickleOptions.AllProps)\n",
    "    ccd = unique_ccd(ccd_db=ccd_db)\n",
    "    with open(f\"{ccd_db}/{ccd}.pkl\", \"wb\") as f:\n",
    "        pickle.dump(mol_sdf, f)\n",
    "    return ccd\n",
    "\n",
    "def compute_3d(mol) -> bool:\n",
    "    '''Generate 3D coordinates using EKTDG method.\n",
    "    Taken from `pdbeccdutils.core.component.Component`.\n",
    "    :param mol: Mol\n",
    "        The RDKit molecule to process\n",
    "    :return: bool \n",
    "        Whether computation was successful.\n",
    "    '''\n",
    "    options = rdkit.Chem.AllChem.ETKDGv3()\n",
    "    options.clearConfs = False\n",
    "    conf_id = -1\n",
    "\n",
    "    try:\n",
    "        conf_id = rdkit.Chem.AllChem.EmbedMolecule(mol, options)\n",
    "        rdkit.Chem.AllChem.UFFOptimizeMolecule(mol, confId=conf_id, maxIters=1000)\n",
    "\n",
    "    except RuntimeError:\n",
    "        pass  # Force field issue here\n",
    "    except ValueError:\n",
    "        pass  # sanitization issue here\n",
    "\n",
    "    if conf_id != -1:\n",
    "        conformer = mol.GetConformer(conf_id)\n",
    "        conformer.SetProp(\"name\", ConformerType.Computed.name)\n",
    "        conformer.SetProp(\"coord_generation\", f\"ETKDGv3\")\n",
    "        \n",
    "        return True\n",
    "    return False\n",
    "\n",
    "def get_conformer(mol, c_type: ConformerType):\n",
    "    ''' \n",
    "    Retrieve an rdkit object for a deemed conformer.\n",
    "    Taken from `pdbeccdutils.core.component.Component`.\n",
    "    :param mol: Mol\n",
    "        The molecule to process.\n",
    "    :param c_type: ConformerType\n",
    "        The conformer type to extract.\n",
    "    :return: Conformer\n",
    "        The desired conformer, if any.\n",
    "    '''\n",
    "    for c in mol.GetConformers():\n",
    "        try:\n",
    "            if c.GetProp(\"name\") == c_type.name:\n",
    "                return c\n",
    "        except KeyError:  # noqa: PERF203\n",
    "            pass\n",
    "\n",
    "    msg = f\"Conformer {c_type.name} does not exist.\"\n",
    "    raise ValueError(msg)"
   ]
  },
  {
   "cell_type": "code",
   "execution_count": 71,
   "id": "32267ca2",
   "metadata": {},
   "outputs": [
    {
     "name": "stderr",
     "output_type": "stream",
     "text": [
      "[10:31:11] Molecule does not have explicit Hs. Consider calling AddHs()\n",
      "[10:31:11] Molecule does not have explicit Hs. Consider calling AddHs()\n"
     ]
    },
    {
     "data": {
      "text/plain": [
       "'IM1WU'"
      ]
     },
     "execution_count": 71,
     "metadata": {},
     "output_type": "execute_result"
    }
   ],
   "source": [
    "process_covalent_smiles(smi_no_c13)"
   ]
  },
  {
   "cell_type": "code",
   "execution_count": null,
   "id": "35e288d4",
   "metadata": {},
   "outputs": [],
   "source": []
  },
  {
   "cell_type": "markdown",
   "id": "29380552",
   "metadata": {},
   "source": [
    "### Final testing of big scripts\n",
    "1. preprocessing/make_input_csv.py\n",
    "2. setup_cov_jobs.py\n",
    "3. submit_jobs.py \n"
   ]
  },
  {
   "cell_type": "code",
   "execution_count": 1,
   "id": "060198b5",
   "metadata": {},
   "outputs": [
    {
     "name": "stdout",
     "output_type": "stream",
     "text": [
      "Environment variables set successfully.\n",
      "[SUCCESS] Leaving group removed: N=[CH]c1nc(N2CCOCC2)nc(N(Cc2cn3ccccc3n2)C2CCCC2)n1\n",
      "[WARNING] More than 1 warhead found. Choosing first match.\n",
      "[SUCCESS] Leaving group removed: Cc1cccc(C[C@H](NC(=O)c2cc(C(C)(C)C)nn2C)C(=O)NC[CH]=N)c1\n",
      "[WARNING] More than 1 warhead found. Choosing first match.\n",
      "[SUCCESS] Leaving group removed: Cc1cccc(C[C@H](NC(=O)c2cccc(C(F)(F)F)c2)C(=O)NC[CH]=N)c1\n",
      "[WARNING] More than 1 warhead found. Choosing first match.\n",
      "[SUCCESS] Leaving group removed: Cc1cccc(C[C@H](NC(=O)c2cccc(C(C)(C)C)c2)C(=O)NC[CH]=N)c1\n"
     ]
    },
    {
     "name": "stderr",
     "output_type": "stream",
     "text": [
      "[13:00:29] Molecule does not have explicit Hs. Consider calling AddHs()\n",
      "[13:00:29] Molecule does not have explicit Hs. Consider calling AddHs()\n",
      "[13:00:29] Molecule does not have explicit Hs. Consider calling AddHs()\n",
      "[13:00:29] Molecule does not have explicit Hs. Consider calling AddHs()\n",
      "[13:00:29] Molecule does not have explicit Hs. Consider calling AddHs()\n",
      "[13:00:29] Molecule does not have explicit Hs. Consider calling AddHs()\n",
      "[13:00:29] Molecule does not have explicit Hs. Consider calling AddHs()\n",
      "[13:00:29] Molecule does not have explicit Hs. Consider calling AddHs()\n"
     ]
    }
   ],
   "source": [
    "import make_input_csv\n",
    "make_input_csv.generate_csv(name='5MAJ', prot_file='test/5MAJ.pdb', res_idx=25, lig_csv='test/test_ligs.csv', out_csv='test/test_out.csv', ccd_db=\"/home/ymanasa/.boltz/mols\")"
   ]
  },
  {
   "cell_type": "code",
   "execution_count": null,
   "id": "c771687a",
   "metadata": {},
   "outputs": [
    {
     "name": "stdout",
     "output_type": "stream",
     "text": [
      "/nfs/turbo/umms-maom/ymanasa/opt/maom_boltz/covalent_scripts/preprocessing\n",
      "Environment variables set successfully.\n",
      "[DONE] yamls were written in working/\n"
     ]
    },
    {
     "name": "stderr",
     "output_type": "stream",
     "text": [
      "/bin/bash: which: line 1: syntax error: unexpected end of file\n",
      "/bin/bash: error importing function definition for `which'\n",
      "/bin/bash: module: line 1: syntax error: unexpected end of file\n",
      "/bin/bash: error importing function definition for `module'\n",
      "/bin/bash: ml: line 1: syntax error: unexpected end of file\n",
      "/bin/bash: error importing function definition for `ml'\n",
      "bash: which: line 1: syntax error: unexpected end of file\n",
      "bash: error importing function definition for `which'\n",
      "bash: ml: line 1: syntax error: unexpected end of file\n",
      "bash: error importing function definition for `ml'\n",
      "bash: module: line 1: syntax error: unexpected end of file\n",
      "bash: error importing function definition for `module'\n"
     ]
    },
    {
     "data": {
      "text/plain": [
       "['working/5MAJ_XJ7HZ.yaml',\n",
       " 'working/5MAJ_3IYNW.yaml',\n",
       " 'working/5MAJ_QZVL2.yaml',\n",
       " 'working/5MAJ_K45M9.yaml']"
      ]
     },
     "execution_count": 2,
     "metadata": {},
     "output_type": "execute_result"
    }
   ],
   "source": [
    "import os\n",
    "print(os.getcwd())\n",
    "os.chdir('/home/ymanasa/turbo/ymanasa/opt/maom_boltz/covalent_scripts')\n",
    "import setup_cov_yamls\n",
    "\n",
    "setup_cov_yamls.create_boltz_job(csv_file='preprocessing/test/test_out.csv', output_dir='test_yamls/')\n",
    "\n"
   ]
  },
  {
   "cell_type": "code",
   "execution_count": null,
   "id": "e2cb3ab6",
   "metadata": {},
   "outputs": [
    {
     "data": {
      "text/plain": [
       "'/nfs/turbo/umms-maom/ymanasa/opt/maom_boltz/covalent_scripts/preprocessing'"
      ]
     },
     "execution_count": 3,
     "metadata": {},
     "output_type": "execute_result"
    }
   ],
   "source": []
  },
  {
   "cell_type": "code",
   "execution_count": null,
   "id": "334134ad",
   "metadata": {},
   "outputs": [],
   "source": []
  },
  {
   "cell_type": "markdown",
   "id": "b264bd81",
   "metadata": {},
   "source": [
    "# Whole pipe testing"
   ]
  },
  {
   "cell_type": "code",
   "execution_count": 1,
   "id": "8665ed17",
   "metadata": {},
   "outputs": [
    {
     "name": "stdout",
     "output_type": "stream",
     "text": [
      "Environment variables set successfully.\n",
      "APRSVDWREKGYVTPVKNQGQCGSCWAFSATGALEGQMFRKTGRLISLSEQNLVDCSGPQGNEGCNGGLMDYAFQYVQDNGGLDSEESYPYEATEESCKYNPKYSVANDTGFVDIPKQEKALMKAVATVGPISVAIDAGHESFLFYKEGIYFEPDCSSEDMDHGVLVVGYGFESTSDNNKYWLVKNSWGEEWGMGGYVKMAKDRRNHCGIASAASYPTV CYS SG\n",
      "[WARNING] Output CSV 'test/test_out.csv' already exists. Deleting and rewriting.\n",
      "[SUCCESS] Leaving group removed: N=[CH]c1nc(N2CCOCC2)nc(N(Cc2cn3ccccc3n2)C2CCCC2)n1\n",
      "[WARNING] More than 1 warhead found. Choosing first match.\n",
      "[SUCCESS] Leaving group removed: Cc1cccc(C[C@H](NC(=O)c2cc(C(C)(C)C)nn2C)C(=O)NC[CH]=N)c1\n",
      "[WARNING] More than 1 warhead found. Choosing first match.\n",
      "[SUCCESS] Leaving group removed: Cc1cccc(C[C@H](NC(=O)c2cccc(C(F)(F)F)c2)C(=O)NC[CH]=N)c1\n"
     ]
    },
    {
     "name": "stderr",
     "output_type": "stream",
     "text": [
      "[13:25:50] Molecule does not have explicit Hs. Consider calling AddHs()\n",
      "[13:25:50] Molecule does not have explicit Hs. Consider calling AddHs()\n",
      "[13:25:50] Molecule does not have explicit Hs. Consider calling AddHs()\n",
      "[13:25:50] Molecule does not have explicit Hs. Consider calling AddHs()\n",
      "[13:25:51] Molecule does not have explicit Hs. Consider calling AddHs()\n"
     ]
    },
    {
     "name": "stdout",
     "output_type": "stream",
     "text": [
      "[WARNING] More than 1 warhead found. Choosing first match.\n",
      "[SUCCESS] Leaving group removed: Cc1cccc(C[C@H](NC(=O)c2cccc(C(C)(C)C)c2)C(=O)NC[CH]=N)c1\n"
     ]
    },
    {
     "name": "stderr",
     "output_type": "stream",
     "text": [
      "[13:25:51] Molecule does not have explicit Hs. Consider calling AddHs()\n",
      "[13:25:51] Molecule does not have explicit Hs. Consider calling AddHs()\n",
      "[13:25:51] Molecule does not have explicit Hs. Consider calling AddHs()\n"
     ]
    }
   ],
   "source": [
    "import make_input_csv \n",
    "make_input_csv.generate_csv(name='5MAJ',prot_file='test/5MAJ.pdb', res_idx=25, lig_chain='A', lig_csv='test/test_ligs.csv', out_csv='test/test_out.csv', ccd_db=\"/home/ymanasa/.boltz/mols\")"
   ]
  },
  {
   "cell_type": "code",
   "execution_count": 2,
   "id": "dca8500a",
   "metadata": {},
   "outputs": [
    {
     "name": "stdout",
     "output_type": "stream",
     "text": [
      "Environment variables set successfully.\n",
      "[DONE] yamls were written in /home/ymanasa/turbo/ymanasa/opt/maom_boltz/covalent_scripts/test_yamls\n"
     ]
    },
    {
     "name": "stderr",
     "output_type": "stream",
     "text": [
      "/bin/bash: which: line 1: syntax error: unexpected end of file\n",
      "/bin/bash: error importing function definition for `which'\n",
      "/bin/bash: module: line 1: syntax error: unexpected end of file\n",
      "/bin/bash: error importing function definition for `module'\n",
      "/bin/bash: ml: line 1: syntax error: unexpected end of file\n",
      "/bin/bash: error importing function definition for `ml'\n",
      "bash: which: line 1: syntax error: unexpected end of file\n",
      "bash: error importing function definition for `which'\n",
      "bash: ml: line 1: syntax error: unexpected end of file\n",
      "bash: error importing function definition for `ml'\n",
      "bash: module: line 1: syntax error: unexpected end of file\n",
      "bash: error importing function definition for `module'\n"
     ]
    }
   ],
   "source": [
    "from setup_cov_yamls import create_boltz_yamls\n",
    "\n",
    "output_direc= '/home/ymanasa/turbo/ymanasa/opt/maom_boltz/covalent_scripts/test_yamls'\n",
    "input_csv_file = '/home/ymanasa/turbo/ymanasa/opt/maom_boltz/covalent_scripts/preprocessing/test/test_out.csv'\n",
    "yaml_list = create_boltz_yamls(csv_file=input_csv_file, output_dir=output_direc)"
   ]
  },
  {
   "cell_type": "code",
   "execution_count": 3,
   "id": "7acc4ff3",
   "metadata": {},
   "outputs": [],
   "source": [
    "\n",
    "import os \n",
    "import shutil\n",
    "\n",
    "outdir = '/home/ymanasa/turbo/ymanasa/opt/maom_boltz/covalent_scripts/test_slurm'\n",
    "job_list_file = os.path.join(outdir, \"job_input_list.txt\")\n",
    "if os.path.exists(job_list_file):\n",
    "    os.remove(job_list_file) # because append is used later\n",
    "for yaml in yaml_list:\n",
    "    base_name = os.path.basename(yaml).replace(\".yaml\", \"\")\n",
    "    receptor = base_name.split(\"_\")[0]\n",
    "    receptor_lig = f'{base_name.split(\"_\")[0]}_{base_name.split(\"_\")[1]}'\n",
    "\n",
    "    pred_lig_dir = os.path.join(outdir, receptor, receptor_lig)\n",
    "\n",
    "    os.makedirs(pred_lig_dir, exist_ok=True)\n",
    "    shutil.copy(yaml, pred_lig_dir) #do move intead of copy later\n",
    "\n",
    "    yaml_path = os.path.join(pred_lig_dir, os.path.basename(yaml))\n",
    "\n",
    "    with open(job_list_file, 'a') as f: \n",
    "        f.write(f\"{yaml_path} {pred_lig_dir}\\n\")\n"
   ]
  },
  {
   "cell_type": "code",
   "execution_count": 1,
   "id": "f43e5853",
   "metadata": {},
   "outputs": [
    {
     "name": "stdout",
     "output_type": "stream",
     "text": [
      "Submitted batch job 33812418\n",
      "Submitting SLURM jobs...\n"
     ]
    },
    {
     "data": {
      "text/plain": [
       "CompletedProcess(args=['sbatch', '/home/ymanasa/turbo/ymanasa/opt/maom_boltz/covalent_scripts/preprocessing/covalent_slurm.sh', '/home/ymanasa/turbo/ymanasa/opt/maom_boltz/covalent_scripts/test_slurm/job_input_list.txt'], returncode=0)"
      ]
     },
     "execution_count": 1,
     "metadata": {},
     "output_type": "execute_result"
    }
   ],
   "source": [
    "import subprocess\n",
    "import os \n",
    "\n",
    "outdir = '/home/ymanasa/turbo/ymanasa/opt/maom_boltz/covalent_scripts/test_slurm'\n",
    "job_list_file = os.path.join(outdir, \"job_input_list.txt\")\n",
    "slurm_script = '/home/ymanasa/turbo/ymanasa/opt/maom_boltz/covalent_scripts/preprocessing/covalent_slurm.sh'\n",
    "\n",
    "result = subprocess.run(\n",
    "        [\"sbatch\", slurm_script, job_list_file],\n",
    "        check=True\n",
    "    )\n",
    "# runs 3 jobs at once for a total of 7 jobs submitted \n",
    "print(\"Submitting SLURM jobs...\")\n",
    "\n",
    "result "
   ]
  },
  {
   "cell_type": "code",
   "execution_count": 6,
   "id": "17e0d796",
   "metadata": {},
   "outputs": [
    {
     "data": {
      "text/plain": [
       "'generated_output.csv'"
      ]
     },
     "execution_count": 6,
     "metadata": {},
     "output_type": "execute_result"
    }
   ],
   "source": [
    "import os\n",
    "csv = 'generated.csv'\n",
    "out = 'output.csv'\n",
    "base_name = os.path.basename(out).replace(\".csv\", \"\")\n",
    "csv2 = f'generated_{base_name}.csv'\n",
    "csv2"
   ]
  }
 ],
 "metadata": {
  "kernelspec": {
   "display_name": "ccd_pkl",
   "language": "python",
   "name": "python3"
  },
  "language_info": {
   "codemirror_mode": {
    "name": "ipython",
    "version": 3
   },
   "file_extension": ".py",
   "mimetype": "text/x-python",
   "name": "python",
   "nbconvert_exporter": "python",
   "pygments_lexer": "ipython3",
   "version": "3.12.1"
  }
 },
 "nbformat": 4,
 "nbformat_minor": 5
}
